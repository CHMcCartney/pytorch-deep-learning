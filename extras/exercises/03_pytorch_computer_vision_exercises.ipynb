{
  "nbformat": 4,
  "nbformat_minor": 0,
  "metadata": {
    "colab": {
      "name": "03_pytorch_computer_vision_exercises.ipynb",
      "provenance": [],
      "include_colab_link": true
    },
    "kernelspec": {
      "name": "python3",
      "display_name": "Python 3"
    },
    "language_info": {
      "name": "python"
    },
    "accelerator": "GPU",
    "widgets": {
      "application/vnd.jupyter.widget-state+json": {
        "5e4f700bd04946c5b9ca72eb20760dc6": {
          "model_module": "@jupyter-widgets/controls",
          "model_name": "HBoxModel",
          "model_module_version": "1.5.0",
          "state": {
            "_dom_classes": [],
            "_model_module": "@jupyter-widgets/controls",
            "_model_module_version": "1.5.0",
            "_model_name": "HBoxModel",
            "_view_count": null,
            "_view_module": "@jupyter-widgets/controls",
            "_view_module_version": "1.5.0",
            "_view_name": "HBoxView",
            "box_style": "",
            "children": [
              "IPY_MODEL_bc7dbc259ed741ff969e060a8e7f70b0",
              "IPY_MODEL_e433d25ba663477d990aa29c65deed71",
              "IPY_MODEL_62ee2c7a9086428886008e6fdc9b5037"
            ],
            "layout": "IPY_MODEL_78bfffbb49fe4bcabb739b208e803fe5"
          }
        },
        "bc7dbc259ed741ff969e060a8e7f70b0": {
          "model_module": "@jupyter-widgets/controls",
          "model_name": "HTMLModel",
          "model_module_version": "1.5.0",
          "state": {
            "_dom_classes": [],
            "_model_module": "@jupyter-widgets/controls",
            "_model_module_version": "1.5.0",
            "_model_name": "HTMLModel",
            "_view_count": null,
            "_view_module": "@jupyter-widgets/controls",
            "_view_module_version": "1.5.0",
            "_view_name": "HTMLView",
            "description": "",
            "description_tooltip": null,
            "layout": "IPY_MODEL_c07eb37e67f74b3a9d6e37997a9ee3b5",
            "placeholder": "​",
            "style": "IPY_MODEL_548736d5ff2646b08267c4df2fca30d8",
            "value": "100%"
          }
        },
        "e433d25ba663477d990aa29c65deed71": {
          "model_module": "@jupyter-widgets/controls",
          "model_name": "FloatProgressModel",
          "model_module_version": "1.5.0",
          "state": {
            "_dom_classes": [],
            "_model_module": "@jupyter-widgets/controls",
            "_model_module_version": "1.5.0",
            "_model_name": "FloatProgressModel",
            "_view_count": null,
            "_view_module": "@jupyter-widgets/controls",
            "_view_module_version": "1.5.0",
            "_view_name": "ProgressView",
            "bar_style": "success",
            "description": "",
            "description_tooltip": null,
            "layout": "IPY_MODEL_3688e4e052bc4e9b86f6ff0465ad2410",
            "max": 5,
            "min": 0,
            "orientation": "horizontal",
            "style": "IPY_MODEL_a27e3b9d42be4f0fa1b5158cb53c7db2",
            "value": 5
          }
        },
        "62ee2c7a9086428886008e6fdc9b5037": {
          "model_module": "@jupyter-widgets/controls",
          "model_name": "HTMLModel",
          "model_module_version": "1.5.0",
          "state": {
            "_dom_classes": [],
            "_model_module": "@jupyter-widgets/controls",
            "_model_module_version": "1.5.0",
            "_model_name": "HTMLModel",
            "_view_count": null,
            "_view_module": "@jupyter-widgets/controls",
            "_view_module_version": "1.5.0",
            "_view_name": "HTMLView",
            "description": "",
            "description_tooltip": null,
            "layout": "IPY_MODEL_4c5649f1e8184ce08b9d31c7da0169e1",
            "placeholder": "​",
            "style": "IPY_MODEL_7c096919d1ed4f979fc45323b44c0878",
            "value": " 5/5 [03:15&lt;00:00, 39.02s/it]"
          }
        },
        "78bfffbb49fe4bcabb739b208e803fe5": {
          "model_module": "@jupyter-widgets/base",
          "model_name": "LayoutModel",
          "model_module_version": "1.2.0",
          "state": {
            "_model_module": "@jupyter-widgets/base",
            "_model_module_version": "1.2.0",
            "_model_name": "LayoutModel",
            "_view_count": null,
            "_view_module": "@jupyter-widgets/base",
            "_view_module_version": "1.2.0",
            "_view_name": "LayoutView",
            "align_content": null,
            "align_items": null,
            "align_self": null,
            "border": null,
            "bottom": null,
            "display": null,
            "flex": null,
            "flex_flow": null,
            "grid_area": null,
            "grid_auto_columns": null,
            "grid_auto_flow": null,
            "grid_auto_rows": null,
            "grid_column": null,
            "grid_gap": null,
            "grid_row": null,
            "grid_template_areas": null,
            "grid_template_columns": null,
            "grid_template_rows": null,
            "height": null,
            "justify_content": null,
            "justify_items": null,
            "left": null,
            "margin": null,
            "max_height": null,
            "max_width": null,
            "min_height": null,
            "min_width": null,
            "object_fit": null,
            "object_position": null,
            "order": null,
            "overflow": null,
            "overflow_x": null,
            "overflow_y": null,
            "padding": null,
            "right": null,
            "top": null,
            "visibility": null,
            "width": null
          }
        },
        "c07eb37e67f74b3a9d6e37997a9ee3b5": {
          "model_module": "@jupyter-widgets/base",
          "model_name": "LayoutModel",
          "model_module_version": "1.2.0",
          "state": {
            "_model_module": "@jupyter-widgets/base",
            "_model_module_version": "1.2.0",
            "_model_name": "LayoutModel",
            "_view_count": null,
            "_view_module": "@jupyter-widgets/base",
            "_view_module_version": "1.2.0",
            "_view_name": "LayoutView",
            "align_content": null,
            "align_items": null,
            "align_self": null,
            "border": null,
            "bottom": null,
            "display": null,
            "flex": null,
            "flex_flow": null,
            "grid_area": null,
            "grid_auto_columns": null,
            "grid_auto_flow": null,
            "grid_auto_rows": null,
            "grid_column": null,
            "grid_gap": null,
            "grid_row": null,
            "grid_template_areas": null,
            "grid_template_columns": null,
            "grid_template_rows": null,
            "height": null,
            "justify_content": null,
            "justify_items": null,
            "left": null,
            "margin": null,
            "max_height": null,
            "max_width": null,
            "min_height": null,
            "min_width": null,
            "object_fit": null,
            "object_position": null,
            "order": null,
            "overflow": null,
            "overflow_x": null,
            "overflow_y": null,
            "padding": null,
            "right": null,
            "top": null,
            "visibility": null,
            "width": null
          }
        },
        "548736d5ff2646b08267c4df2fca30d8": {
          "model_module": "@jupyter-widgets/controls",
          "model_name": "DescriptionStyleModel",
          "model_module_version": "1.5.0",
          "state": {
            "_model_module": "@jupyter-widgets/controls",
            "_model_module_version": "1.5.0",
            "_model_name": "DescriptionStyleModel",
            "_view_count": null,
            "_view_module": "@jupyter-widgets/base",
            "_view_module_version": "1.2.0",
            "_view_name": "StyleView",
            "description_width": ""
          }
        },
        "3688e4e052bc4e9b86f6ff0465ad2410": {
          "model_module": "@jupyter-widgets/base",
          "model_name": "LayoutModel",
          "model_module_version": "1.2.0",
          "state": {
            "_model_module": "@jupyter-widgets/base",
            "_model_module_version": "1.2.0",
            "_model_name": "LayoutModel",
            "_view_count": null,
            "_view_module": "@jupyter-widgets/base",
            "_view_module_version": "1.2.0",
            "_view_name": "LayoutView",
            "align_content": null,
            "align_items": null,
            "align_self": null,
            "border": null,
            "bottom": null,
            "display": null,
            "flex": null,
            "flex_flow": null,
            "grid_area": null,
            "grid_auto_columns": null,
            "grid_auto_flow": null,
            "grid_auto_rows": null,
            "grid_column": null,
            "grid_gap": null,
            "grid_row": null,
            "grid_template_areas": null,
            "grid_template_columns": null,
            "grid_template_rows": null,
            "height": null,
            "justify_content": null,
            "justify_items": null,
            "left": null,
            "margin": null,
            "max_height": null,
            "max_width": null,
            "min_height": null,
            "min_width": null,
            "object_fit": null,
            "object_position": null,
            "order": null,
            "overflow": null,
            "overflow_x": null,
            "overflow_y": null,
            "padding": null,
            "right": null,
            "top": null,
            "visibility": null,
            "width": null
          }
        },
        "a27e3b9d42be4f0fa1b5158cb53c7db2": {
          "model_module": "@jupyter-widgets/controls",
          "model_name": "ProgressStyleModel",
          "model_module_version": "1.5.0",
          "state": {
            "_model_module": "@jupyter-widgets/controls",
            "_model_module_version": "1.5.0",
            "_model_name": "ProgressStyleModel",
            "_view_count": null,
            "_view_module": "@jupyter-widgets/base",
            "_view_module_version": "1.2.0",
            "_view_name": "StyleView",
            "bar_color": null,
            "description_width": ""
          }
        },
        "4c5649f1e8184ce08b9d31c7da0169e1": {
          "model_module": "@jupyter-widgets/base",
          "model_name": "LayoutModel",
          "model_module_version": "1.2.0",
          "state": {
            "_model_module": "@jupyter-widgets/base",
            "_model_module_version": "1.2.0",
            "_model_name": "LayoutModel",
            "_view_count": null,
            "_view_module": "@jupyter-widgets/base",
            "_view_module_version": "1.2.0",
            "_view_name": "LayoutView",
            "align_content": null,
            "align_items": null,
            "align_self": null,
            "border": null,
            "bottom": null,
            "display": null,
            "flex": null,
            "flex_flow": null,
            "grid_area": null,
            "grid_auto_columns": null,
            "grid_auto_flow": null,
            "grid_auto_rows": null,
            "grid_column": null,
            "grid_gap": null,
            "grid_row": null,
            "grid_template_areas": null,
            "grid_template_columns": null,
            "grid_template_rows": null,
            "height": null,
            "justify_content": null,
            "justify_items": null,
            "left": null,
            "margin": null,
            "max_height": null,
            "max_width": null,
            "min_height": null,
            "min_width": null,
            "object_fit": null,
            "object_position": null,
            "order": null,
            "overflow": null,
            "overflow_x": null,
            "overflow_y": null,
            "padding": null,
            "right": null,
            "top": null,
            "visibility": null,
            "width": null
          }
        },
        "7c096919d1ed4f979fc45323b44c0878": {
          "model_module": "@jupyter-widgets/controls",
          "model_name": "DescriptionStyleModel",
          "model_module_version": "1.5.0",
          "state": {
            "_model_module": "@jupyter-widgets/controls",
            "_model_module_version": "1.5.0",
            "_model_name": "DescriptionStyleModel",
            "_view_count": null,
            "_view_module": "@jupyter-widgets/base",
            "_view_module_version": "1.2.0",
            "_view_name": "StyleView",
            "description_width": ""
          }
        },
        "0ee03a7b0c3e4add870dc3eefafa36b4": {
          "model_module": "@jupyter-widgets/controls",
          "model_name": "HBoxModel",
          "model_module_version": "1.5.0",
          "state": {
            "_dom_classes": [],
            "_model_module": "@jupyter-widgets/controls",
            "_model_module_version": "1.5.0",
            "_model_name": "HBoxModel",
            "_view_count": null,
            "_view_module": "@jupyter-widgets/controls",
            "_view_module_version": "1.5.0",
            "_view_name": "HBoxView",
            "box_style": "",
            "children": [
              "IPY_MODEL_78af188656bd4da88e7ebf720f969d8a",
              "IPY_MODEL_9b04ee4e2e754619b1ccea2bef56ef91",
              "IPY_MODEL_c291ecaa66fe438f82a83569248afcbe"
            ],
            "layout": "IPY_MODEL_5e1f0eb564ae467b99c5118968acfe2c"
          }
        },
        "78af188656bd4da88e7ebf720f969d8a": {
          "model_module": "@jupyter-widgets/controls",
          "model_name": "HTMLModel",
          "model_module_version": "1.5.0",
          "state": {
            "_dom_classes": [],
            "_model_module": "@jupyter-widgets/controls",
            "_model_module_version": "1.5.0",
            "_model_name": "HTMLModel",
            "_view_count": null,
            "_view_module": "@jupyter-widgets/controls",
            "_view_module_version": "1.5.0",
            "_view_name": "HTMLView",
            "description": "",
            "description_tooltip": null,
            "layout": "IPY_MODEL_f1c089377480421cb9c10d8b7e5ef3b6",
            "placeholder": "​",
            "style": "IPY_MODEL_b9b7c232a4cb4928a86655fe456d9d7c",
            "value": ""
          }
        },
        "9b04ee4e2e754619b1ccea2bef56ef91": {
          "model_module": "@jupyter-widgets/controls",
          "model_name": "FloatProgressModel",
          "model_module_version": "1.5.0",
          "state": {
            "_dom_classes": [],
            "_model_module": "@jupyter-widgets/controls",
            "_model_module_version": "1.5.0",
            "_model_name": "FloatProgressModel",
            "_view_count": null,
            "_view_module": "@jupyter-widgets/controls",
            "_view_module_version": "1.5.0",
            "_view_name": "ProgressView",
            "bar_style": "success",
            "description": "",
            "description_tooltip": null,
            "layout": "IPY_MODEL_8d76f0a6a1044cf883abafd4bc10ca75",
            "max": 1,
            "min": 0,
            "orientation": "horizontal",
            "style": "IPY_MODEL_9ddef0e79665438db44a9670ba4a47b0",
            "value": 1
          }
        },
        "c291ecaa66fe438f82a83569248afcbe": {
          "model_module": "@jupyter-widgets/controls",
          "model_name": "HTMLModel",
          "model_module_version": "1.5.0",
          "state": {
            "_dom_classes": [],
            "_model_module": "@jupyter-widgets/controls",
            "_model_module_version": "1.5.0",
            "_model_name": "HTMLModel",
            "_view_count": null,
            "_view_module": "@jupyter-widgets/controls",
            "_view_module_version": "1.5.0",
            "_view_name": "HTMLView",
            "description": "",
            "description_tooltip": null,
            "layout": "IPY_MODEL_105b7d296cb94471b10a2ef48259006b",
            "placeholder": "​",
            "style": "IPY_MODEL_440516c8549c4ef7a809d6f478b74257",
            "value": " 313/? [00:02&lt;00:00, 117.52it/s]"
          }
        },
        "5e1f0eb564ae467b99c5118968acfe2c": {
          "model_module": "@jupyter-widgets/base",
          "model_name": "LayoutModel",
          "model_module_version": "1.2.0",
          "state": {
            "_model_module": "@jupyter-widgets/base",
            "_model_module_version": "1.2.0",
            "_model_name": "LayoutModel",
            "_view_count": null,
            "_view_module": "@jupyter-widgets/base",
            "_view_module_version": "1.2.0",
            "_view_name": "LayoutView",
            "align_content": null,
            "align_items": null,
            "align_self": null,
            "border": null,
            "bottom": null,
            "display": null,
            "flex": null,
            "flex_flow": null,
            "grid_area": null,
            "grid_auto_columns": null,
            "grid_auto_flow": null,
            "grid_auto_rows": null,
            "grid_column": null,
            "grid_gap": null,
            "grid_row": null,
            "grid_template_areas": null,
            "grid_template_columns": null,
            "grid_template_rows": null,
            "height": null,
            "justify_content": null,
            "justify_items": null,
            "left": null,
            "margin": null,
            "max_height": null,
            "max_width": null,
            "min_height": null,
            "min_width": null,
            "object_fit": null,
            "object_position": null,
            "order": null,
            "overflow": null,
            "overflow_x": null,
            "overflow_y": null,
            "padding": null,
            "right": null,
            "top": null,
            "visibility": null,
            "width": null
          }
        },
        "f1c089377480421cb9c10d8b7e5ef3b6": {
          "model_module": "@jupyter-widgets/base",
          "model_name": "LayoutModel",
          "model_module_version": "1.2.0",
          "state": {
            "_model_module": "@jupyter-widgets/base",
            "_model_module_version": "1.2.0",
            "_model_name": "LayoutModel",
            "_view_count": null,
            "_view_module": "@jupyter-widgets/base",
            "_view_module_version": "1.2.0",
            "_view_name": "LayoutView",
            "align_content": null,
            "align_items": null,
            "align_self": null,
            "border": null,
            "bottom": null,
            "display": null,
            "flex": null,
            "flex_flow": null,
            "grid_area": null,
            "grid_auto_columns": null,
            "grid_auto_flow": null,
            "grid_auto_rows": null,
            "grid_column": null,
            "grid_gap": null,
            "grid_row": null,
            "grid_template_areas": null,
            "grid_template_columns": null,
            "grid_template_rows": null,
            "height": null,
            "justify_content": null,
            "justify_items": null,
            "left": null,
            "margin": null,
            "max_height": null,
            "max_width": null,
            "min_height": null,
            "min_width": null,
            "object_fit": null,
            "object_position": null,
            "order": null,
            "overflow": null,
            "overflow_x": null,
            "overflow_y": null,
            "padding": null,
            "right": null,
            "top": null,
            "visibility": null,
            "width": null
          }
        },
        "b9b7c232a4cb4928a86655fe456d9d7c": {
          "model_module": "@jupyter-widgets/controls",
          "model_name": "DescriptionStyleModel",
          "model_module_version": "1.5.0",
          "state": {
            "_model_module": "@jupyter-widgets/controls",
            "_model_module_version": "1.5.0",
            "_model_name": "DescriptionStyleModel",
            "_view_count": null,
            "_view_module": "@jupyter-widgets/base",
            "_view_module_version": "1.2.0",
            "_view_name": "StyleView",
            "description_width": ""
          }
        },
        "8d76f0a6a1044cf883abafd4bc10ca75": {
          "model_module": "@jupyter-widgets/base",
          "model_name": "LayoutModel",
          "model_module_version": "1.2.0",
          "state": {
            "_model_module": "@jupyter-widgets/base",
            "_model_module_version": "1.2.0",
            "_model_name": "LayoutModel",
            "_view_count": null,
            "_view_module": "@jupyter-widgets/base",
            "_view_module_version": "1.2.0",
            "_view_name": "LayoutView",
            "align_content": null,
            "align_items": null,
            "align_self": null,
            "border": null,
            "bottom": null,
            "display": null,
            "flex": null,
            "flex_flow": null,
            "grid_area": null,
            "grid_auto_columns": null,
            "grid_auto_flow": null,
            "grid_auto_rows": null,
            "grid_column": null,
            "grid_gap": null,
            "grid_row": null,
            "grid_template_areas": null,
            "grid_template_columns": null,
            "grid_template_rows": null,
            "height": null,
            "justify_content": null,
            "justify_items": null,
            "left": null,
            "margin": null,
            "max_height": null,
            "max_width": null,
            "min_height": null,
            "min_width": null,
            "object_fit": null,
            "object_position": null,
            "order": null,
            "overflow": null,
            "overflow_x": null,
            "overflow_y": null,
            "padding": null,
            "right": null,
            "top": null,
            "visibility": null,
            "width": "20px"
          }
        },
        "9ddef0e79665438db44a9670ba4a47b0": {
          "model_module": "@jupyter-widgets/controls",
          "model_name": "ProgressStyleModel",
          "model_module_version": "1.5.0",
          "state": {
            "_model_module": "@jupyter-widgets/controls",
            "_model_module_version": "1.5.0",
            "_model_name": "ProgressStyleModel",
            "_view_count": null,
            "_view_module": "@jupyter-widgets/base",
            "_view_module_version": "1.2.0",
            "_view_name": "StyleView",
            "bar_color": null,
            "description_width": ""
          }
        },
        "105b7d296cb94471b10a2ef48259006b": {
          "model_module": "@jupyter-widgets/base",
          "model_name": "LayoutModel",
          "model_module_version": "1.2.0",
          "state": {
            "_model_module": "@jupyter-widgets/base",
            "_model_module_version": "1.2.0",
            "_model_name": "LayoutModel",
            "_view_count": null,
            "_view_module": "@jupyter-widgets/base",
            "_view_module_version": "1.2.0",
            "_view_name": "LayoutView",
            "align_content": null,
            "align_items": null,
            "align_self": null,
            "border": null,
            "bottom": null,
            "display": null,
            "flex": null,
            "flex_flow": null,
            "grid_area": null,
            "grid_auto_columns": null,
            "grid_auto_flow": null,
            "grid_auto_rows": null,
            "grid_column": null,
            "grid_gap": null,
            "grid_row": null,
            "grid_template_areas": null,
            "grid_template_columns": null,
            "grid_template_rows": null,
            "height": null,
            "justify_content": null,
            "justify_items": null,
            "left": null,
            "margin": null,
            "max_height": null,
            "max_width": null,
            "min_height": null,
            "min_width": null,
            "object_fit": null,
            "object_position": null,
            "order": null,
            "overflow": null,
            "overflow_x": null,
            "overflow_y": null,
            "padding": null,
            "right": null,
            "top": null,
            "visibility": null,
            "width": null
          }
        },
        "440516c8549c4ef7a809d6f478b74257": {
          "model_module": "@jupyter-widgets/controls",
          "model_name": "DescriptionStyleModel",
          "model_module_version": "1.5.0",
          "state": {
            "_model_module": "@jupyter-widgets/controls",
            "_model_module_version": "1.5.0",
            "_model_name": "DescriptionStyleModel",
            "_view_count": null,
            "_view_module": "@jupyter-widgets/base",
            "_view_module_version": "1.2.0",
            "_view_name": "StyleView",
            "description_width": ""
          }
        },
        "5753d9f6816e4f0b86e460805fab1f09": {
          "model_module": "@jupyter-widgets/controls",
          "model_name": "HBoxModel",
          "model_module_version": "1.5.0",
          "state": {
            "_dom_classes": [],
            "_model_module": "@jupyter-widgets/controls",
            "_model_module_version": "1.5.0",
            "_model_name": "HBoxModel",
            "_view_count": null,
            "_view_module": "@jupyter-widgets/controls",
            "_view_module_version": "1.5.0",
            "_view_name": "HBoxView",
            "box_style": "",
            "children": [
              "IPY_MODEL_566d6a58915f4ef7a10825106958c7e7",
              "IPY_MODEL_7a7ae0134b424530ae425305e7024482",
              "IPY_MODEL_2d1c8601e8824570a9320bbe07f8ae15"
            ],
            "layout": "IPY_MODEL_21c0de0e041547618e66bc8397aca270"
          }
        },
        "566d6a58915f4ef7a10825106958c7e7": {
          "model_module": "@jupyter-widgets/controls",
          "model_name": "HTMLModel",
          "model_module_version": "1.5.0",
          "state": {
            "_dom_classes": [],
            "_model_module": "@jupyter-widgets/controls",
            "_model_module_version": "1.5.0",
            "_model_name": "HTMLModel",
            "_view_count": null,
            "_view_module": "@jupyter-widgets/controls",
            "_view_module_version": "1.5.0",
            "_view_name": "HTMLView",
            "description": "",
            "description_tooltip": null,
            "layout": "IPY_MODEL_4b7eaadafb164e2da7ac7be15af5e18b",
            "placeholder": "​",
            "style": "IPY_MODEL_1eea9520ea92481d9e672ec432f55a23",
            "value": "100%"
          }
        },
        "7a7ae0134b424530ae425305e7024482": {
          "model_module": "@jupyter-widgets/controls",
          "model_name": "FloatProgressModel",
          "model_module_version": "1.5.0",
          "state": {
            "_dom_classes": [],
            "_model_module": "@jupyter-widgets/controls",
            "_model_module_version": "1.5.0",
            "_model_name": "FloatProgressModel",
            "_view_count": null,
            "_view_module": "@jupyter-widgets/controls",
            "_view_module_version": "1.5.0",
            "_view_name": "ProgressView",
            "bar_style": "success",
            "description": "",
            "description_tooltip": null,
            "layout": "IPY_MODEL_1509cb7f49c14720a8ed878c1b3a6a9a",
            "max": 5,
            "min": 0,
            "orientation": "horizontal",
            "style": "IPY_MODEL_757eb625bbfc42ed9293ccec47603bfd",
            "value": 5
          }
        },
        "2d1c8601e8824570a9320bbe07f8ae15": {
          "model_module": "@jupyter-widgets/controls",
          "model_name": "HTMLModel",
          "model_module_version": "1.5.0",
          "state": {
            "_dom_classes": [],
            "_model_module": "@jupyter-widgets/controls",
            "_model_module_version": "1.5.0",
            "_model_name": "HTMLModel",
            "_view_count": null,
            "_view_module": "@jupyter-widgets/controls",
            "_view_module_version": "1.5.0",
            "_view_name": "HTMLView",
            "description": "",
            "description_tooltip": null,
            "layout": "IPY_MODEL_88909237f671491dadb1acd1b8542dd0",
            "placeholder": "​",
            "style": "IPY_MODEL_cc8b9e44b8ef4ec392580031d564cb62",
            "value": " 5/5 [03:22&lt;00:00, 40.40s/it]"
          }
        },
        "21c0de0e041547618e66bc8397aca270": {
          "model_module": "@jupyter-widgets/base",
          "model_name": "LayoutModel",
          "model_module_version": "1.2.0",
          "state": {
            "_model_module": "@jupyter-widgets/base",
            "_model_module_version": "1.2.0",
            "_model_name": "LayoutModel",
            "_view_count": null,
            "_view_module": "@jupyter-widgets/base",
            "_view_module_version": "1.2.0",
            "_view_name": "LayoutView",
            "align_content": null,
            "align_items": null,
            "align_self": null,
            "border": null,
            "bottom": null,
            "display": null,
            "flex": null,
            "flex_flow": null,
            "grid_area": null,
            "grid_auto_columns": null,
            "grid_auto_flow": null,
            "grid_auto_rows": null,
            "grid_column": null,
            "grid_gap": null,
            "grid_row": null,
            "grid_template_areas": null,
            "grid_template_columns": null,
            "grid_template_rows": null,
            "height": null,
            "justify_content": null,
            "justify_items": null,
            "left": null,
            "margin": null,
            "max_height": null,
            "max_width": null,
            "min_height": null,
            "min_width": null,
            "object_fit": null,
            "object_position": null,
            "order": null,
            "overflow": null,
            "overflow_x": null,
            "overflow_y": null,
            "padding": null,
            "right": null,
            "top": null,
            "visibility": null,
            "width": null
          }
        },
        "4b7eaadafb164e2da7ac7be15af5e18b": {
          "model_module": "@jupyter-widgets/base",
          "model_name": "LayoutModel",
          "model_module_version": "1.2.0",
          "state": {
            "_model_module": "@jupyter-widgets/base",
            "_model_module_version": "1.2.0",
            "_model_name": "LayoutModel",
            "_view_count": null,
            "_view_module": "@jupyter-widgets/base",
            "_view_module_version": "1.2.0",
            "_view_name": "LayoutView",
            "align_content": null,
            "align_items": null,
            "align_self": null,
            "border": null,
            "bottom": null,
            "display": null,
            "flex": null,
            "flex_flow": null,
            "grid_area": null,
            "grid_auto_columns": null,
            "grid_auto_flow": null,
            "grid_auto_rows": null,
            "grid_column": null,
            "grid_gap": null,
            "grid_row": null,
            "grid_template_areas": null,
            "grid_template_columns": null,
            "grid_template_rows": null,
            "height": null,
            "justify_content": null,
            "justify_items": null,
            "left": null,
            "margin": null,
            "max_height": null,
            "max_width": null,
            "min_height": null,
            "min_width": null,
            "object_fit": null,
            "object_position": null,
            "order": null,
            "overflow": null,
            "overflow_x": null,
            "overflow_y": null,
            "padding": null,
            "right": null,
            "top": null,
            "visibility": null,
            "width": null
          }
        },
        "1eea9520ea92481d9e672ec432f55a23": {
          "model_module": "@jupyter-widgets/controls",
          "model_name": "DescriptionStyleModel",
          "model_module_version": "1.5.0",
          "state": {
            "_model_module": "@jupyter-widgets/controls",
            "_model_module_version": "1.5.0",
            "_model_name": "DescriptionStyleModel",
            "_view_count": null,
            "_view_module": "@jupyter-widgets/base",
            "_view_module_version": "1.2.0",
            "_view_name": "StyleView",
            "description_width": ""
          }
        },
        "1509cb7f49c14720a8ed878c1b3a6a9a": {
          "model_module": "@jupyter-widgets/base",
          "model_name": "LayoutModel",
          "model_module_version": "1.2.0",
          "state": {
            "_model_module": "@jupyter-widgets/base",
            "_model_module_version": "1.2.0",
            "_model_name": "LayoutModel",
            "_view_count": null,
            "_view_module": "@jupyter-widgets/base",
            "_view_module_version": "1.2.0",
            "_view_name": "LayoutView",
            "align_content": null,
            "align_items": null,
            "align_self": null,
            "border": null,
            "bottom": null,
            "display": null,
            "flex": null,
            "flex_flow": null,
            "grid_area": null,
            "grid_auto_columns": null,
            "grid_auto_flow": null,
            "grid_auto_rows": null,
            "grid_column": null,
            "grid_gap": null,
            "grid_row": null,
            "grid_template_areas": null,
            "grid_template_columns": null,
            "grid_template_rows": null,
            "height": null,
            "justify_content": null,
            "justify_items": null,
            "left": null,
            "margin": null,
            "max_height": null,
            "max_width": null,
            "min_height": null,
            "min_width": null,
            "object_fit": null,
            "object_position": null,
            "order": null,
            "overflow": null,
            "overflow_x": null,
            "overflow_y": null,
            "padding": null,
            "right": null,
            "top": null,
            "visibility": null,
            "width": null
          }
        },
        "757eb625bbfc42ed9293ccec47603bfd": {
          "model_module": "@jupyter-widgets/controls",
          "model_name": "ProgressStyleModel",
          "model_module_version": "1.5.0",
          "state": {
            "_model_module": "@jupyter-widgets/controls",
            "_model_module_version": "1.5.0",
            "_model_name": "ProgressStyleModel",
            "_view_count": null,
            "_view_module": "@jupyter-widgets/base",
            "_view_module_version": "1.2.0",
            "_view_name": "StyleView",
            "bar_color": null,
            "description_width": ""
          }
        },
        "88909237f671491dadb1acd1b8542dd0": {
          "model_module": "@jupyter-widgets/base",
          "model_name": "LayoutModel",
          "model_module_version": "1.2.0",
          "state": {
            "_model_module": "@jupyter-widgets/base",
            "_model_module_version": "1.2.0",
            "_model_name": "LayoutModel",
            "_view_count": null,
            "_view_module": "@jupyter-widgets/base",
            "_view_module_version": "1.2.0",
            "_view_name": "LayoutView",
            "align_content": null,
            "align_items": null,
            "align_self": null,
            "border": null,
            "bottom": null,
            "display": null,
            "flex": null,
            "flex_flow": null,
            "grid_area": null,
            "grid_auto_columns": null,
            "grid_auto_flow": null,
            "grid_auto_rows": null,
            "grid_column": null,
            "grid_gap": null,
            "grid_row": null,
            "grid_template_areas": null,
            "grid_template_columns": null,
            "grid_template_rows": null,
            "height": null,
            "justify_content": null,
            "justify_items": null,
            "left": null,
            "margin": null,
            "max_height": null,
            "max_width": null,
            "min_height": null,
            "min_width": null,
            "object_fit": null,
            "object_position": null,
            "order": null,
            "overflow": null,
            "overflow_x": null,
            "overflow_y": null,
            "padding": null,
            "right": null,
            "top": null,
            "visibility": null,
            "width": null
          }
        },
        "cc8b9e44b8ef4ec392580031d564cb62": {
          "model_module": "@jupyter-widgets/controls",
          "model_name": "DescriptionStyleModel",
          "model_module_version": "1.5.0",
          "state": {
            "_model_module": "@jupyter-widgets/controls",
            "_model_module_version": "1.5.0",
            "_model_name": "DescriptionStyleModel",
            "_view_count": null,
            "_view_module": "@jupyter-widgets/base",
            "_view_module_version": "1.2.0",
            "_view_name": "StyleView",
            "description_width": ""
          }
        },
        "cae6cd4c80fa4a0c9f3c56b2d91440e3": {
          "model_module": "@jupyter-widgets/controls",
          "model_name": "HBoxModel",
          "model_module_version": "1.5.0",
          "state": {
            "_dom_classes": [],
            "_model_module": "@jupyter-widgets/controls",
            "_model_module_version": "1.5.0",
            "_model_name": "HBoxModel",
            "_view_count": null,
            "_view_module": "@jupyter-widgets/controls",
            "_view_module_version": "1.5.0",
            "_view_name": "HBoxView",
            "box_style": "",
            "children": [
              "IPY_MODEL_1043a09f08ae41f39d3416e08af094ab",
              "IPY_MODEL_0465829e231f48a5b61a4b53afbf795a",
              "IPY_MODEL_0d81b43fa9ba45b2adfcbcd7a6d3286c"
            ],
            "layout": "IPY_MODEL_3db52f089a2742859293e3a65799d7ec"
          }
        },
        "1043a09f08ae41f39d3416e08af094ab": {
          "model_module": "@jupyter-widgets/controls",
          "model_name": "HTMLModel",
          "model_module_version": "1.5.0",
          "state": {
            "_dom_classes": [],
            "_model_module": "@jupyter-widgets/controls",
            "_model_module_version": "1.5.0",
            "_model_name": "HTMLModel",
            "_view_count": null,
            "_view_module": "@jupyter-widgets/controls",
            "_view_module_version": "1.5.0",
            "_view_name": "HTMLView",
            "description": "",
            "description_tooltip": null,
            "layout": "IPY_MODEL_ddc531ed954246d69a8acf9acdc61c0b",
            "placeholder": "​",
            "style": "IPY_MODEL_dfe7af55eaf9448bb6031ee5f8a56f7f",
            "value": "100%"
          }
        },
        "0465829e231f48a5b61a4b53afbf795a": {
          "model_module": "@jupyter-widgets/controls",
          "model_name": "FloatProgressModel",
          "model_module_version": "1.5.0",
          "state": {
            "_dom_classes": [],
            "_model_module": "@jupyter-widgets/controls",
            "_model_module_version": "1.5.0",
            "_model_name": "FloatProgressModel",
            "_view_count": null,
            "_view_module": "@jupyter-widgets/controls",
            "_view_module_version": "1.5.0",
            "_view_name": "ProgressView",
            "bar_style": "success",
            "description": "",
            "description_tooltip": null,
            "layout": "IPY_MODEL_c492770abc154f7cb2d19640d47b605c",
            "max": 313,
            "min": 0,
            "orientation": "horizontal",
            "style": "IPY_MODEL_1fec9dc24c5c40d384794334c6181221",
            "value": 313
          }
        },
        "0d81b43fa9ba45b2adfcbcd7a6d3286c": {
          "model_module": "@jupyter-widgets/controls",
          "model_name": "HTMLModel",
          "model_module_version": "1.5.0",
          "state": {
            "_dom_classes": [],
            "_model_module": "@jupyter-widgets/controls",
            "_model_module_version": "1.5.0",
            "_model_name": "HTMLModel",
            "_view_count": null,
            "_view_module": "@jupyter-widgets/controls",
            "_view_module_version": "1.5.0",
            "_view_name": "HTMLView",
            "description": "",
            "description_tooltip": null,
            "layout": "IPY_MODEL_6ddadbbd35fc48bcb79f676206dd0497",
            "placeholder": "​",
            "style": "IPY_MODEL_c251b63606bc4c78bd0138c9034acc59",
            "value": " 313/313 [00:02&lt;00:00, 108.81it/s]"
          }
        },
        "3db52f089a2742859293e3a65799d7ec": {
          "model_module": "@jupyter-widgets/base",
          "model_name": "LayoutModel",
          "model_module_version": "1.2.0",
          "state": {
            "_model_module": "@jupyter-widgets/base",
            "_model_module_version": "1.2.0",
            "_model_name": "LayoutModel",
            "_view_count": null,
            "_view_module": "@jupyter-widgets/base",
            "_view_module_version": "1.2.0",
            "_view_name": "LayoutView",
            "align_content": null,
            "align_items": null,
            "align_self": null,
            "border": null,
            "bottom": null,
            "display": null,
            "flex": null,
            "flex_flow": null,
            "grid_area": null,
            "grid_auto_columns": null,
            "grid_auto_flow": null,
            "grid_auto_rows": null,
            "grid_column": null,
            "grid_gap": null,
            "grid_row": null,
            "grid_template_areas": null,
            "grid_template_columns": null,
            "grid_template_rows": null,
            "height": null,
            "justify_content": null,
            "justify_items": null,
            "left": null,
            "margin": null,
            "max_height": null,
            "max_width": null,
            "min_height": null,
            "min_width": null,
            "object_fit": null,
            "object_position": null,
            "order": null,
            "overflow": null,
            "overflow_x": null,
            "overflow_y": null,
            "padding": null,
            "right": null,
            "top": null,
            "visibility": null,
            "width": null
          }
        },
        "ddc531ed954246d69a8acf9acdc61c0b": {
          "model_module": "@jupyter-widgets/base",
          "model_name": "LayoutModel",
          "model_module_version": "1.2.0",
          "state": {
            "_model_module": "@jupyter-widgets/base",
            "_model_module_version": "1.2.0",
            "_model_name": "LayoutModel",
            "_view_count": null,
            "_view_module": "@jupyter-widgets/base",
            "_view_module_version": "1.2.0",
            "_view_name": "LayoutView",
            "align_content": null,
            "align_items": null,
            "align_self": null,
            "border": null,
            "bottom": null,
            "display": null,
            "flex": null,
            "flex_flow": null,
            "grid_area": null,
            "grid_auto_columns": null,
            "grid_auto_flow": null,
            "grid_auto_rows": null,
            "grid_column": null,
            "grid_gap": null,
            "grid_row": null,
            "grid_template_areas": null,
            "grid_template_columns": null,
            "grid_template_rows": null,
            "height": null,
            "justify_content": null,
            "justify_items": null,
            "left": null,
            "margin": null,
            "max_height": null,
            "max_width": null,
            "min_height": null,
            "min_width": null,
            "object_fit": null,
            "object_position": null,
            "order": null,
            "overflow": null,
            "overflow_x": null,
            "overflow_y": null,
            "padding": null,
            "right": null,
            "top": null,
            "visibility": null,
            "width": null
          }
        },
        "dfe7af55eaf9448bb6031ee5f8a56f7f": {
          "model_module": "@jupyter-widgets/controls",
          "model_name": "DescriptionStyleModel",
          "model_module_version": "1.5.0",
          "state": {
            "_model_module": "@jupyter-widgets/controls",
            "_model_module_version": "1.5.0",
            "_model_name": "DescriptionStyleModel",
            "_view_count": null,
            "_view_module": "@jupyter-widgets/base",
            "_view_module_version": "1.2.0",
            "_view_name": "StyleView",
            "description_width": ""
          }
        },
        "c492770abc154f7cb2d19640d47b605c": {
          "model_module": "@jupyter-widgets/base",
          "model_name": "LayoutModel",
          "model_module_version": "1.2.0",
          "state": {
            "_model_module": "@jupyter-widgets/base",
            "_model_module_version": "1.2.0",
            "_model_name": "LayoutModel",
            "_view_count": null,
            "_view_module": "@jupyter-widgets/base",
            "_view_module_version": "1.2.0",
            "_view_name": "LayoutView",
            "align_content": null,
            "align_items": null,
            "align_self": null,
            "border": null,
            "bottom": null,
            "display": null,
            "flex": null,
            "flex_flow": null,
            "grid_area": null,
            "grid_auto_columns": null,
            "grid_auto_flow": null,
            "grid_auto_rows": null,
            "grid_column": null,
            "grid_gap": null,
            "grid_row": null,
            "grid_template_areas": null,
            "grid_template_columns": null,
            "grid_template_rows": null,
            "height": null,
            "justify_content": null,
            "justify_items": null,
            "left": null,
            "margin": null,
            "max_height": null,
            "max_width": null,
            "min_height": null,
            "min_width": null,
            "object_fit": null,
            "object_position": null,
            "order": null,
            "overflow": null,
            "overflow_x": null,
            "overflow_y": null,
            "padding": null,
            "right": null,
            "top": null,
            "visibility": null,
            "width": null
          }
        },
        "1fec9dc24c5c40d384794334c6181221": {
          "model_module": "@jupyter-widgets/controls",
          "model_name": "ProgressStyleModel",
          "model_module_version": "1.5.0",
          "state": {
            "_model_module": "@jupyter-widgets/controls",
            "_model_module_version": "1.5.0",
            "_model_name": "ProgressStyleModel",
            "_view_count": null,
            "_view_module": "@jupyter-widgets/base",
            "_view_module_version": "1.2.0",
            "_view_name": "StyleView",
            "bar_color": null,
            "description_width": ""
          }
        },
        "6ddadbbd35fc48bcb79f676206dd0497": {
          "model_module": "@jupyter-widgets/base",
          "model_name": "LayoutModel",
          "model_module_version": "1.2.0",
          "state": {
            "_model_module": "@jupyter-widgets/base",
            "_model_module_version": "1.2.0",
            "_model_name": "LayoutModel",
            "_view_count": null,
            "_view_module": "@jupyter-widgets/base",
            "_view_module_version": "1.2.0",
            "_view_name": "LayoutView",
            "align_content": null,
            "align_items": null,
            "align_self": null,
            "border": null,
            "bottom": null,
            "display": null,
            "flex": null,
            "flex_flow": null,
            "grid_area": null,
            "grid_auto_columns": null,
            "grid_auto_flow": null,
            "grid_auto_rows": null,
            "grid_column": null,
            "grid_gap": null,
            "grid_row": null,
            "grid_template_areas": null,
            "grid_template_columns": null,
            "grid_template_rows": null,
            "height": null,
            "justify_content": null,
            "justify_items": null,
            "left": null,
            "margin": null,
            "max_height": null,
            "max_width": null,
            "min_height": null,
            "min_width": null,
            "object_fit": null,
            "object_position": null,
            "order": null,
            "overflow": null,
            "overflow_x": null,
            "overflow_y": null,
            "padding": null,
            "right": null,
            "top": null,
            "visibility": null,
            "width": null
          }
        },
        "c251b63606bc4c78bd0138c9034acc59": {
          "model_module": "@jupyter-widgets/controls",
          "model_name": "DescriptionStyleModel",
          "model_module_version": "1.5.0",
          "state": {
            "_model_module": "@jupyter-widgets/controls",
            "_model_module_version": "1.5.0",
            "_model_name": "DescriptionStyleModel",
            "_view_count": null,
            "_view_module": "@jupyter-widgets/base",
            "_view_module_version": "1.2.0",
            "_view_name": "StyleView",
            "description_width": ""
          }
        }
      }
    }
  },
  "cells": [
    {
      "cell_type": "markdown",
      "metadata": {
        "id": "view-in-github",
        "colab_type": "text"
      },
      "source": [
        "<a href=\"https://colab.research.google.com/github/CHMcCartney/pytorch-deep-learning/blob/main/extras/exercises/03_pytorch_computer_vision_exercises.ipynb\" target=\"_parent\"><img src=\"https://colab.research.google.com/assets/colab-badge.svg\" alt=\"Open In Colab\"/></a>"
      ]
    },
    {
      "cell_type": "markdown",
      "source": [
        "# 03. PyTorch Computer Vision Exercises\n",
        "\n",
        "The following is a collection of exercises based on computer vision fundamentals in PyTorch.\n",
        "\n",
        "They're a bunch of fun.\n",
        "\n",
        "You're going to get to write plenty of code!\n",
        "\n",
        "## Resources\n",
        "\n",
        "1. These exercises are based on [notebook 03 of the Learn PyTorch for Deep Learning course](https://www.learnpytorch.io/03_pytorch_computer_vision/).\n",
        "2. See a live [walkthrough of the solutions (errors and all) on YouTube](https://youtu.be/_PibmqpEyhA).\n",
        "  * **Note:** Going through these exercises took me just over 3 hours of solid coding, so you should expect around the same.\n",
        "3. See [other solutions on the course GitHub](https://github.com/mrdbourke/pytorch-deep-learning/tree/main/extras/solutions)."
      ],
      "metadata": {
        "id": "Vex99np2wFVt"
      }
    },
    {
      "cell_type": "code",
      "source": [
        "# Check for GPU\n",
        "!nvidia-smi"
      ],
      "metadata": {
        "colab": {
          "base_uri": "https://localhost:8080/"
        },
        "id": "GaeYzOTLwWh2",
        "outputId": "e77a110c-7ca3-4079-849c-6ea22a3df8da"
      },
      "execution_count": 1,
      "outputs": [
        {
          "output_type": "stream",
          "name": "stdout",
          "text": [
            "Tue Apr 15 18:24:10 2025       \n",
            "+-----------------------------------------------------------------------------------------+\n",
            "| NVIDIA-SMI 550.54.15              Driver Version: 550.54.15      CUDA Version: 12.4     |\n",
            "|-----------------------------------------+------------------------+----------------------+\n",
            "| GPU  Name                 Persistence-M | Bus-Id          Disp.A | Volatile Uncorr. ECC |\n",
            "| Fan  Temp   Perf          Pwr:Usage/Cap |           Memory-Usage | GPU-Util  Compute M. |\n",
            "|                                         |                        |               MIG M. |\n",
            "|=========================================+========================+======================|\n",
            "|   0  Tesla T4                       Off |   00000000:00:04.0 Off |                    0 |\n",
            "| N/A   44C    P8             10W /   70W |       0MiB /  15360MiB |      0%      Default |\n",
            "|                                         |                        |                  N/A |\n",
            "+-----------------------------------------+------------------------+----------------------+\n",
            "                                                                                         \n",
            "+-----------------------------------------------------------------------------------------+\n",
            "| Processes:                                                                              |\n",
            "|  GPU   GI   CI        PID   Type   Process name                              GPU Memory |\n",
            "|        ID   ID                                                               Usage      |\n",
            "|=========================================================================================|\n",
            "|  No running processes found                                                             |\n",
            "+-----------------------------------------------------------------------------------------+\n"
          ]
        }
      ]
    },
    {
      "cell_type": "code",
      "source": [
        "# Import torch\n",
        "import torch\n",
        "\n",
        "# Exercises require PyTorch > 1.10.0\n",
        "print(torch.__version__)\n",
        "\n",
        "# TODO: Setup device agnostic code\n",
        "device = 'cuda' if torch.cuda.is_available() else 'cpu'\n",
        "device\n"
      ],
      "metadata": {
        "colab": {
          "base_uri": "https://localhost:8080/",
          "height": 53
        },
        "id": "DNwZLMbCzJLk",
        "outputId": "60de65ab-2765-4175-8e64-fb7015c9da5a"
      },
      "execution_count": 2,
      "outputs": [
        {
          "output_type": "stream",
          "name": "stdout",
          "text": [
            "2.6.0+cu124\n"
          ]
        },
        {
          "output_type": "execute_result",
          "data": {
            "text/plain": [
              "'cuda'"
            ],
            "application/vnd.google.colaboratory.intrinsic+json": {
              "type": "string"
            }
          },
          "metadata": {},
          "execution_count": 2
        }
      ]
    },
    {
      "cell_type": "markdown",
      "source": [
        "## 1. What are 3 areas in industry where computer vision is currently being used?"
      ],
      "metadata": {
        "id": "FSFX7tc1w-en"
      }
    },
    {
      "cell_type": "markdown",
      "source": [
        "1. Self-driving / intelligent vehicles\n",
        "2. Home secutiyy\n",
        "3. Healthcare imaging (cancer detection in particular)"
      ],
      "metadata": {
        "id": "-djynLMFtXjH"
      }
    },
    {
      "cell_type": "markdown",
      "source": [
        "## 2. Search \"what is overfitting in machine learning\" and write down a sentence about what you find."
      ],
      "metadata": {
        "id": "oBK-WI6YxDYa"
      }
    },
    {
      "cell_type": "code",
      "source": [
        "# Overfitting occurs when a model fits the characteristics of the training model too specifically to generalize well to unseen testing data."
      ],
      "metadata": {
        "id": "d1rxD6GObCqh"
      },
      "execution_count": null,
      "outputs": []
    },
    {
      "cell_type": "markdown",
      "source": [
        "## 3. Search \"ways to prevent overfitting in machine learning\", write down 3 of the things you find and a sentence about each.\n",
        "> **Note:** there are lots of these, so don't worry too much about all of them, just pick 3 and start with those."
      ],
      "metadata": {
        "id": "XeYFEqw8xK26"
      }
    },
    {
      "cell_type": "code",
      "source": [
        "# Regularization techniques, Implementing new models (simpler models potentially such as Linear Regression instead of Multiple Regression), Cleaning up dataset / reducing noise"
      ],
      "metadata": {
        "id": "ocvOdWKcbEKr"
      },
      "execution_count": null,
      "outputs": []
    },
    {
      "cell_type": "markdown",
      "source": [
        "## 4. Spend 20-minutes reading and clicking through the [CNN Explainer website](https://poloclub.github.io/cnn-explainer/).\n",
        "\n",
        "* Upload your own example image using the \"upload\" button on the website and see what happens in each layer of a CNN as your image passes through it."
      ],
      "metadata": {
        "id": "DKdEEFEqxM-8"
      }
    },
    {
      "cell_type": "code",
      "source": [
        "# Pretty sick, reminds me of concepts from Deep Learning course from undergrad"
      ],
      "metadata": {
        "id": "TqZaJIRMbFtS"
      },
      "execution_count": null,
      "outputs": []
    },
    {
      "cell_type": "markdown",
      "source": [
        "## 5. Load the [`torchvision.datasets.MNIST()`](https://pytorch.org/vision/stable/generated/torchvision.datasets.MNIST.html#torchvision.datasets.MNIST) train and test datasets."
      ],
      "metadata": {
        "id": "lvf-3pODxXYI"
      }
    },
    {
      "cell_type": "code",
      "source": [
        "import torchvision\n",
        "from torchvision import datasets\n",
        "from torchvision import transforms"
      ],
      "metadata": {
        "id": "SHjeuN81bHza"
      },
      "execution_count": 3,
      "outputs": []
    },
    {
      "cell_type": "code",
      "source": [
        "# Get the MNIST train dataset\n",
        "train_data = datasets.MNIST(root=\".\", train=True, download=True, transform=transforms.ToTensor())\n",
        "\n",
        "test_data = datasets.MNIST(root=\".\", train=False, download=True, transform=transforms.ToTensor())"
      ],
      "metadata": {
        "id": "PdLEmz9gurdm",
        "outputId": "9d2a25c8-8a9e-47b3-85f0-a580adf6cf13",
        "colab": {
          "base_uri": "https://localhost:8080/"
        }
      },
      "execution_count": 4,
      "outputs": [
        {
          "output_type": "stream",
          "name": "stderr",
          "text": [
            "100%|██████████| 9.91M/9.91M [00:02<00:00, 4.63MB/s]\n",
            "100%|██████████| 28.9k/28.9k [00:00<00:00, 135kB/s]\n",
            "100%|██████████| 1.65M/1.65M [00:01<00:00, 1.26MB/s]\n",
            "100%|██████████| 4.54k/4.54k [00:00<00:00, 5.87MB/s]\n"
          ]
        }
      ]
    },
    {
      "cell_type": "code",
      "source": [
        "train_data, test_data"
      ],
      "metadata": {
        "id": "0d6R7B98u5af",
        "outputId": "7cf7921d-f60d-424c-e6d9-deb14aad0c40",
        "colab": {
          "base_uri": "https://localhost:8080/"
        }
      },
      "execution_count": 5,
      "outputs": [
        {
          "output_type": "execute_result",
          "data": {
            "text/plain": [
              "(Dataset MNIST\n",
              "     Number of datapoints: 60000\n",
              "     Root location: .\n",
              "     Split: Train\n",
              "     StandardTransform\n",
              " Transform: ToTensor(),\n",
              " Dataset MNIST\n",
              "     Number of datapoints: 10000\n",
              "     Root location: .\n",
              "     Split: Test\n",
              "     StandardTransform\n",
              " Transform: ToTensor())"
            ]
          },
          "metadata": {},
          "execution_count": 5
        }
      ]
    },
    {
      "cell_type": "code",
      "source": [
        "len(train_data), len(test_data)"
      ],
      "metadata": {
        "id": "R0JgfiCIu-du",
        "outputId": "34760cb3-a3e4-49f9-ea69-b052cf946269",
        "colab": {
          "base_uri": "https://localhost:8080/"
        }
      },
      "execution_count": 6,
      "outputs": [
        {
          "output_type": "execute_result",
          "data": {
            "text/plain": [
              "(60000, 10000)"
            ]
          },
          "metadata": {},
          "execution_count": 6
        }
      ]
    },
    {
      "cell_type": "code",
      "source": [
        "# Data is in tuple form (image, label)\n",
        "img = train_data[0][0]\n",
        "label = train_data[0][1]\n",
        "print(f\"Image:\\n {img}\")\n",
        "print(f\"Label:\\n {label}\")"
      ],
      "metadata": {
        "id": "ymB1QkFhu_Qn",
        "outputId": "901f1c83-deed-4a11-ebd5-0a30dedaebfe",
        "colab": {
          "base_uri": "https://localhost:8080/"
        }
      },
      "execution_count": 7,
      "outputs": [
        {
          "output_type": "stream",
          "name": "stdout",
          "text": [
            "Image:\n",
            " tensor([[[0.0000, 0.0000, 0.0000, 0.0000, 0.0000, 0.0000, 0.0000, 0.0000,\n",
            "          0.0000, 0.0000, 0.0000, 0.0000, 0.0000, 0.0000, 0.0000, 0.0000,\n",
            "          0.0000, 0.0000, 0.0000, 0.0000, 0.0000, 0.0000, 0.0000, 0.0000,\n",
            "          0.0000, 0.0000, 0.0000, 0.0000],\n",
            "         [0.0000, 0.0000, 0.0000, 0.0000, 0.0000, 0.0000, 0.0000, 0.0000,\n",
            "          0.0000, 0.0000, 0.0000, 0.0000, 0.0000, 0.0000, 0.0000, 0.0000,\n",
            "          0.0000, 0.0000, 0.0000, 0.0000, 0.0000, 0.0000, 0.0000, 0.0000,\n",
            "          0.0000, 0.0000, 0.0000, 0.0000],\n",
            "         [0.0000, 0.0000, 0.0000, 0.0000, 0.0000, 0.0000, 0.0000, 0.0000,\n",
            "          0.0000, 0.0000, 0.0000, 0.0000, 0.0000, 0.0000, 0.0000, 0.0000,\n",
            "          0.0000, 0.0000, 0.0000, 0.0000, 0.0000, 0.0000, 0.0000, 0.0000,\n",
            "          0.0000, 0.0000, 0.0000, 0.0000],\n",
            "         [0.0000, 0.0000, 0.0000, 0.0000, 0.0000, 0.0000, 0.0000, 0.0000,\n",
            "          0.0000, 0.0000, 0.0000, 0.0000, 0.0000, 0.0000, 0.0000, 0.0000,\n",
            "          0.0000, 0.0000, 0.0000, 0.0000, 0.0000, 0.0000, 0.0000, 0.0000,\n",
            "          0.0000, 0.0000, 0.0000, 0.0000],\n",
            "         [0.0000, 0.0000, 0.0000, 0.0000, 0.0000, 0.0000, 0.0000, 0.0000,\n",
            "          0.0000, 0.0000, 0.0000, 0.0000, 0.0000, 0.0000, 0.0000, 0.0000,\n",
            "          0.0000, 0.0000, 0.0000, 0.0000, 0.0000, 0.0000, 0.0000, 0.0000,\n",
            "          0.0000, 0.0000, 0.0000, 0.0000],\n",
            "         [0.0000, 0.0000, 0.0000, 0.0000, 0.0000, 0.0000, 0.0000, 0.0000,\n",
            "          0.0000, 0.0000, 0.0000, 0.0000, 0.0118, 0.0706, 0.0706, 0.0706,\n",
            "          0.4941, 0.5333, 0.6863, 0.1020, 0.6510, 1.0000, 0.9686, 0.4980,\n",
            "          0.0000, 0.0000, 0.0000, 0.0000],\n",
            "         [0.0000, 0.0000, 0.0000, 0.0000, 0.0000, 0.0000, 0.0000, 0.0000,\n",
            "          0.1176, 0.1412, 0.3686, 0.6039, 0.6667, 0.9922, 0.9922, 0.9922,\n",
            "          0.9922, 0.9922, 0.8824, 0.6745, 0.9922, 0.9490, 0.7647, 0.2510,\n",
            "          0.0000, 0.0000, 0.0000, 0.0000],\n",
            "         [0.0000, 0.0000, 0.0000, 0.0000, 0.0000, 0.0000, 0.0000, 0.1922,\n",
            "          0.9333, 0.9922, 0.9922, 0.9922, 0.9922, 0.9922, 0.9922, 0.9922,\n",
            "          0.9922, 0.9843, 0.3647, 0.3216, 0.3216, 0.2196, 0.1529, 0.0000,\n",
            "          0.0000, 0.0000, 0.0000, 0.0000],\n",
            "         [0.0000, 0.0000, 0.0000, 0.0000, 0.0000, 0.0000, 0.0000, 0.0706,\n",
            "          0.8588, 0.9922, 0.9922, 0.9922, 0.9922, 0.9922, 0.7765, 0.7137,\n",
            "          0.9686, 0.9451, 0.0000, 0.0000, 0.0000, 0.0000, 0.0000, 0.0000,\n",
            "          0.0000, 0.0000, 0.0000, 0.0000],\n",
            "         [0.0000, 0.0000, 0.0000, 0.0000, 0.0000, 0.0000, 0.0000, 0.0000,\n",
            "          0.3137, 0.6118, 0.4196, 0.9922, 0.9922, 0.8039, 0.0431, 0.0000,\n",
            "          0.1686, 0.6039, 0.0000, 0.0000, 0.0000, 0.0000, 0.0000, 0.0000,\n",
            "          0.0000, 0.0000, 0.0000, 0.0000],\n",
            "         [0.0000, 0.0000, 0.0000, 0.0000, 0.0000, 0.0000, 0.0000, 0.0000,\n",
            "          0.0000, 0.0549, 0.0039, 0.6039, 0.9922, 0.3529, 0.0000, 0.0000,\n",
            "          0.0000, 0.0000, 0.0000, 0.0000, 0.0000, 0.0000, 0.0000, 0.0000,\n",
            "          0.0000, 0.0000, 0.0000, 0.0000],\n",
            "         [0.0000, 0.0000, 0.0000, 0.0000, 0.0000, 0.0000, 0.0000, 0.0000,\n",
            "          0.0000, 0.0000, 0.0000, 0.5451, 0.9922, 0.7451, 0.0078, 0.0000,\n",
            "          0.0000, 0.0000, 0.0000, 0.0000, 0.0000, 0.0000, 0.0000, 0.0000,\n",
            "          0.0000, 0.0000, 0.0000, 0.0000],\n",
            "         [0.0000, 0.0000, 0.0000, 0.0000, 0.0000, 0.0000, 0.0000, 0.0000,\n",
            "          0.0000, 0.0000, 0.0000, 0.0431, 0.7451, 0.9922, 0.2745, 0.0000,\n",
            "          0.0000, 0.0000, 0.0000, 0.0000, 0.0000, 0.0000, 0.0000, 0.0000,\n",
            "          0.0000, 0.0000, 0.0000, 0.0000],\n",
            "         [0.0000, 0.0000, 0.0000, 0.0000, 0.0000, 0.0000, 0.0000, 0.0000,\n",
            "          0.0000, 0.0000, 0.0000, 0.0000, 0.1373, 0.9451, 0.8824, 0.6275,\n",
            "          0.4235, 0.0039, 0.0000, 0.0000, 0.0000, 0.0000, 0.0000, 0.0000,\n",
            "          0.0000, 0.0000, 0.0000, 0.0000],\n",
            "         [0.0000, 0.0000, 0.0000, 0.0000, 0.0000, 0.0000, 0.0000, 0.0000,\n",
            "          0.0000, 0.0000, 0.0000, 0.0000, 0.0000, 0.3176, 0.9412, 0.9922,\n",
            "          0.9922, 0.4667, 0.0980, 0.0000, 0.0000, 0.0000, 0.0000, 0.0000,\n",
            "          0.0000, 0.0000, 0.0000, 0.0000],\n",
            "         [0.0000, 0.0000, 0.0000, 0.0000, 0.0000, 0.0000, 0.0000, 0.0000,\n",
            "          0.0000, 0.0000, 0.0000, 0.0000, 0.0000, 0.0000, 0.1765, 0.7294,\n",
            "          0.9922, 0.9922, 0.5882, 0.1059, 0.0000, 0.0000, 0.0000, 0.0000,\n",
            "          0.0000, 0.0000, 0.0000, 0.0000],\n",
            "         [0.0000, 0.0000, 0.0000, 0.0000, 0.0000, 0.0000, 0.0000, 0.0000,\n",
            "          0.0000, 0.0000, 0.0000, 0.0000, 0.0000, 0.0000, 0.0000, 0.0627,\n",
            "          0.3647, 0.9882, 0.9922, 0.7333, 0.0000, 0.0000, 0.0000, 0.0000,\n",
            "          0.0000, 0.0000, 0.0000, 0.0000],\n",
            "         [0.0000, 0.0000, 0.0000, 0.0000, 0.0000, 0.0000, 0.0000, 0.0000,\n",
            "          0.0000, 0.0000, 0.0000, 0.0000, 0.0000, 0.0000, 0.0000, 0.0000,\n",
            "          0.0000, 0.9765, 0.9922, 0.9765, 0.2510, 0.0000, 0.0000, 0.0000,\n",
            "          0.0000, 0.0000, 0.0000, 0.0000],\n",
            "         [0.0000, 0.0000, 0.0000, 0.0000, 0.0000, 0.0000, 0.0000, 0.0000,\n",
            "          0.0000, 0.0000, 0.0000, 0.0000, 0.0000, 0.0000, 0.1804, 0.5098,\n",
            "          0.7176, 0.9922, 0.9922, 0.8118, 0.0078, 0.0000, 0.0000, 0.0000,\n",
            "          0.0000, 0.0000, 0.0000, 0.0000],\n",
            "         [0.0000, 0.0000, 0.0000, 0.0000, 0.0000, 0.0000, 0.0000, 0.0000,\n",
            "          0.0000, 0.0000, 0.0000, 0.0000, 0.1529, 0.5804, 0.8980, 0.9922,\n",
            "          0.9922, 0.9922, 0.9804, 0.7137, 0.0000, 0.0000, 0.0000, 0.0000,\n",
            "          0.0000, 0.0000, 0.0000, 0.0000],\n",
            "         [0.0000, 0.0000, 0.0000, 0.0000, 0.0000, 0.0000, 0.0000, 0.0000,\n",
            "          0.0000, 0.0000, 0.0941, 0.4471, 0.8667, 0.9922, 0.9922, 0.9922,\n",
            "          0.9922, 0.7882, 0.3059, 0.0000, 0.0000, 0.0000, 0.0000, 0.0000,\n",
            "          0.0000, 0.0000, 0.0000, 0.0000],\n",
            "         [0.0000, 0.0000, 0.0000, 0.0000, 0.0000, 0.0000, 0.0000, 0.0000,\n",
            "          0.0902, 0.2588, 0.8353, 0.9922, 0.9922, 0.9922, 0.9922, 0.7765,\n",
            "          0.3176, 0.0078, 0.0000, 0.0000, 0.0000, 0.0000, 0.0000, 0.0000,\n",
            "          0.0000, 0.0000, 0.0000, 0.0000],\n",
            "         [0.0000, 0.0000, 0.0000, 0.0000, 0.0000, 0.0000, 0.0706, 0.6706,\n",
            "          0.8588, 0.9922, 0.9922, 0.9922, 0.9922, 0.7647, 0.3137, 0.0353,\n",
            "          0.0000, 0.0000, 0.0000, 0.0000, 0.0000, 0.0000, 0.0000, 0.0000,\n",
            "          0.0000, 0.0000, 0.0000, 0.0000],\n",
            "         [0.0000, 0.0000, 0.0000, 0.0000, 0.2157, 0.6745, 0.8863, 0.9922,\n",
            "          0.9922, 0.9922, 0.9922, 0.9569, 0.5216, 0.0431, 0.0000, 0.0000,\n",
            "          0.0000, 0.0000, 0.0000, 0.0000, 0.0000, 0.0000, 0.0000, 0.0000,\n",
            "          0.0000, 0.0000, 0.0000, 0.0000],\n",
            "         [0.0000, 0.0000, 0.0000, 0.0000, 0.5333, 0.9922, 0.9922, 0.9922,\n",
            "          0.8314, 0.5294, 0.5176, 0.0627, 0.0000, 0.0000, 0.0000, 0.0000,\n",
            "          0.0000, 0.0000, 0.0000, 0.0000, 0.0000, 0.0000, 0.0000, 0.0000,\n",
            "          0.0000, 0.0000, 0.0000, 0.0000],\n",
            "         [0.0000, 0.0000, 0.0000, 0.0000, 0.0000, 0.0000, 0.0000, 0.0000,\n",
            "          0.0000, 0.0000, 0.0000, 0.0000, 0.0000, 0.0000, 0.0000, 0.0000,\n",
            "          0.0000, 0.0000, 0.0000, 0.0000, 0.0000, 0.0000, 0.0000, 0.0000,\n",
            "          0.0000, 0.0000, 0.0000, 0.0000],\n",
            "         [0.0000, 0.0000, 0.0000, 0.0000, 0.0000, 0.0000, 0.0000, 0.0000,\n",
            "          0.0000, 0.0000, 0.0000, 0.0000, 0.0000, 0.0000, 0.0000, 0.0000,\n",
            "          0.0000, 0.0000, 0.0000, 0.0000, 0.0000, 0.0000, 0.0000, 0.0000,\n",
            "          0.0000, 0.0000, 0.0000, 0.0000],\n",
            "         [0.0000, 0.0000, 0.0000, 0.0000, 0.0000, 0.0000, 0.0000, 0.0000,\n",
            "          0.0000, 0.0000, 0.0000, 0.0000, 0.0000, 0.0000, 0.0000, 0.0000,\n",
            "          0.0000, 0.0000, 0.0000, 0.0000, 0.0000, 0.0000, 0.0000, 0.0000,\n",
            "          0.0000, 0.0000, 0.0000, 0.0000]]])\n",
            "Label:\n",
            " 5\n"
          ]
        }
      ]
    },
    {
      "cell_type": "code",
      "source": [
        "# Check out the shapes of our data\n",
        "print(f\"Image shape: {img.shape} -> [color_channels, height, width] (CHW)\")\n",
        "print(f\"Label: {label} -> no shape, due to being integer\")"
      ],
      "metadata": {
        "id": "--xrdB-nvECP",
        "outputId": "3d5f151d-57cb-4c16-9e68-85db1f000257",
        "colab": {
          "base_uri": "https://localhost:8080/"
        }
      },
      "execution_count": 8,
      "outputs": [
        {
          "output_type": "stream",
          "name": "stdout",
          "text": [
            "Image shape: torch.Size([1, 28, 28]) -> [color_channels, height, width] (CHW)\n",
            "Label: 5 -> no shape, due to being integer\n"
          ]
        }
      ]
    },
    {
      "cell_type": "code",
      "source": [
        "# Get the class names from the dataset\n",
        "class_names = train_data.classes\n",
        "class_names"
      ],
      "metadata": {
        "id": "vTMEcthnvG7h",
        "outputId": "afd5fb22-70ad-40c8-f089-0cb5c3b83f85",
        "colab": {
          "base_uri": "https://localhost:8080/"
        }
      },
      "execution_count": 9,
      "outputs": [
        {
          "output_type": "execute_result",
          "data": {
            "text/plain": [
              "['0 - zero',\n",
              " '1 - one',\n",
              " '2 - two',\n",
              " '3 - three',\n",
              " '4 - four',\n",
              " '5 - five',\n",
              " '6 - six',\n",
              " '7 - seven',\n",
              " '8 - eight',\n",
              " '9 - nine']"
            ]
          },
          "metadata": {},
          "execution_count": 9
        }
      ]
    },
    {
      "cell_type": "markdown",
      "source": [
        "## 6. Visualize at least 5 different samples of the MNIST training dataset."
      ],
      "metadata": {
        "id": "qxZW-uAbxe_F"
      }
    },
    {
      "cell_type": "code",
      "source": [
        "import matplotlib.pyplot as plt\n",
        "for i in range(5):\n",
        "  img = train_data[i][0]\n",
        "  print(img.shape)\n",
        "  img_squeeze = img.squeeze()\n",
        "  print(img_squeeze.shape)\n",
        "  label = train_data[i][1]\n",
        "  plt.figure(figsize=(3,3))\n",
        "  plt.imshow(img_squeeze, cmap=\"gray\")\n",
        "  plt.title(label)\n",
        "  plt.axis(False)"
      ],
      "metadata": {
        "id": "QVFsYi1PbItE",
        "outputId": "317afadf-4f9c-4a3e-d4b1-ad73e91d65f2",
        "colab": {
          "base_uri": "https://localhost:8080/",
          "height": 1000
        }
      },
      "execution_count": 10,
      "outputs": [
        {
          "output_type": "stream",
          "name": "stdout",
          "text": [
            "torch.Size([1, 28, 28])\n",
            "torch.Size([28, 28])\n",
            "torch.Size([1, 28, 28])\n",
            "torch.Size([28, 28])\n",
            "torch.Size([1, 28, 28])\n",
            "torch.Size([28, 28])\n",
            "torch.Size([1, 28, 28])\n",
            "torch.Size([28, 28])\n",
            "torch.Size([1, 28, 28])\n",
            "torch.Size([28, 28])\n"
          ]
        },
        {
          "output_type": "display_data",
          "data": {
            "text/plain": [
              "<Figure size 300x300 with 1 Axes>"
            ],
            "image/png": "[encoded data removed]"
          },
          "metadata": {}
        },
        {
          "output_type": "display_data",
          "data": {
            "text/plain": [
              "<Figure size 300x300 with 1 Axes>"
            ],
            "image/png": "[encoded data removed]"
          },
          "metadata": {}
        },
        {
          "output_type": "display_data",
          "data": {
            "text/plain": [
              "<Figure size 300x300 with 1 Axes>"
            ],
            "image/png": "[encoded data removed]"
          },
          "metadata": {}
        },
        {
          "output_type": "display_data",
          "data": {
            "text/plain": [
              "<Figure size 300x300 with 1 Axes>"
            ],
            "image/png": "[encoded data removed]"
          },
          "metadata": {}
        },
        {
          "output_type": "display_data",
          "data": {
            "text/plain": [
              "<Figure size 300x300 with 1 Axes>"
            ],
            "image/png": "[encoded data removed]"
          },
          "metadata": {}
        }
      ]
    },
    {
      "cell_type": "markdown",
      "source": [
        "## 7. Turn the MNIST train and test datasets into dataloaders using `torch.utils.data.DataLoader`, set the `batch_size=32`."
      ],
      "metadata": {
        "id": "JAPDzW0wxhi3"
      }
    },
    {
      "cell_type": "code",
      "source": [
        "from torch.utils.data import DataLoader\n",
        "train_dataloader = DataLoader(dataset=train_data, batch_size=32, shuffle=True)\n",
        "test_dataloader = DataLoader(dataset=test_data, batch_size=32, shuffle=False)\n",
        "\n",
        "train_dataloader, test_dataloader"
      ],
      "metadata": {
        "id": "ALA6MPcFbJXQ",
        "outputId": "43cc5e7f-5980-44ee-e2dc-036ed421db44",
        "colab": {
          "base_uri": "https://localhost:8080/"
        }
      },
      "execution_count": 11,
      "outputs": [
        {
          "output_type": "execute_result",
          "data": {
            "text/plain": [
              "(<torch.utils.data.dataloader.DataLoader at 0x7d6fb1ce1290>,\n",
              " <torch.utils.data.dataloader.DataLoader at 0x7d6fb1ceb790>)"
            ]
          },
          "metadata": {},
          "execution_count": 11
        }
      ]
    },
    {
      "cell_type": "code",
      "source": [
        "for sample in next(iter(train_dataloader)): # Selecting next item in train_dataloader iterable\n",
        "  print(sample.shape)"
      ],
      "metadata": {
        "id": "xKNLxkwuv9_u",
        "outputId": "24e7a825-745a-4284-b851-94bf2ce78f46",
        "colab": {
          "base_uri": "https://localhost:8080/"
        }
      },
      "execution_count": 12,
      "outputs": [
        {
          "output_type": "stream",
          "name": "stdout",
          "text": [
            "torch.Size([32, 1, 28, 28])\n",
            "torch.Size([32])\n"
          ]
        }
      ]
    },
    {
      "cell_type": "code",
      "source": [
        "len(train_dataloader), len(test_dataloader)"
      ],
      "metadata": {
        "id": "dqPOl-xAwHZ1",
        "outputId": "6d694351-9264-42ca-9205-984dc94eade6",
        "colab": {
          "base_uri": "https://localhost:8080/"
        }
      },
      "execution_count": 13,
      "outputs": [
        {
          "output_type": "execute_result",
          "data": {
            "text/plain": [
              "(1875, 313)"
            ]
          },
          "metadata": {},
          "execution_count": 13
        }
      ]
    },
    {
      "cell_type": "markdown",
      "source": [
        "## 8. Recreate `model_2` used in notebook 03 (the same model from the [CNN Explainer website](https://poloclub.github.io/cnn-explainer/), also known as TinyVGG) capable of fitting on the MNIST dataset."
      ],
      "metadata": {
        "id": "bCCVfXk5xjYS"
      }
    },
    {
      "cell_type": "code",
      "source": [
        "from torch import nn"
      ],
      "metadata": {
        "id": "5IKNF22XbKYS"
      },
      "execution_count": 14,
      "outputs": []
    },
    {
      "cell_type": "code",
      "source": [
        "class MNIST_model(torch.nn.Module):\n",
        "  def __init__(self, input_shape: int, hidden_units: int, output_shape: int):\n",
        "    super().__init__()\n",
        "    self.conv_block_1 = nn.Sequential(\n",
        "        nn.Conv2d(in_channels=input_shape, out_channels=hidden_units, kernel_size=3, stride=1, padding=1),\n",
        "        nn.ReLU(),\n",
        "        nn.Conv2d(in_channels=hidden_units, out_channels=hidden_units, kernel_size=3, stride=1, padding=1),\n",
        "        nn.ReLU(),\n",
        "        nn.MaxPool2d(kernel_size=2, stride=2) # Could also use nn.MaxPool2d(2) because it will by default set stride == kernel_size\n",
        "    )\n",
        "    self.conv_block_2 = nn.Sequential(\n",
        "        nn.Conv2d(in_channels=hidden_units, out_channels=hidden_units, kernel_size=3, stride=1, padding=1),\n",
        "        nn.ReLU(),\n",
        "        nn.Conv2d(in_channels=hidden_units, out_channels=hidden_units, kernel_size=3, stride=1, padding=1),\n",
        "        nn.ReLU(),\n",
        "        nn.MaxPool2d(kernel_size=2, stride=2)\n",
        "    )\n",
        "    self.classifier = nn.Sequential(\n",
        "        nn.Flatten(),\n",
        "        nn.Linear(in_features=hidden_units*7*7, out_features=output_shape)\n",
        "    )\n",
        "\n",
        "  def forward(self, x):       # Hidden units is the number of feature maps (aka channels or filters) - represents the number of distinct features the network is learning at that stage (depth or number of channels)\n",
        "    x = self.conv_block_1(x)  # Input is (1, 28, 28), [1 channel grayscale image] Output is (hidden_units, 14, 14) due to MaxPool2d with kernel_size=2\n",
        "    x = self.conv_block_2(x)  # Input is (hidden_units, 14, 14), Output is (hidden_units, 7, 7)\n",
        "    x = self.classifier(x)    # Input is (hidden_units, 7, 7), flatten turns it into 1D vector of hidden_units * 7 * 7\n",
        "    return x"
      ],
      "metadata": {
        "id": "nE_jNTxmwbOX"
      },
      "execution_count": 15,
      "outputs": []
    },
    {
      "cell_type": "code",
      "source": [
        "model = MNIST_model(input_shape=1, hidden_units=10, output_shape=10).to(device)\n",
        "model"
      ],
      "metadata": {
        "id": "9aLDqDCyyiv4",
        "outputId": "0249a1f3-a3a4-4f8d-eaab-d73a41863bf1",
        "colab": {
          "base_uri": "https://localhost:8080/"
        }
      },
      "execution_count": 16,
      "outputs": [
        {
          "output_type": "execute_result",
          "data": {
            "text/plain": [
              "MNIST_model(\n",
              "  (conv_block_1): Sequential(\n",
              "    (0): Conv2d(1, 10, kernel_size=(3, 3), stride=(1, 1), padding=(1, 1))\n",
              "    (1): ReLU()\n",
              "    (2): Conv2d(10, 10, kernel_size=(3, 3), stride=(1, 1), padding=(1, 1))\n",
              "    (3): ReLU()\n",
              "    (4): MaxPool2d(kernel_size=2, stride=2, padding=0, dilation=1, ceil_mode=False)\n",
              "  )\n",
              "  (conv_block_2): Sequential(\n",
              "    (0): Conv2d(10, 10, kernel_size=(3, 3), stride=(1, 1), padding=(1, 1))\n",
              "    (1): ReLU()\n",
              "    (2): Conv2d(10, 10, kernel_size=(3, 3), stride=(1, 1), padding=(1, 1))\n",
              "    (3): ReLU()\n",
              "    (4): MaxPool2d(kernel_size=2, stride=2, padding=0, dilation=1, ceil_mode=False)\n",
              "  )\n",
              "  (classifier): Sequential(\n",
              "    (0): Flatten(start_dim=1, end_dim=-1)\n",
              "    (1): Linear(in_features=490, out_features=10, bias=True)\n",
              "  )\n",
              ")"
            ]
          },
          "metadata": {},
          "execution_count": 16
        }
      ]
    },
    {
      "cell_type": "code",
      "source": [
        "model.state_dict()"
      ],
      "metadata": {
        "id": "PqksK6FAzN4Y",
        "outputId": "cb20c38f-0ab8-4dcb-9ee2-6c0d69e5a96b",
        "colab": {
          "base_uri": "https://localhost:8080/"
        }
      },
      "execution_count": 17,
      "outputs": [
        {
          "output_type": "execute_result",
          "data": {
            "text/plain": [
              "OrderedDict([('conv_block_1.0.weight',\n",
              "              tensor([[[[ 0.2214, -0.1249, -0.0873],\n",
              "                        [-0.0038, -0.1531,  0.1682],\n",
              "                        [ 0.1604,  0.1158,  0.0040]]],\n",
              "              \n",
              "              \n",
              "                      [[[ 0.1142, -0.1704,  0.2589],\n",
              "                        [ 0.1880, -0.1726, -0.0405],\n",
              "                        [-0.0657, -0.0524, -0.1162]]],\n",
              "              \n",
              "              \n",
              "                      [[[-0.3127,  0.0078, -0.0346],\n",
              "                        [-0.1484,  0.0893, -0.2522],\n",
              "                        [ 0.2543,  0.2234,  0.0183]]],\n",
              "              \n",
              "              \n",
              "                      [[[-0.3096,  0.2005, -0.2610],\n",
              "                        [ 0.1508, -0.0784, -0.1356],\n",
              "                        [-0.0380, -0.0876,  0.0162]]],\n",
              "              \n",
              "              \n",
              "                      [[[ 0.0132, -0.0154,  0.0783],\n",
              "                        [-0.1579,  0.2557, -0.1940],\n",
              "                        [ 0.2391, -0.0998, -0.1261]]],\n",
              "              \n",
              "              \n",
              "                      [[[ 0.3226, -0.2681,  0.2892],\n",
              "                        [-0.2656,  0.2316,  0.2771],\n",
              "                        [-0.1953, -0.2987,  0.1082]]],\n",
              "              \n",
              "              \n",
              "                      [[[ 0.1293,  0.2117, -0.1308],\n",
              "                        [ 0.2096, -0.0355, -0.0017],\n",
              "                        [-0.3023, -0.0218,  0.1631]]],\n",
              "              \n",
              "              \n",
              "                      [[[-0.2673,  0.1556,  0.0380],\n",
              "                        [-0.0807,  0.2866, -0.0762],\n",
              "                        [ 0.3069,  0.0921,  0.1811]]],\n",
              "              \n",
              "              \n",
              "                      [[[-0.0765, -0.2060, -0.1172],\n",
              "                        [ 0.1000,  0.1652,  0.2248],\n",
              "                        [ 0.0921, -0.1365,  0.0836]]],\n",
              "              \n",
              "              \n",
              "                      [[[-0.2169,  0.0907, -0.1433],\n",
              "                        [ 0.0813, -0.1991,  0.2476],\n",
              "                        [ 0.0691,  0.0474, -0.1281]]]], device='cuda:0')),\n",
              "             ('conv_block_1.0.bias',\n",
              "              tensor([-0.2990, -0.2350,  0.2530, -0.0603,  0.0273, -0.0420, -0.3068, -0.1304,\n",
              "                      -0.2998, -0.1948], device='cuda:0')),\n",
              "             ('conv_block_1.2.weight',\n",
              "              tensor([[[[-5.0672e-02,  9.2656e-02,  5.0130e-02],\n",
              "                        [ 2.2014e-02,  3.3608e-02,  8.8518e-02],\n",
              "                        [ 8.8617e-02,  7.7155e-02, -4.8967e-02]],\n",
              "              \n",
              "                       [[ 4.3463e-03, -2.7870e-02,  6.0949e-02],\n",
              "                        [-7.5035e-02, -7.9867e-02, -7.8893e-03],\n",
              "                        [-3.4147e-02, -5.5671e-02,  5.2688e-03]],\n",
              "              \n",
              "                       [[ 1.0141e-01, -6.4130e-02, -4.4256e-02],\n",
              "                        [-4.8858e-02,  5.3860e-02,  3.4225e-02],\n",
              "                        [-8.1161e-04, -7.9209e-03, -3.9500e-02]],\n",
              "              \n",
              "                       [[-5.0129e-02,  5.3934e-02,  2.6931e-02],\n",
              "                        [-5.9960e-02, -9.0188e-02, -3.9348e-03],\n",
              "                        [ 6.2690e-02,  6.0026e-02,  5.0732e-02]],\n",
              "              \n",
              "                       [[ 8.7929e-02, -9.0271e-02, -5.4809e-02],\n",
              "                        [ 1.0295e-01,  6.8272e-02, -8.9626e-02],\n",
              "                        [ 9.3379e-02, -1.0454e-01,  5.5133e-02]],\n",
              "              \n",
              "                       [[ 5.8413e-02,  1.4930e-02,  3.6269e-02],\n",
              "                        [ 7.5813e-02,  2.6625e-02, -9.5552e-02],\n",
              "                        [-9.2804e-02,  9.3093e-02,  6.4663e-02]],\n",
              "              \n",
              "                       [[ 9.7633e-02,  6.2725e-02, -4.9266e-02],\n",
              "                        [ 2.1136e-02,  5.7325e-02, -6.3264e-02],\n",
              "                        [-4.6679e-02,  5.5763e-02,  3.7601e-02]],\n",
              "              \n",
              "                       [[-1.5577e-02,  1.6677e-02, -4.4032e-04],\n",
              "                        [-9.2111e-02,  6.2480e-02, -4.1832e-02],\n",
              "                        [ 3.2442e-02, -1.0373e-02, -1.0377e-01]],\n",
              "              \n",
              "                       [[ 2.1885e-02,  1.9648e-02,  3.0085e-02],\n",
              "                        [-2.6264e-03,  1.0141e-01,  7.0549e-02],\n",
              "                        [ 1.5762e-03, -2.5022e-02,  7.1044e-02]],\n",
              "              \n",
              "                       [[ 8.0015e-03, -1.0063e-01,  9.2226e-02],\n",
              "                        [ 1.0778e-02,  4.9459e-02,  9.5102e-02],\n",
              "                        [-8.8140e-02,  1.6203e-02,  8.2839e-02]]],\n",
              "              \n",
              "              \n",
              "                      [[[-4.6302e-02, -9.3833e-02, -1.5677e-02],\n",
              "                        [-9.1959e-02, -6.7828e-02,  2.4452e-02],\n",
              "                        [-1.8767e-02, -4.4004e-02, -5.0092e-02]],\n",
              "              \n",
              "                       [[ 4.3208e-02, -6.5741e-02,  3.7572e-02],\n",
              "                        [-4.2711e-02,  4.0556e-02,  4.7551e-02],\n",
              "                        [ 4.1905e-02,  4.5729e-03, -1.1867e-02]],\n",
              "              \n",
              "                       [[ 2.3040e-02, -1.9858e-02, -6.2422e-02],\n",
              "                        [-1.0589e-02,  1.6319e-02,  2.7891e-02],\n",
              "                        [-7.4996e-02,  8.9100e-02, -3.9083e-02]],\n",
              "              \n",
              "                       [[ 2.9307e-02,  1.4683e-02,  9.7595e-02],\n",
              "                        [-1.9350e-02,  4.2284e-05,  9.9368e-02],\n",
              "                        [ 4.3458e-02, -4.8268e-02,  3.5628e-02]],\n",
              "              \n",
              "                       [[-6.2408e-03, -1.6097e-02, -6.7831e-03],\n",
              "                        [-5.2742e-02,  6.9735e-02, -1.3973e-02],\n",
              "                        [ 6.4454e-02,  5.1985e-02, -8.9805e-02]],\n",
              "              \n",
              "                       [[ 2.6727e-04,  9.0018e-02,  1.0746e-02],\n",
              "                        [-5.3201e-02, -1.0333e-01, -5.4206e-02],\n",
              "                        [-6.0359e-02, -3.8900e-02, -3.6899e-02]],\n",
              "              \n",
              "                       [[-2.0378e-02,  6.6672e-02, -8.0457e-02],\n",
              "                        [-7.0786e-02,  2.9493e-02,  7.2159e-02],\n",
              "                        [-4.3400e-02,  8.4471e-02, -2.8269e-02]],\n",
              "              \n",
              "                       [[-3.0453e-02,  3.2312e-02,  2.6604e-02],\n",
              "                        [ 7.3462e-02, -8.8281e-02, -8.9347e-02],\n",
              "                        [ 5.7023e-02, -2.7290e-02,  2.7294e-02]],\n",
              "              \n",
              "                       [[-6.4069e-02, -8.0016e-02, -5.5300e-02],\n",
              "                        [ 3.7651e-02,  6.7407e-02,  3.5500e-03],\n",
              "                        [-2.6062e-02,  3.1854e-02, -2.9250e-03]],\n",
              "              \n",
              "                       [[-7.7463e-02, -1.8466e-02, -9.9678e-02],\n",
              "                        [-7.8538e-02, -8.6458e-02,  1.4403e-02],\n",
              "                        [ 5.4031e-02,  4.5009e-02, -6.9713e-02]]],\n",
              "              \n",
              "              \n",
              "                      [[[ 1.0060e-01, -6.5988e-02, -5.1075e-02],\n",
              "                        [ 1.0501e-01,  1.0021e-01,  1.2471e-02],\n",
              "                        [-1.0506e-01,  5.3566e-02,  6.8363e-02]],\n",
              "              \n",
              "                       [[-9.2519e-02,  5.1016e-02,  5.2683e-02],\n",
              "                        [ 1.0171e-01, -4.0287e-02,  9.9549e-03],\n",
              "                        [ 8.4866e-03, -1.0462e-02,  6.9620e-02]],\n",
              "              \n",
              "                       [[ 3.8770e-02, -2.6523e-02, -1.2502e-02],\n",
              "                        [-5.6600e-02,  8.0505e-03,  7.8416e-02],\n",
              "                        [ 2.6501e-02, -5.4859e-02, -1.0447e-04]],\n",
              "              \n",
              "                       [[-3.1953e-02, -8.6172e-02, -1.0368e-01],\n",
              "                        [ 5.2968e-02, -8.0235e-02, -1.6285e-02],\n",
              "                        [ 3.2224e-02, -2.7010e-02, -4.1111e-02]],\n",
              "              \n",
              "                       [[-5.7102e-02, -7.6311e-02, -1.1786e-02],\n",
              "                        [-9.2590e-02, -4.2465e-02,  4.9329e-02],\n",
              "                        [-9.4683e-03,  2.9007e-02, -1.0502e-01]],\n",
              "              \n",
              "                       [[-8.2018e-02, -5.5808e-03,  8.1383e-02],\n",
              "                        [ 3.0731e-02,  3.6145e-02, -9.2317e-02],\n",
              "                        [-6.6212e-02, -3.7768e-02, -6.8231e-02]],\n",
              "              \n",
              "                       [[-7.2347e-02, -7.0848e-02,  6.6673e-03],\n",
              "                        [ 6.7066e-02, -6.2510e-02, -3.3395e-03],\n",
              "                        [-6.5065e-03,  7.3488e-02, -9.2463e-02]],\n",
              "              \n",
              "                       [[-8.5205e-02, -6.6546e-02,  8.1621e-02],\n",
              "                        [-3.8622e-02,  4.9364e-02, -3.8773e-02],\n",
              "                        [-2.5160e-02,  7.7266e-02, -8.3617e-02]],\n",
              "              \n",
              "                       [[ 1.8050e-02,  5.4117e-02,  2.9829e-02],\n",
              "                        [-6.0702e-02, -6.4209e-02, -6.2312e-02],\n",
              "                        [ 2.1338e-02,  4.0213e-02,  6.6358e-02]],\n",
              "              \n",
              "                       [[-1.0294e-01,  9.2016e-02,  6.4450e-03],\n",
              "                        [-3.1802e-02,  7.4757e-02,  4.0013e-02],\n",
              "                        [-7.8477e-02,  1.0376e-01,  6.5513e-02]]],\n",
              "              \n",
              "              \n",
              "                      [[[-9.8079e-02,  3.8562e-02,  2.7720e-02],\n",
              "                        [-1.1446e-02, -7.9872e-02, -6.2866e-02],\n",
              "                        [-5.0942e-02, -7.8462e-02,  2.5898e-02]],\n",
              "              \n",
              "                       [[-2.2557e-02,  5.5157e-02,  8.3837e-02],\n",
              "                        [ 7.6132e-02, -7.3313e-03,  2.4254e-02],\n",
              "                        [ 1.0051e-01, -8.7256e-03,  5.6972e-02]],\n",
              "              \n",
              "                       [[-3.7489e-02,  3.8158e-02,  9.7900e-02],\n",
              "                        [ 4.0484e-02, -2.6071e-02,  1.3132e-02],\n",
              "                        [-1.7550e-03, -7.6239e-02,  1.2635e-02]],\n",
              "              \n",
              "                       [[-4.1864e-02, -6.6042e-02, -9.4574e-02],\n",
              "                        [-1.6937e-02,  3.7777e-02,  1.4749e-02],\n",
              "                        [-8.3769e-02, -1.0410e-01,  8.8674e-02]],\n",
              "              \n",
              "                       [[-2.4967e-02, -6.8282e-03, -7.5555e-02],\n",
              "                        [-8.3186e-02, -9.7745e-02,  4.8258e-02],\n",
              "                        [ 7.7499e-02,  5.2989e-02,  7.2842e-02]],\n",
              "              \n",
              "                       [[ 6.6546e-02, -4.8292e-02, -4.0890e-02],\n",
              "                        [ 4.2254e-02, -8.6748e-02, -3.2433e-02],\n",
              "                        [-9.2271e-02, -4.4208e-03, -8.4981e-02]],\n",
              "              \n",
              "                       [[ 5.1722e-02, -3.1171e-02,  5.4183e-02],\n",
              "                        [-1.6222e-02,  3.4273e-02,  9.8792e-02],\n",
              "                        [-1.8678e-02,  5.3280e-02, -2.1451e-02]],\n",
              "              \n",
              "                       [[-1.0324e-01, -4.7264e-02, -4.5289e-02],\n",
              "                        [ 7.9565e-03, -3.0275e-02, -4.2569e-02],\n",
              "                        [-1.6985e-02,  9.2749e-02, -8.0348e-02]],\n",
              "              \n",
              "                       [[-1.9042e-02, -5.4824e-02,  1.9788e-02],\n",
              "                        [-8.9104e-03,  4.3245e-03,  6.8264e-02],\n",
              "                        [-2.9092e-02, -1.0406e-01,  4.5954e-02]],\n",
              "              \n",
              "                       [[-5.6543e-02,  5.3346e-02, -5.6196e-03],\n",
              "                        [-7.7683e-02,  8.9450e-02, -1.4305e-02],\n",
              "                        [-1.2294e-02, -6.5796e-03, -5.1577e-02]]],\n",
              "              \n",
              "              \n",
              "                      [[[-4.8409e-02,  1.8909e-02, -6.5784e-02],\n",
              "                        [-3.6468e-02, -4.3917e-02,  2.9907e-02],\n",
              "                        [ 1.9958e-02,  2.0873e-02, -6.7507e-02]],\n",
              "              \n",
              "                       [[-2.3566e-02, -6.2651e-02,  1.0066e-01],\n",
              "                        [-1.7117e-02,  9.2357e-02,  1.4953e-03],\n",
              "                        [-5.8341e-02,  6.1465e-02, -5.9925e-02]],\n",
              "              \n",
              "                       [[-2.1371e-02,  9.5884e-02,  3.7767e-02],\n",
              "                        [-8.4509e-02,  3.7184e-02,  2.5219e-02],\n",
              "                        [ 5.4452e-02,  7.5702e-02,  1.4474e-02]],\n",
              "              \n",
              "                       [[-5.4083e-02, -6.1000e-03, -1.6975e-02],\n",
              "                        [-1.8329e-02, -5.6547e-02,  9.2587e-02],\n",
              "                        [-3.6636e-02,  8.5529e-02,  9.2462e-02]],\n",
              "              \n",
              "                       [[ 8.2091e-02,  6.7239e-03,  7.7608e-02],\n",
              "                        [ 6.5324e-03,  4.8504e-03,  2.1529e-02],\n",
              "                        [-7.9412e-02, -6.9572e-02,  5.5533e-02]],\n",
              "              \n",
              "                       [[ 4.6501e-02, -9.5696e-02,  5.2691e-02],\n",
              "                        [ 7.8211e-03, -1.6759e-02, -9.0283e-02],\n",
              "                        [-1.1539e-02,  4.9723e-02,  2.5987e-03]],\n",
              "              \n",
              "                       [[ 7.8571e-02, -2.5569e-02, -5.5840e-03],\n",
              "                        [ 6.4770e-02,  3.8691e-02, -9.6001e-02],\n",
              "                        [ 2.8561e-02, -1.7157e-03,  5.7946e-02]],\n",
              "              \n",
              "                       [[ 1.0204e-02,  2.3183e-02,  3.3620e-02],\n",
              "                        [ 1.0133e-01,  2.8599e-02,  2.2034e-02],\n",
              "                        [ 6.2620e-02,  1.3746e-02, -7.8038e-02]],\n",
              "              \n",
              "                       [[-9.7245e-02, -3.6579e-02, -2.8169e-02],\n",
              "                        [-3.5501e-03, -4.1491e-02,  5.7651e-02],\n",
              "                        [-1.6286e-03, -8.7267e-02,  4.2910e-02]],\n",
              "              \n",
              "                       [[-9.6810e-03,  8.5998e-02,  9.6682e-02],\n",
              "                        [ 3.0129e-03,  9.7572e-02, -6.1681e-02],\n",
              "                        [-3.7106e-02,  1.0338e-01,  1.8678e-03]]],\n",
              "              \n",
              "              \n",
              "                      [[[-2.0550e-02, -6.5055e-03,  6.1777e-02],\n",
              "                        [ 6.8432e-02, -1.5483e-02, -5.5312e-02],\n",
              "                        [-7.5070e-02,  1.0387e-01,  8.1907e-02]],\n",
              "              \n",
              "                       [[ 4.4778e-02,  5.3054e-02, -9.3651e-02],\n",
              "                        [ 1.8840e-02,  3.0419e-02,  2.3850e-02],\n",
              "                        [ 2.9106e-02,  8.0562e-02, -5.1712e-02]],\n",
              "              \n",
              "                       [[-5.2843e-02, -5.5276e-02, -7.5603e-02],\n",
              "                        [ 2.1862e-02, -9.3588e-03,  6.5696e-03],\n",
              "                        [ 7.3159e-02,  9.3602e-02, -5.9215e-02]],\n",
              "              \n",
              "                       [[-4.4978e-02, -5.3727e-02,  9.0892e-02],\n",
              "                        [ 2.8293e-02,  1.2850e-02, -4.9420e-02],\n",
              "                        [ 8.3767e-02, -9.4134e-02,  9.0612e-02]],\n",
              "              \n",
              "                       [[ 3.8718e-02,  9.3064e-02, -1.1669e-02],\n",
              "                        [ 4.4710e-02,  2.5464e-02, -6.9896e-03],\n",
              "                        [-4.4458e-03, -8.0825e-02,  8.4857e-02]],\n",
              "              \n",
              "                       [[-5.6466e-02,  5.5229e-02, -9.2578e-02],\n",
              "                        [ 6.7710e-02, -9.5519e-02, -8.7769e-02],\n",
              "                        [ 6.5744e-02, -3.0198e-02,  6.3762e-04]],\n",
              "              \n",
              "                       [[-3.4893e-02,  4.0724e-02, -5.3942e-02],\n",
              "                        [ 3.3456e-02,  7.5743e-02,  9.6453e-02],\n",
              "                        [-5.9219e-02,  4.0372e-02, -4.4119e-02]],\n",
              "              \n",
              "                       [[ 4.2715e-02,  9.3505e-02,  2.9478e-02],\n",
              "                        [ 6.6389e-02, -1.2040e-02, -1.0183e-01],\n",
              "                        [ 2.5206e-02, -3.2829e-02, -7.9034e-02]],\n",
              "              \n",
              "                       [[ 6.5053e-02,  1.0017e-02, -2.6396e-02],\n",
              "                        [-6.9350e-03, -7.3103e-02, -1.7586e-02],\n",
              "                        [ 2.7406e-02, -8.5291e-02,  8.3150e-02]],\n",
              "              \n",
              "                       [[-3.4626e-02, -2.4636e-02, -4.1513e-02],\n",
              "                        [ 1.4099e-02,  4.1934e-02, -4.4900e-02],\n",
              "                        [-5.6247e-02,  8.8500e-02,  9.8062e-02]]],\n",
              "              \n",
              "              \n",
              "                      [[[-3.9392e-02, -3.8801e-02, -5.5594e-02],\n",
              "                        [ 4.5302e-02, -2.0718e-02, -6.6274e-02],\n",
              "                        [ 1.4180e-02, -8.0007e-02,  2.1791e-02]],\n",
              "              \n",
              "                       [[-3.3210e-02, -4.7553e-02, -7.5989e-02],\n",
              "                        [ 1.2162e-02,  8.5427e-02,  5.5075e-02],\n",
              "                        [-5.8838e-02, -6.9783e-02, -5.5967e-02]],\n",
              "              \n",
              "                       [[ 1.8236e-02, -1.0369e-01, -5.5250e-02],\n",
              "                        [-5.1303e-02, -4.3290e-02,  4.0569e-02],\n",
              "                        [-7.0762e-02,  7.2290e-02,  7.2827e-02]],\n",
              "              \n",
              "                       [[-8.9619e-03,  1.7731e-02, -8.1579e-03],\n",
              "                        [ 4.3166e-02, -1.2002e-02,  6.9032e-02],\n",
              "                        [ 5.8730e-02, -8.1692e-02,  5.1869e-02]],\n",
              "              \n",
              "                       [[ 5.7369e-04,  4.0367e-02, -4.0220e-02],\n",
              "                        [ 8.8199e-02, -6.8876e-02, -7.2166e-02],\n",
              "                        [-2.6796e-03, -4.2980e-02,  1.4169e-02]],\n",
              "              \n",
              "                       [[-9.7487e-02,  5.4811e-03,  7.4142e-02],\n",
              "                        [-1.6816e-02, -7.2074e-02, -7.1355e-02],\n",
              "                        [-1.0203e-01,  3.4279e-02,  5.8061e-02]],\n",
              "              \n",
              "                       [[-4.2682e-02,  8.7093e-02, -2.9307e-02],\n",
              "                        [-7.3885e-02, -8.7825e-02, -6.7833e-02],\n",
              "                        [-1.3557e-02, -9.6517e-02, -1.8278e-02]],\n",
              "              \n",
              "                       [[-1.0085e-01,  6.9784e-02, -9.0148e-02],\n",
              "                        [ 4.7047e-02, -4.7525e-02, -8.6655e-02],\n",
              "                        [ 9.7673e-02,  6.4402e-02, -4.0078e-02]],\n",
              "              \n",
              "                       [[ 1.2277e-02, -3.7650e-02, -3.8290e-02],\n",
              "                        [ 4.5512e-04, -7.8748e-02, -3.1310e-02],\n",
              "                        [-4.7662e-02,  1.0229e-01, -9.3498e-02]],\n",
              "              \n",
              "                       [[-2.7706e-02,  4.5421e-02,  3.3783e-02],\n",
              "                        [ 1.0073e-01,  2.5404e-02, -1.0540e-01],\n",
              "                        [ 2.6924e-02,  7.5218e-02,  1.3155e-02]]],\n",
              "              \n",
              "              \n",
              "                      [[[ 6.0441e-03, -2.7261e-02,  1.7114e-02],\n",
              "                        [ 1.5178e-02, -9.5666e-02,  8.1046e-02],\n",
              "                        [-5.0530e-02, -6.2045e-02, -7.1363e-03]],\n",
              "              \n",
              "                       [[-1.0171e-01, -7.5231e-02,  1.0209e-01],\n",
              "                        [ 4.3140e-03, -7.9193e-02,  4.8127e-02],\n",
              "                        [-6.8365e-02,  8.1615e-02, -7.5513e-02]],\n",
              "              \n",
              "                       [[-6.0378e-03, -3.3372e-02,  5.1224e-02],\n",
              "                        [-8.0567e-03,  4.5318e-02, -2.0405e-02],\n",
              "                        [-2.7550e-02, -2.9227e-02, -5.5576e-02]],\n",
              "              \n",
              "                       [[ 8.5919e-02, -1.0076e-01, -7.0203e-02],\n",
              "                        [ 1.4731e-02,  5.1289e-02, -5.5834e-02],\n",
              "                        [ 1.6346e-02, -6.9284e-02, -8.0758e-02]],\n",
              "              \n",
              "                       [[-2.5065e-02, -8.8980e-03,  6.5753e-02],\n",
              "                        [-5.7870e-02, -8.6736e-02,  8.7080e-03],\n",
              "                        [-1.9396e-02,  4.4910e-02,  1.0068e-01]],\n",
              "              \n",
              "                       [[ 6.0789e-03,  1.3451e-02,  3.5291e-02],\n",
              "                        [-2.1658e-02, -9.1945e-02,  4.9004e-02],\n",
              "                        [-1.0271e-02, -4.0453e-02, -8.5251e-02]],\n",
              "              \n",
              "                       [[-3.4308e-02,  1.3105e-02,  8.9087e-02],\n",
              "                        [-2.5943e-02,  3.5997e-02, -2.8524e-02],\n",
              "                        [ 5.6663e-03,  6.1009e-02, -2.4619e-02]],\n",
              "              \n",
              "                       [[ 2.2054e-02,  9.3562e-02,  7.1762e-03],\n",
              "                        [-8.6519e-03,  5.0716e-02, -1.3601e-02],\n",
              "                        [-6.6578e-02, -2.5769e-02, -6.1254e-02]],\n",
              "              \n",
              "                       [[ 6.4079e-02,  8.9335e-02, -5.2795e-02],\n",
              "                        [-4.0642e-02, -5.3372e-02, -5.7163e-02],\n",
              "                        [ 9.6804e-02,  4.8774e-02, -3.0685e-02]],\n",
              "              \n",
              "                       [[-5.9989e-02, -4.9722e-02,  9.7876e-02],\n",
              "                        [-1.6221e-02, -3.8045e-02, -9.6816e-02],\n",
              "                        [ 8.5545e-02, -9.5610e-03, -3.8036e-02]]],\n",
              "              \n",
              "              \n",
              "                      [[[-7.8639e-02, -2.9987e-02,  9.2530e-03],\n",
              "                        [-4.2840e-02, -6.3519e-02, -3.5758e-02],\n",
              "                        [-5.8683e-02, -6.0162e-02, -8.9686e-02]],\n",
              "              \n",
              "                       [[-7.1539e-03,  7.0567e-02, -1.0004e-01],\n",
              "                        [-4.2886e-02,  5.4979e-02, -2.8183e-02],\n",
              "                        [ 7.2814e-02,  6.3575e-02, -8.8382e-02]],\n",
              "              \n",
              "                       [[-8.1564e-02, -7.6926e-02,  8.7320e-02],\n",
              "                        [ 6.7654e-02, -4.7423e-02,  4.8165e-02],\n",
              "                        [-8.5515e-02,  9.1949e-02,  9.1148e-02]],\n",
              "              \n",
              "                       [[-7.6211e-02, -2.0918e-03,  7.6685e-02],\n",
              "                        [ 4.8593e-02,  9.3771e-02, -4.2400e-02],\n",
              "                        [ 7.8035e-02,  9.5984e-02,  8.6295e-02]],\n",
              "              \n",
              "                       [[-9.5595e-02,  7.0630e-02,  7.0047e-02],\n",
              "                        [-1.0505e-01,  5.0623e-02, -9.6140e-02],\n",
              "                        [-5.5699e-02,  5.2842e-02,  1.0334e-01]],\n",
              "              \n",
              "                       [[-6.5449e-03, -9.5647e-02,  2.9785e-02],\n",
              "                        [-5.3251e-02, -9.8390e-02,  6.1791e-02],\n",
              "                        [ 1.4423e-03,  1.8655e-02,  6.4886e-02]],\n",
              "              \n",
              "                       [[-8.4388e-03,  4.2587e-02,  7.2799e-02],\n",
              "                        [-8.7511e-02, -1.0215e-01, -3.9031e-02],\n",
              "                        [ 3.5046e-02,  9.2780e-03, -9.5289e-03]],\n",
              "              \n",
              "                       [[ 3.3730e-03, -3.7205e-02,  5.4739e-02],\n",
              "                        [ 3.1216e-02, -2.2308e-02,  9.7124e-02],\n",
              "                        [-5.1520e-03, -8.8114e-02,  7.9418e-02]],\n",
              "              \n",
              "                       [[-3.5958e-02,  1.6857e-02, -3.3762e-02],\n",
              "                        [ 1.1718e-02,  8.3479e-02, -5.3126e-02],\n",
              "                        [-5.5625e-02,  5.1666e-02, -4.4599e-02]],\n",
              "              \n",
              "                       [[-6.9268e-02,  1.2201e-02, -6.3496e-02],\n",
              "                        [-6.6382e-03,  8.1269e-02,  4.1702e-02],\n",
              "                        [ 6.6718e-02, -2.6081e-02, -5.9588e-02]]],\n",
              "              \n",
              "              \n",
              "                      [[[-3.3739e-02, -1.0155e-03, -5.1227e-02],\n",
              "                        [-2.0918e-02,  3.9348e-02, -3.7274e-02],\n",
              "                        [ 1.0324e-01,  1.6201e-02,  8.3678e-02]],\n",
              "              \n",
              "                       [[-1.6004e-02, -3.1612e-02, -3.4247e-03],\n",
              "                        [ 2.3220e-02, -2.7017e-02,  8.6507e-02],\n",
              "                        [-2.6588e-02,  2.9325e-02,  1.4140e-02]],\n",
              "              \n",
              "                       [[ 9.9430e-02, -1.1284e-02,  5.6703e-02],\n",
              "                        [ 4.6039e-02, -3.9941e-02, -5.6917e-02],\n",
              "                        [-1.7329e-02,  9.9255e-02, -4.8155e-03]],\n",
              "              \n",
              "                       [[-3.5735e-02, -7.0827e-02, -8.8033e-02],\n",
              "                        [-1.6047e-02, -7.4244e-02,  7.3338e-02],\n",
              "                        [-4.4120e-02, -4.8588e-02, -6.1805e-02]],\n",
              "              \n",
              "                       [[-9.6080e-03,  3.6678e-03, -2.8902e-02],\n",
              "                        [ 3.1555e-02, -1.5058e-02, -8.1708e-02],\n",
              "                        [-8.6191e-02,  1.6672e-02,  4.2306e-02]],\n",
              "              \n",
              "                       [[-8.9934e-02,  6.6705e-02,  8.2475e-02],\n",
              "                        [-6.6213e-02, -2.7125e-02, -3.1814e-02],\n",
              "                        [ 5.6398e-02, -3.0663e-02, -3.0269e-02]],\n",
              "              \n",
              "                       [[-9.0614e-02, -1.2568e-02,  5.6285e-02],\n",
              "                        [ 9.7169e-02, -5.8555e-02, -2.7099e-02],\n",
              "                        [-4.9479e-02, -7.9710e-02, -2.3788e-03]],\n",
              "              \n",
              "                       [[ 8.7083e-02,  6.7993e-02,  8.3137e-02],\n",
              "                        [ 6.6300e-02, -2.2062e-02,  1.0216e-01],\n",
              "                        [ 4.5038e-02, -1.5559e-03, -2.4564e-02]],\n",
              "              \n",
              "                       [[-8.3886e-02,  1.0329e-02,  3.9823e-02],\n",
              "                        [ 2.6838e-03,  4.6511e-02, -5.1113e-02],\n",
              "                        [ 1.4876e-02, -7.5487e-02, -9.3363e-02]],\n",
              "              \n",
              "                       [[-4.1473e-02,  9.1481e-02, -4.8326e-02],\n",
              "                        [-3.0886e-02,  1.0364e-01, -1.2517e-02],\n",
              "                        [-5.5074e-02, -2.8326e-03,  7.8154e-02]]]], device='cuda:0')),\n",
              "             ('conv_block_1.2.bias',\n",
              "              tensor([-0.0189,  0.0902, -0.0079, -0.0910, -0.0637,  0.0215, -0.0031, -0.0241,\n",
              "                      -0.0298,  0.0923], device='cuda:0')),\n",
              "             ('conv_block_2.0.weight',\n",
              "              tensor([[[[ 6.3711e-02,  6.8587e-02, -3.1950e-02],\n",
              "                        [ 1.0079e-01,  4.5680e-02,  3.3565e-02],\n",
              "                        [ 1.0959e-02,  9.5783e-02, -4.9187e-02]],\n",
              "              \n",
              "                       [[ 2.4808e-02, -7.3384e-02,  2.5553e-02],\n",
              "                        [-7.0608e-02,  8.1692e-02,  1.4525e-02],\n",
              "                        [ 2.5972e-02, -4.0560e-02,  1.0921e-02]],\n",
              "              \n",
              "                       [[-6.1730e-02, -8.9675e-02, -4.9197e-03],\n",
              "                        [ 1.9007e-02,  5.0247e-02,  6.9875e-02],\n",
              "                        [-4.9726e-02,  4.8068e-02,  6.2773e-02]],\n",
              "              \n",
              "                       [[ 1.0215e-01, -6.1949e-02,  7.9297e-02],\n",
              "                        [-8.4960e-02,  1.4038e-02, -9.7358e-02],\n",
              "                        [ 8.9976e-02,  3.4575e-02,  2.8380e-02]],\n",
              "              \n",
              "                       [[-7.5105e-02, -1.9818e-02, -8.4975e-02],\n",
              "                        [ 3.3921e-02, -3.9677e-02,  8.8201e-02],\n",
              "                        [ 1.5405e-02,  1.8470e-02, -6.4283e-02]],\n",
              "              \n",
              "                       [[-1.0164e-01, -7.4745e-02,  2.5908e-02],\n",
              "                        [-6.8146e-02, -8.8559e-02,  6.7394e-02],\n",
              "                        [ 7.1475e-02, -7.4615e-05,  3.1597e-03]],\n",
              "              \n",
              "                       [[-6.9275e-02,  9.7729e-02, -2.8746e-03],\n",
              "                        [ 6.8315e-02, -7.9723e-02,  8.2734e-02],\n",
              "                        [-5.7720e-02,  1.9806e-02,  4.8384e-02]],\n",
              "              \n",
              "                       [[ 2.3504e-02, -1.0513e-01, -2.7489e-02],\n",
              "                        [-8.6285e-02, -9.4404e-02,  2.2152e-02],\n",
              "                        [-7.4724e-02, -5.3377e-02, -8.0811e-02]],\n",
              "              \n",
              "                       [[-9.0629e-02,  9.2535e-02,  7.9062e-02],\n",
              "                        [-7.2662e-02,  4.3583e-02,  8.3473e-02],\n",
              "                        [ 5.5595e-02, -6.8583e-02,  3.0606e-02]],\n",
              "              \n",
              "                       [[ 3.2357e-02, -4.1577e-02, -5.4922e-02],\n",
              "                        [-2.8161e-03,  8.0620e-03,  4.8176e-02],\n",
              "                        [ 1.4022e-02, -1.3616e-02, -5.4002e-02]]],\n",
              "              \n",
              "              \n",
              "                      [[[-3.1726e-02,  4.3030e-02,  8.3307e-03],\n",
              "                        [ 9.8767e-02, -5.9854e-02, -6.3631e-02],\n",
              "                        [-1.0213e-02,  5.2616e-02, -6.4169e-02]],\n",
              "              \n",
              "                       [[-1.2667e-02,  7.0363e-02,  5.6760e-02],\n",
              "                        [-9.6175e-02, -8.0459e-02, -9.8502e-02],\n",
              "                        [-7.7414e-02,  6.3443e-02, -1.1495e-02]],\n",
              "              \n",
              "                       [[-6.5736e-02,  5.1898e-02, -7.8572e-02],\n",
              "                        [-5.5560e-02, -8.2825e-02, -7.8412e-02],\n",
              "                        [ 7.1070e-02,  4.1881e-02, -9.8357e-02]],\n",
              "              \n",
              "                       [[-2.0862e-02,  7.4061e-02,  7.0791e-02],\n",
              "                        [ 1.0318e-01,  9.4326e-03,  6.6247e-02],\n",
              "                        [ 6.3690e-02,  4.9636e-02,  2.4292e-02]],\n",
              "              \n",
              "                       [[-1.0515e-02, -7.8037e-02, -3.7773e-02],\n",
              "                        [-3.4764e-02, -8.7578e-02, -4.2236e-02],\n",
              "                        [ 1.6749e-02,  3.5868e-03, -2.6163e-02]],\n",
              "              \n",
              "                       [[ 8.9843e-02, -8.5243e-02, -9.2841e-02],\n",
              "                        [-8.5556e-02, -6.8115e-02, -3.6429e-02],\n",
              "                        [ 5.3943e-02, -1.0087e-01, -4.9942e-03]],\n",
              "              \n",
              "                       [[ 7.4552e-02,  6.1474e-02, -5.1487e-02],\n",
              "                        [-5.6283e-03, -1.7533e-02, -3.8871e-02],\n",
              "                        [-3.3138e-02,  5.7239e-02,  8.6328e-02]],\n",
              "              \n",
              "                       [[ 2.9978e-02, -1.4699e-02, -7.2525e-02],\n",
              "                        [-5.4605e-02,  2.6425e-02,  3.7782e-02],\n",
              "                        [ 4.3244e-02, -6.7172e-02, -3.7132e-02]],\n",
              "              \n",
              "                       [[-6.2045e-03, -8.6780e-03, -9.1436e-02],\n",
              "                        [ 1.4865e-02,  8.6292e-02,  6.1280e-02],\n",
              "                        [-4.7354e-02, -4.0043e-02, -1.2511e-02]],\n",
              "              \n",
              "                       [[-1.4184e-02, -4.6227e-02, -4.2219e-02],\n",
              "                        [-4.9812e-02,  9.7579e-02,  1.8565e-02],\n",
              "                        [-2.5758e-02,  6.1941e-02, -3.8497e-02]]],\n",
              "              \n",
              "              \n",
              "                      [[[-8.3171e-02, -1.0313e-01, -6.5758e-02],\n",
              "                        [ 2.9411e-02,  2.0237e-02,  4.5085e-02],\n",
              "                        [-1.0052e-01, -2.7743e-02,  7.2770e-02]],\n",
              "              \n",
              "                       [[-7.3618e-02,  2.1854e-03, -1.0117e-01],\n",
              "                        [ 4.5094e-02,  9.4172e-02, -5.2348e-02],\n",
              "                        [-6.3125e-02, -6.4679e-02,  8.2280e-02]],\n",
              "              \n",
              "                       [[-4.2952e-02, -7.5270e-03,  5.5740e-03],\n",
              "                        [-3.7298e-02, -1.1202e-02, -7.6430e-02],\n",
              "                        [ 4.2514e-02,  6.6551e-02,  4.1854e-02]],\n",
              "              \n",
              "                       [[ 2.0423e-02,  5.3634e-02,  9.6512e-02],\n",
              "                        [ 3.9215e-02,  2.0670e-02, -9.4747e-02],\n",
              "                        [-4.2189e-03, -2.9284e-02, -1.0070e-02]],\n",
              "              \n",
              "                       [[ 7.7419e-02,  7.6647e-02, -1.7316e-02],\n",
              "                        [-8.8791e-02, -7.6864e-02, -1.9368e-02],\n",
              "                        [-1.4962e-03,  4.4542e-02,  5.8301e-02]],\n",
              "              \n",
              "                       [[-1.0370e-01, -7.1469e-02,  7.0206e-02],\n",
              "                        [-6.1529e-02,  3.3883e-02,  1.0475e-01],\n",
              "                        [ 2.1804e-02, -2.7963e-02, -7.5241e-02]],\n",
              "              \n",
              "                       [[-9.0366e-02, -6.1527e-02, -3.5937e-02],\n",
              "                        [ 8.2604e-02, -9.5152e-02,  9.8268e-02],\n",
              "                        [-6.3566e-02, -1.6024e-02,  6.2648e-02]],\n",
              "              \n",
              "                       [[-9.8915e-02, -5.8794e-02,  6.8991e-02],\n",
              "                        [ 3.9865e-02, -2.2599e-02, -9.5467e-02],\n",
              "                        [ 2.4715e-02,  5.2803e-02, -1.6404e-02]],\n",
              "              \n",
              "                       [[-5.9765e-02, -8.7425e-03,  5.4316e-02],\n",
              "                        [-1.2110e-02, -5.1110e-02,  6.3349e-03],\n",
              "                        [-7.7922e-02, -6.6271e-02,  6.7613e-02]],\n",
              "              \n",
              "                       [[ 6.4738e-02,  4.2207e-02, -2.6982e-03],\n",
              "                        [-3.5674e-02, -2.4031e-02,  6.9643e-02],\n",
              "                        [-9.2379e-02, -7.8182e-02, -6.4580e-02]]],\n",
              "              \n",
              "              \n",
              "                      [[[ 8.7422e-03, -9.9390e-02, -6.3076e-03],\n",
              "                        [-8.3320e-02, -8.0252e-03, -1.0469e-01],\n",
              "                        [ 6.3763e-02,  5.5558e-02,  4.5282e-02]],\n",
              "              \n",
              "                       [[ 1.2575e-02,  1.3756e-02,  6.0264e-02],\n",
              "                        [ 6.6713e-03,  4.9195e-02, -1.0261e-01],\n",
              "                        [-2.4875e-02, -6.5219e-02, -8.9416e-02]],\n",
              "              \n",
              "                       [[ 1.7883e-02, -8.5473e-02,  1.0036e-01],\n",
              "                        [-3.9233e-02, -8.8214e-02,  3.7622e-02],\n",
              "                        [ 5.2981e-02,  1.0719e-03, -6.0212e-02]],\n",
              "              \n",
              "                       [[ 1.2368e-02, -6.4685e-02, -2.1024e-02],\n",
              "                        [-7.3661e-02, -7.2023e-02, -8.0296e-02],\n",
              "                        [ 4.1001e-03, -9.5954e-02,  7.4115e-02]],\n",
              "              \n",
              "                       [[ 8.3711e-02,  1.3813e-02, -1.5813e-02],\n",
              "                        [-9.8546e-02,  8.7942e-02, -7.5617e-03],\n",
              "                        [-1.9929e-02,  4.8539e-02,  7.4134e-02]],\n",
              "              \n",
              "                       [[ 1.0176e-01, -6.6201e-02, -6.3613e-02],\n",
              "                        [ 9.7763e-02, -4.2031e-03, -7.9701e-02],\n",
              "                        [-8.5091e-02, -1.0176e-01,  7.0138e-02]],\n",
              "              \n",
              "                       [[-2.0567e-02,  3.3269e-02, -2.6159e-02],\n",
              "                        [-1.8323e-02,  5.9837e-02,  4.2426e-02],\n",
              "                        [-7.5295e-03, -8.4243e-02, -8.1731e-02]],\n",
              "              \n",
              "                       [[-8.4254e-02,  9.5481e-02,  9.7317e-02],\n",
              "                        [ 6.5793e-02,  3.2850e-02,  3.3903e-02],\n",
              "                        [ 4.4297e-02,  1.5153e-02,  7.1378e-02]],\n",
              "              \n",
              "                       [[-1.6193e-02, -8.3361e-03,  3.3721e-02],\n",
              "                        [ 3.0690e-02,  2.5320e-02,  1.0586e-02],\n",
              "                        [-9.6395e-02,  2.2692e-03,  1.5195e-02]],\n",
              "              \n",
              "                       [[ 8.5887e-02, -6.5476e-02,  3.4897e-03],\n",
              "                        [-1.0441e-01, -4.9062e-02,  9.0753e-02],\n",
              "                        [-6.5928e-02, -7.2594e-02, -5.1513e-02]]],\n",
              "              \n",
              "              \n",
              "                      [[[ 8.9387e-02,  5.1996e-02,  8.3222e-02],\n",
              "                        [-1.3868e-02,  5.4893e-02, -4.5145e-02],\n",
              "                        [-1.6822e-02, -3.6551e-02,  4.5784e-02]],\n",
              "              \n",
              "                       [[ 8.2817e-02,  6.3116e-02,  2.7055e-02],\n",
              "                        [-2.0740e-02,  5.5983e-02, -1.2631e-03],\n",
              "                        [-6.3445e-04,  9.2041e-02,  9.9644e-02]],\n",
              "              \n",
              "                       [[-9.8830e-02, -9.8726e-02,  4.7810e-02],\n",
              "                        [ 9.2581e-02,  3.0584e-02, -4.8128e-02],\n",
              "                        [ 1.4558e-02, -2.6964e-02,  2.5773e-02]],\n",
              "              \n",
              "                       [[ 8.8929e-02,  9.9309e-02,  8.1424e-02],\n",
              "                        [-4.5539e-02,  3.8339e-02, -1.2249e-02],\n",
              "                        [-8.5648e-02, -3.2331e-02, -7.3537e-02]],\n",
              "              \n",
              "                       [[-1.8734e-03, -3.5981e-02,  1.6603e-02],\n",
              "                        [ 6.1943e-02,  3.2962e-02, -7.1394e-02],\n",
              "                        [ 1.0036e-01,  9.5823e-02, -4.7003e-02]],\n",
              "              \n",
              "                       [[-1.9321e-02, -5.7934e-02, -8.8782e-02],\n",
              "                        [ 9.8108e-02, -3.4695e-02,  2.5401e-02],\n",
              "                        [ 2.7070e-02,  5.1070e-02, -9.3723e-02]],\n",
              "              \n",
              "                       [[ 9.4149e-03,  1.0217e-01, -1.1429e-02],\n",
              "                        [ 6.1551e-02, -6.4278e-02,  8.1519e-02],\n",
              "                        [ 4.9171e-02,  7.5334e-02,  5.3718e-02]],\n",
              "              \n",
              "                       [[-9.0517e-02, -9.7427e-02,  5.1412e-02],\n",
              "                        [-6.2202e-02, -1.9699e-02, -7.9840e-02],\n",
              "                        [ 5.6581e-02, -7.8030e-02,  7.2367e-03]],\n",
              "              \n",
              "                       [[-8.4518e-02,  3.6022e-02, -5.5475e-02],\n",
              "                        [ 1.8623e-02,  5.3853e-02,  5.5105e-02],\n",
              "                        [ 5.4021e-02, -1.3279e-02, -9.6558e-02]],\n",
              "              \n",
              "                       [[-3.5745e-02,  1.7961e-02,  8.7455e-02],\n",
              "                        [-9.1622e-02,  8.6177e-02,  8.8310e-02],\n",
              "                        [ 6.4152e-03,  2.3711e-02,  8.3770e-02]]],\n",
              "              \n",
              "              \n",
              "                      [[[-9.4741e-02, -7.6856e-02,  1.4644e-02],\n",
              "                        [-7.4091e-03, -7.0211e-02,  5.9606e-02],\n",
              "                        [ 2.4967e-02,  4.2129e-02,  7.7269e-02]],\n",
              "              \n",
              "                       [[ 3.7595e-02, -8.1767e-02,  1.6773e-03],\n",
              "                        [-2.3945e-02, -3.2727e-02,  1.0381e-01],\n",
              "                        [ 6.3537e-02,  5.4214e-02,  1.7008e-04]],\n",
              "              \n",
              "                       [[-4.0864e-03,  2.4934e-02,  1.0271e-01],\n",
              "                        [ 2.5432e-02, -3.4720e-02,  8.8222e-02],\n",
              "                        [-6.1619e-02, -3.5408e-03, -4.4150e-02]],\n",
              "              \n",
              "                       [[ 1.0312e-02, -4.3744e-02, -5.4462e-02],\n",
              "                        [ 4.3843e-02,  9.4511e-02, -9.4117e-02],\n",
              "                        [-6.5510e-02, -7.3702e-02, -5.2945e-02]],\n",
              "              \n",
              "                       [[-8.5792e-02,  9.3138e-02,  6.2899e-02],\n",
              "                        [-1.9830e-02, -9.8453e-02, -2.7798e-03],\n",
              "                        [ 3.8843e-02,  6.8976e-02, -4.3747e-02]],\n",
              "              \n",
              "                       [[-4.1897e-02,  6.9353e-02, -7.2115e-02],\n",
              "                        [-4.3387e-02,  1.8777e-02,  4.9191e-03],\n",
              "                        [-1.0076e-01, -7.7845e-02,  7.0764e-02]],\n",
              "              \n",
              "                       [[-5.5468e-02, -4.2683e-02,  8.7518e-02],\n",
              "                        [ 7.6133e-02,  8.6210e-02, -6.3783e-02],\n",
              "                        [-3.7409e-02,  3.2586e-02, -6.4769e-02]],\n",
              "              \n",
              "                       [[ 1.1476e-02,  3.0254e-02,  4.4178e-02],\n",
              "                        [ 4.6379e-02,  2.7674e-02, -1.0151e-01],\n",
              "                        [-7.7963e-03, -2.7284e-02,  1.5612e-02]],\n",
              "              \n",
              "                       [[ 5.7615e-02, -8.7698e-02,  7.2562e-02],\n",
              "                        [-6.9462e-02, -6.1826e-02,  7.9270e-02],\n",
              "                        [-9.3250e-02,  2.5277e-02, -6.9466e-02]],\n",
              "              \n",
              "                       [[ 6.1931e-02,  9.7806e-02,  3.0462e-02],\n",
              "                        [-8.4860e-02,  1.6005e-02, -1.0396e-01],\n",
              "                        [-6.2720e-02,  8.4681e-02, -4.0695e-02]]],\n",
              "              \n",
              "              \n",
              "                      [[[-9.3255e-02, -9.0801e-02, -5.3236e-03],\n",
              "                        [ 8.8143e-02, -1.0151e-01, -3.9967e-02],\n",
              "                        [ 6.9560e-02, -4.4351e-02, -3.4992e-02]],\n",
              "              \n",
              "                       [[-6.9098e-02,  5.5577e-02, -5.7474e-02],\n",
              "                        [-7.2548e-02, -7.4148e-02, -5.5771e-02],\n",
              "                        [-3.2935e-02,  7.9486e-03, -1.0406e-02]],\n",
              "              \n",
              "                       [[-4.1036e-02, -4.6978e-02,  1.3921e-02],\n",
              "                        [-7.6665e-02,  3.2304e-02, -1.6315e-02],\n",
              "                        [ 8.0152e-02,  5.4368e-02,  6.1903e-02]],\n",
              "              \n",
              "                       [[-9.1891e-02,  5.3050e-02, -6.2027e-02],\n",
              "                        [ 9.5773e-02, -4.2650e-02, -1.0380e-01],\n",
              "                        [ 9.5243e-03, -6.8188e-02,  2.4658e-02]],\n",
              "              \n",
              "                       [[ 7.6356e-02, -2.2938e-02, -9.0441e-02],\n",
              "                        [ 1.0355e-01,  1.0537e-01,  3.2743e-02],\n",
              "                        [ 1.0326e-01, -2.0617e-02,  2.5899e-02]],\n",
              "              \n",
              "                       [[ 1.4505e-02,  2.8844e-02, -1.1356e-02],\n",
              "                        [-1.4287e-02, -6.8317e-03,  3.2136e-02],\n",
              "                        [-8.9261e-02, -4.9109e-02,  8.9546e-02]],\n",
              "              \n",
              "                       [[ 9.4567e-02, -8.3547e-02, -2.7821e-02],\n",
              "                        [-3.9965e-02, -3.1855e-02,  1.0342e-01],\n",
              "                        [-2.1032e-02,  3.0137e-03,  6.8929e-02]],\n",
              "              \n",
              "                       [[ 7.4810e-02,  8.4762e-03, -4.3177e-02],\n",
              "                        [ 5.1262e-02, -8.7108e-02, -8.8322e-02],\n",
              "                        [ 1.8701e-03, -8.1904e-02, -3.8527e-04]],\n",
              "              \n",
              "                       [[ 8.1655e-02,  5.7831e-02, -8.6927e-02],\n",
              "                        [-1.7431e-02,  3.5999e-02, -5.9899e-03],\n",
              "                        [ 9.9525e-02,  4.5026e-02,  4.5001e-02]],\n",
              "              \n",
              "                       [[-9.4007e-02,  1.2770e-02,  2.1682e-02],\n",
              "                        [ 4.7850e-02,  4.3659e-02,  4.0340e-02],\n",
              "                        [-9.1638e-02,  2.6518e-02, -9.9588e-02]]],\n",
              "              \n",
              "              \n",
              "                      [[[-8.9304e-02, -7.0944e-02, -9.8992e-02],\n",
              "                        [-4.4837e-03, -4.5572e-02,  5.3634e-02],\n",
              "                        [ 9.9662e-02, -3.7025e-02, -4.7366e-02]],\n",
              "              \n",
              "                       [[-8.6197e-03,  3.7325e-02, -6.1215e-02],\n",
              "                        [-7.4674e-02, -4.5764e-02,  3.0773e-02],\n",
              "                        [-6.8744e-02, -5.3842e-02, -4.4958e-03]],\n",
              "              \n",
              "                       [[-9.9807e-02,  7.4352e-02,  5.2106e-03],\n",
              "                        [ 7.4361e-02,  5.6760e-02,  8.2068e-02],\n",
              "                        [ 3.3538e-02, -5.6493e-02, -5.1593e-02]],\n",
              "              \n",
              "                       [[-7.5272e-02, -1.0151e-01, -7.5787e-02],\n",
              "                        [ 2.3036e-02, -7.1049e-02,  2.9041e-02],\n",
              "                        [ 9.4039e-02,  2.7085e-02,  8.1080e-02]],\n",
              "              \n",
              "                       [[-4.2659e-02,  5.2686e-02,  1.4202e-02],\n",
              "                        [ 3.0065e-02, -3.1534e-02, -6.5002e-02],\n",
              "                        [ 2.4028e-02,  9.3716e-02, -6.9608e-02]],\n",
              "              \n",
              "                       [[ 1.5599e-02,  2.8402e-03,  2.5842e-02],\n",
              "                        [-9.3913e-02, -4.2251e-03, -2.3181e-02],\n",
              "                        [ 3.0646e-02,  5.0802e-02,  2.8968e-02]],\n",
              "              \n",
              "                       [[ 1.8053e-02, -5.4061e-02,  1.0083e-01],\n",
              "                        [ 5.7547e-02, -5.2880e-02, -9.9800e-02],\n",
              "                        [ 8.5436e-02, -7.5225e-02,  5.5993e-02]],\n",
              "              \n",
              "                       [[-7.8588e-03, -9.5952e-02,  1.2923e-02],\n",
              "                        [-7.7293e-03, -2.6271e-02, -9.3881e-02],\n",
              "                        [ 7.8213e-02, -3.5794e-02, -1.9123e-02]],\n",
              "              \n",
              "                       [[ 5.8043e-02, -8.6965e-02, -8.9818e-02],\n",
              "                        [ 5.8542e-02,  9.1072e-02, -8.3715e-02],\n",
              "                        [ 8.5055e-02, -9.8572e-02, -7.4593e-02]],\n",
              "              \n",
              "                       [[-1.0184e-02,  6.9652e-02,  7.7209e-02],\n",
              "                        [-4.2438e-02, -1.6703e-02, -3.6558e-02],\n",
              "                        [ 1.0131e-01, -1.4813e-02,  8.6522e-02]]],\n",
              "              \n",
              "              \n",
              "                      [[[-3.9410e-02, -9.6200e-02,  5.1942e-02],\n",
              "                        [ 2.3468e-02,  9.7853e-02, -7.9598e-02],\n",
              "                        [-4.1564e-03,  8.5276e-02,  1.2246e-02]],\n",
              "              \n",
              "                       [[ 1.3207e-02, -7.6636e-02,  1.9250e-03],\n",
              "                        [-5.9130e-02,  1.9045e-02, -3.4710e-03],\n",
              "                        [ 6.7975e-02, -7.6536e-02, -3.1489e-02]],\n",
              "              \n",
              "                       [[ 6.5234e-03, -7.1954e-02, -4.2788e-02],\n",
              "                        [-8.6457e-03,  6.7231e-02, -4.6339e-04],\n",
              "                        [-5.4953e-02, -5.5805e-02, -2.3576e-02]],\n",
              "              \n",
              "                       [[ 2.0488e-02,  9.3604e-02,  6.6525e-02],\n",
              "                        [ 2.9345e-02, -3.2271e-02, -4.9661e-02],\n",
              "                        [ 9.1301e-02, -4.2817e-02,  3.6095e-02]],\n",
              "              \n",
              "                       [[ 1.6558e-03,  7.7813e-03, -5.3740e-02],\n",
              "                        [ 1.8437e-02, -6.5974e-02,  3.1722e-02],\n",
              "                        [-2.7807e-02,  3.9288e-02,  9.2322e-02]],\n",
              "              \n",
              "                       [[-3.2485e-02,  2.3380e-04,  6.9507e-02],\n",
              "                        [-8.4584e-02,  4.0584e-02,  1.7837e-02],\n",
              "                        [-7.9120e-02,  3.4855e-02,  6.4286e-02]],\n",
              "              \n",
              "                       [[-1.9866e-02, -1.6948e-02,  6.1080e-02],\n",
              "                        [-8.1060e-02, -5.2676e-02, -6.5800e-02],\n",
              "                        [ 6.8620e-02, -3.8684e-02,  4.3130e-02]],\n",
              "              \n",
              "                       [[-4.8504e-02,  2.5637e-02,  2.6570e-02],\n",
              "                        [ 8.6229e-02, -9.6989e-02, -4.5877e-02],\n",
              "                        [-7.2629e-02, -3.7707e-02, -4.3619e-02]],\n",
              "              \n",
              "                       [[ 1.0652e-02,  1.0396e-01, -5.0856e-02],\n",
              "                        [ 9.2076e-02,  2.1557e-02, -4.3864e-03],\n",
              "                        [-1.0315e-01,  8.3410e-02, -6.0664e-02]],\n",
              "              \n",
              "                       [[-4.9646e-03,  8.7093e-02, -2.5759e-02],\n",
              "                        [ 5.4104e-02, -8.5341e-02,  1.5759e-02],\n",
              "                        [-5.8374e-02, -3.9559e-02,  1.9204e-02]]],\n",
              "              \n",
              "              \n",
              "                      [[[ 9.1560e-02, -1.4268e-02, -7.4836e-02],\n",
              "                        [-4.2250e-03, -4.0509e-02,  7.3535e-02],\n",
              "                        [-3.8603e-03, -7.4979e-02,  1.0165e-01]],\n",
              "              \n",
              "                       [[-2.7277e-02,  7.2706e-02,  2.0341e-02],\n",
              "                        [-3.6026e-02,  9.4840e-03, -5.7518e-02],\n",
              "                        [ 7.4191e-02,  1.8283e-02,  3.6964e-02]],\n",
              "              \n",
              "                       [[ 8.5726e-02,  3.1367e-02, -9.0500e-02],\n",
              "                        [ 7.8818e-02, -8.9623e-02, -6.3781e-02],\n",
              "                        [-1.3706e-02,  8.5407e-02,  6.6518e-02]],\n",
              "              \n",
              "                       [[ 2.1947e-02,  6.3109e-02, -7.3090e-02],\n",
              "                        [ 1.4967e-02, -7.9195e-02,  2.3131e-02],\n",
              "                        [ 6.4390e-02, -1.0338e-01, -7.2922e-02]],\n",
              "              \n",
              "                       [[ 3.7856e-03, -6.5976e-02, -6.4989e-02],\n",
              "                        [-8.6166e-02,  9.6284e-03,  3.1874e-02],\n",
              "                        [ 5.9860e-02, -4.6999e-02,  8.4160e-02]],\n",
              "              \n",
              "                       [[ 7.6273e-02, -1.0024e-01,  4.3442e-02],\n",
              "                        [-3.4129e-02,  5.0553e-02,  4.7329e-02],\n",
              "                        [ 3.4354e-02,  7.2247e-02,  7.1352e-02]],\n",
              "              \n",
              "                       [[-4.0891e-02, -6.6615e-02,  6.0116e-02],\n",
              "                        [ 4.6377e-02, -8.7659e-03,  1.4641e-02],\n",
              "                        [-3.1672e-03, -1.0155e-01, -1.0119e-01]],\n",
              "              \n",
              "                       [[-1.0444e-01, -6.4267e-02, -3.7919e-02],\n",
              "                        [-1.1643e-03, -9.1490e-02,  6.8530e-03],\n",
              "                        [ 1.0081e-01,  1.0077e-01,  1.4635e-02]],\n",
              "              \n",
              "                       [[ 9.5133e-02,  7.7861e-02,  3.2205e-02],\n",
              "                        [ 7.8558e-02,  9.3427e-02,  6.8202e-02],\n",
              "                        [ 8.0110e-02,  4.6983e-02, -8.7742e-02]],\n",
              "              \n",
              "                       [[-6.6465e-02, -5.6475e-03,  2.1649e-02],\n",
              "                        [-6.0972e-02,  1.0497e-01,  1.8471e-02],\n",
              "                        [-6.4130e-02, -8.4174e-02,  4.6111e-02]]]], device='cuda:0')),\n",
              "             ('conv_block_2.0.bias',\n",
              "              tensor([ 0.0907,  0.0519,  0.0455, -0.0100,  0.0710, -0.0563,  0.0438, -0.0281,\n",
              "                      -0.0040, -0.0450], device='cuda:0')),\n",
              "             ('conv_block_2.2.weight',\n",
              "              tensor([[[[ 8.6953e-02, -7.9818e-03, -1.2592e-02],\n",
              "                        [-8.3110e-02, -7.3026e-02, -5.9491e-02],\n",
              "                        [-2.1038e-02,  7.7193e-02, -3.9404e-02]],\n",
              "              \n",
              "                       [[ 5.8052e-02, -3.8077e-02, -9.8479e-02],\n",
              "                        [-5.8666e-02,  5.7346e-02,  9.0525e-02],\n",
              "                        [-1.0368e-01,  4.3151e-02,  3.2599e-02]],\n",
              "              \n",
              "                       [[-5.9075e-03,  3.1384e-02, -4.2868e-03],\n",
              "                        [ 3.4471e-02,  9.0028e-02,  3.4360e-02],\n",
              "                        [-4.7230e-03, -2.2820e-02, -7.1365e-02]],\n",
              "              \n",
              "                       [[ 7.8524e-03,  6.0421e-02,  7.5569e-02],\n",
              "                        [ 1.9134e-02,  8.7549e-02, -5.5946e-02],\n",
              "                        [ 1.6199e-02,  7.0886e-02,  7.4625e-02]],\n",
              "              \n",
              "                       [[ 6.6923e-02,  7.7928e-02, -1.7859e-02],\n",
              "                        [ 7.3788e-02, -6.9550e-02, -7.9650e-02],\n",
              "                        [-4.6954e-02, -9.2920e-02, -1.0223e-02]],\n",
              "              \n",
              "                       [[-1.1505e-02, -8.2502e-03, -4.6199e-03],\n",
              "                        [-1.8077e-03,  8.9638e-02, -6.0604e-02],\n",
              "                        [ 6.3153e-02, -7.6080e-03, -6.1114e-02]],\n",
              "              \n",
              "                       [[ 3.7233e-02, -8.7676e-02,  5.9118e-02],\n",
              "                        [ 1.7119e-02,  8.2316e-02, -5.8268e-02],\n",
              "                        [-6.8904e-02,  2.4408e-02,  3.6541e-02]],\n",
              "              \n",
              "                       [[-1.0187e-01, -6.9352e-03,  6.6988e-03],\n",
              "                        [-1.7044e-02,  3.4914e-02, -7.7645e-02],\n",
              "                        [-4.6641e-02, -1.6800e-02, -5.6586e-02]],\n",
              "              \n",
              "                       [[ 2.8041e-03,  9.2134e-02, -9.8387e-02],\n",
              "                        [ 1.0458e-01, -1.2558e-02, -9.2689e-02],\n",
              "                        [-4.0637e-02,  5.3184e-02,  5.3859e-02]],\n",
              "              \n",
              "                       [[ 3.4880e-03, -2.6415e-02,  5.8964e-02],\n",
              "                        [ 8.9744e-02, -1.0285e-01, -9.2470e-02],\n",
              "                        [-2.3956e-02,  1.1805e-02, -2.0604e-02]]],\n",
              "              \n",
              "              \n",
              "                      [[[ 6.9682e-02,  9.5730e-02, -6.0364e-02],\n",
              "                        [ 9.3814e-02,  7.8715e-03, -2.7234e-02],\n",
              "                        [-5.0293e-02, -7.7376e-03,  3.5693e-02]],\n",
              "              \n",
              "                       [[ 4.6708e-02,  5.0071e-02, -9.4360e-02],\n",
              "                        [ 9.8787e-02,  4.1165e-02, -7.7195e-02],\n",
              "                        [-6.7886e-02, -8.4456e-02, -4.4866e-02]],\n",
              "              \n",
              "                       [[ 9.4592e-02, -6.7887e-02, -5.2035e-02],\n",
              "                        [ 1.3101e-02,  7.3160e-02, -7.4462e-02],\n",
              "                        [ 3.2584e-02,  3.8583e-02, -5.9949e-02]],\n",
              "              \n",
              "                       [[-4.6717e-02, -7.9001e-02, -6.3565e-02],\n",
              "                        [ 1.0267e-01, -9.8341e-02,  6.6873e-02],\n",
              "                        [-1.1221e-02, -6.3525e-03, -4.7297e-02]],\n",
              "              \n",
              "                       [[ 8.3604e-02,  4.3999e-02, -3.8379e-02],\n",
              "                        [ 9.6975e-02, -5.9720e-02,  9.9196e-02],\n",
              "                        [ 7.4983e-02, -7.8201e-02,  6.9653e-02]],\n",
              "              \n",
              "                       [[ 9.8061e-02, -4.5614e-02, -7.4791e-02],\n",
              "                        [ 5.0497e-02, -9.0245e-02,  8.9913e-02],\n",
              "                        [-1.0098e-01,  3.7423e-02, -3.0425e-02]],\n",
              "              \n",
              "                       [[ 4.3501e-03, -8.6463e-02, -7.9960e-02],\n",
              "                        [-6.8117e-02,  1.9050e-02,  9.0277e-02],\n",
              "                        [ 5.1623e-02,  9.7717e-02,  9.6747e-02]],\n",
              "              \n",
              "                       [[ 7.7070e-02,  6.1176e-02, -8.9518e-02],\n",
              "                        [-7.9226e-02,  8.9808e-02,  8.8254e-02],\n",
              "                        [-7.9045e-02, -2.9116e-02,  5.3117e-02]],\n",
              "              \n",
              "                       [[ 8.2925e-02, -6.2925e-02, -4.2053e-03],\n",
              "                        [-8.7836e-02, -1.6472e-02, -9.4006e-02],\n",
              "                        [-8.2252e-03,  3.6755e-02,  2.9711e-02]],\n",
              "              \n",
              "                       [[-5.3901e-02, -5.5123e-02,  2.9549e-02],\n",
              "                        [ 1.8066e-02, -2.2869e-02,  1.0458e-02],\n",
              "                        [ 5.2178e-02,  6.8702e-02, -3.8284e-02]]],\n",
              "              \n",
              "              \n",
              "                      [[[-4.4880e-02,  6.7662e-02,  8.7226e-02],\n",
              "                        [ 3.5973e-02, -1.0482e-01, -1.3849e-02],\n",
              "                        [-9.3948e-02, -7.3451e-03,  3.6356e-02]],\n",
              "              \n",
              "                       [[ 9.8400e-02,  3.1420e-02,  6.4449e-03],\n",
              "                        [ 7.3018e-02, -9.9125e-02,  9.1518e-02],\n",
              "                        [-8.9642e-02,  7.5158e-02, -9.0808e-02]],\n",
              "              \n",
              "                       [[ 1.9626e-02, -3.3537e-02, -3.0244e-02],\n",
              "                        [-2.5489e-02, -7.7532e-02,  2.4919e-02],\n",
              "                        [-8.1753e-02, -2.5075e-02, -9.1811e-02]],\n",
              "              \n",
              "                       [[-6.3688e-02, -6.2146e-02,  1.9646e-02],\n",
              "                        [ 3.5763e-04,  6.8310e-02, -1.3336e-03],\n",
              "                        [-8.5645e-02, -8.6078e-02,  1.0522e-01]],\n",
              "              \n",
              "                       [[-6.7582e-02, -6.7359e-02, -8.6212e-02],\n",
              "                        [-1.4711e-02, -3.5621e-02, -7.7932e-04],\n",
              "                        [ 7.6243e-02,  5.6967e-02,  6.8299e-02]],\n",
              "              \n",
              "                       [[ 4.3934e-02, -1.2094e-02, -3.5324e-02],\n",
              "                        [ 7.1615e-02,  4.5624e-02, -5.2401e-02],\n",
              "                        [ 7.9998e-02, -4.1806e-02,  9.4812e-02]],\n",
              "              \n",
              "                       [[-6.1746e-02, -2.3610e-02, -1.0400e-01],\n",
              "                        [ 5.6431e-02, -7.0186e-02, -7.7377e-02],\n",
              "                        [-2.3894e-02,  4.5073e-02, -2.3357e-02]],\n",
              "              \n",
              "                       [[-4.4681e-02,  6.7772e-02, -9.7861e-02],\n",
              "                        [ 8.0286e-02, -3.4923e-02,  8.7451e-02],\n",
              "                        [ 9.1053e-02,  2.9928e-02, -3.5521e-02]],\n",
              "              \n",
              "                       [[-6.0652e-02, -9.9090e-02, -8.3707e-03],\n",
              "                        [-6.9721e-03,  5.8245e-02, -2.9956e-02],\n",
              "                        [ 5.2693e-03, -8.6077e-02,  9.6164e-02]],\n",
              "              \n",
              "                       [[ 3.9926e-02, -9.1982e-02, -1.6726e-02],\n",
              "                        [ 6.5668e-02, -7.7785e-02, -7.5812e-02],\n",
              "                        [-6.4597e-03, -6.3414e-02, -4.3421e-02]]],\n",
              "              \n",
              "              \n",
              "                      [[[ 7.8888e-02, -4.8953e-02,  1.0558e-02],\n",
              "                        [-8.6016e-02, -8.7004e-02, -6.7637e-02],\n",
              "                        [ 8.5573e-06,  8.0009e-02,  4.2565e-03]],\n",
              "              \n",
              "                       [[-8.4504e-02,  9.7852e-02,  5.5129e-02],\n",
              "                        [ 3.5396e-02, -4.8280e-02,  1.0269e-01],\n",
              "                        [-3.7741e-02, -1.1374e-02,  2.7608e-02]],\n",
              "              \n",
              "                       [[-3.5008e-02, -6.9377e-02,  7.4766e-02],\n",
              "                        [ 6.5140e-02, -7.6096e-02,  2.4593e-03],\n",
              "                        [ 4.7173e-02,  8.3383e-02,  8.8519e-02]],\n",
              "              \n",
              "                       [[-2.9661e-02,  6.9348e-02, -6.8565e-02],\n",
              "                        [-3.1063e-02, -3.1611e-02,  4.0761e-02],\n",
              "                        [ 3.1114e-02, -9.5404e-02,  7.1618e-03]],\n",
              "              \n",
              "                       [[ 1.0773e-03, -5.1150e-02,  3.2016e-02],\n",
              "                        [ 6.4435e-02,  5.8991e-02, -8.3807e-02],\n",
              "                        [ 1.8737e-03, -7.5444e-02, -9.9407e-02]],\n",
              "              \n",
              "                       [[ 7.9956e-03, -9.0324e-02,  6.1206e-02],\n",
              "                        [-4.1535e-02,  5.3405e-02, -4.8882e-02],\n",
              "                        [ 6.7447e-02,  9.6914e-03, -9.2793e-02]],\n",
              "              \n",
              "                       [[ 4.0561e-02,  8.2341e-02,  3.7119e-02],\n",
              "                        [-2.3396e-02, -7.5259e-02, -6.2491e-02],\n",
              "                        [ 2.2269e-02,  6.0496e-02, -9.2133e-02]],\n",
              "              \n",
              "                       [[-2.1288e-02,  4.5520e-02, -1.1943e-03],\n",
              "                        [-6.6801e-02,  1.0167e-02, -1.4780e-02],\n",
              "                        [ 4.8111e-02, -9.3633e-02, -5.0013e-02]],\n",
              "              \n",
              "                       [[-8.4185e-03,  3.7950e-02,  1.0484e-01],\n",
              "                        [ 9.1657e-02,  5.6752e-02,  2.7169e-02],\n",
              "                        [-8.2449e-02,  4.4216e-02, -8.9579e-02]],\n",
              "              \n",
              "                       [[-9.5757e-02, -1.6579e-02, -2.0898e-03],\n",
              "                        [ 3.6116e-02, -1.7078e-02,  5.4939e-02],\n",
              "                        [ 7.2886e-02,  9.4628e-02, -6.1200e-02]]],\n",
              "              \n",
              "              \n",
              "                      [[[-3.8965e-03,  1.4590e-02,  2.6458e-02],\n",
              "                        [ 5.2525e-03, -9.9762e-02, -1.4301e-02],\n",
              "                        [ 1.1242e-02, -3.8523e-02, -4.5690e-02]],\n",
              "              \n",
              "                       [[ 1.0186e-01, -1.4223e-02,  4.2924e-02],\n",
              "                        [-1.0263e-01,  5.2685e-03,  1.0062e-01],\n",
              "                        [-7.7272e-02,  9.7755e-02, -7.8302e-02]],\n",
              "              \n",
              "                       [[-9.9946e-02, -5.8904e-02,  2.8449e-02],\n",
              "                        [ 9.7059e-02,  7.4421e-02, -1.4500e-02],\n",
              "                        [ 1.0413e-01,  2.2079e-02, -9.1633e-02]],\n",
              "              \n",
              "                       [[-9.2694e-02,  2.0858e-03, -4.2490e-03],\n",
              "                        [-4.0499e-02, -9.1563e-02, -8.4077e-02],\n",
              "                        [-7.4531e-02, -2.2039e-02, -5.4929e-02]],\n",
              "              \n",
              "                       [[-2.2845e-04, -8.2426e-02, -2.0638e-02],\n",
              "                        [ 9.3598e-02, -7.0003e-02,  2.9378e-02],\n",
              "                        [-1.6762e-02,  4.0640e-02, -5.0877e-03]],\n",
              "              \n",
              "                       [[-6.8501e-02,  4.7357e-02,  2.8187e-02],\n",
              "                        [ 1.7261e-02, -6.0855e-02, -1.3185e-02],\n",
              "                        [ 3.5304e-02, -2.3115e-02,  2.2775e-02]],\n",
              "              \n",
              "                       [[-5.5929e-03,  6.1221e-02, -3.5505e-02],\n",
              "                        [ 9.3762e-02, -8.2474e-02,  1.1343e-02],\n",
              "                        [ 9.9099e-02, -2.5518e-02, -6.8034e-03]],\n",
              "              \n",
              "                       [[ 9.7153e-02,  8.4093e-03, -4.6838e-02],\n",
              "                        [ 5.6022e-02,  7.9026e-02,  4.5872e-02],\n",
              "                        [ 6.0927e-02,  8.0669e-02, -1.2906e-02]],\n",
              "              \n",
              "                       [[ 8.2064e-02,  8.6976e-02,  9.0163e-02],\n",
              "                        [ 7.8207e-02, -9.4888e-02,  1.4468e-02],\n",
              "                        [-8.4026e-02,  8.4405e-02,  2.8361e-02]],\n",
              "              \n",
              "                       [[ 6.5740e-02, -2.1211e-02, -2.4434e-02],\n",
              "                        [ 5.4813e-02, -7.0662e-02,  8.0871e-02],\n",
              "                        [-8.2958e-02, -1.7129e-02,  1.0140e-02]]],\n",
              "              \n",
              "              \n",
              "                      [[[-5.3786e-02,  4.3328e-02, -1.6738e-02],\n",
              "                        [-4.0320e-02, -9.2168e-02, -8.2192e-02],\n",
              "                        [ 2.7652e-02,  3.1898e-02,  5.4937e-02]],\n",
              "              \n",
              "                       [[-4.3066e-02, -7.9148e-02,  1.0368e-01],\n",
              "                        [-7.3943e-02, -2.2341e-02, -6.7188e-02],\n",
              "                        [-3.5750e-02, -7.7573e-02, -9.2355e-02]],\n",
              "              \n",
              "                       [[ 7.4954e-02, -8.5779e-03,  6.1066e-03],\n",
              "                        [ 4.4742e-02, -6.6753e-02, -8.3940e-02],\n",
              "                        [-8.9577e-02, -2.3647e-02, -1.0355e-01]],\n",
              "              \n",
              "                       [[-5.9929e-02,  7.3345e-02,  6.6141e-04],\n",
              "                        [ 9.0217e-02, -7.8702e-02,  1.4488e-02],\n",
              "                        [-1.0679e-02, -8.3667e-02, -3.2570e-02]],\n",
              "              \n",
              "                       [[-8.0725e-02,  7.6589e-02, -6.8474e-02],\n",
              "                        [-5.6561e-02,  3.6024e-02,  6.5252e-02],\n",
              "                        [-8.5069e-02,  8.3605e-02, -5.6268e-02]],\n",
              "              \n",
              "                       [[-1.6499e-02,  2.2332e-02, -9.0155e-02],\n",
              "                        [-9.8079e-02, -1.4788e-02, -1.8488e-02],\n",
              "                        [ 6.9925e-02,  6.4211e-02,  5.2206e-03]],\n",
              "              \n",
              "                       [[-1.0113e-01,  2.2543e-02, -9.3233e-02],\n",
              "                        [-4.0449e-03,  4.9596e-02, -7.4656e-02],\n",
              "                        [-5.1849e-03,  4.6570e-02,  4.9816e-02]],\n",
              "              \n",
              "                       [[-1.4823e-02, -5.0025e-02, -6.3417e-03],\n",
              "                        [-3.6693e-02, -5.5050e-02, -3.5796e-02],\n",
              "                        [ 9.7696e-02,  7.4525e-02,  4.8266e-02]],\n",
              "              \n",
              "                       [[ 9.2432e-02,  1.0322e-01, -5.9747e-02],\n",
              "                        [-2.6940e-02, -5.8699e-02,  9.4565e-02],\n",
              "                        [ 4.2780e-02,  1.0522e-01, -9.6529e-02]],\n",
              "              \n",
              "                       [[ 1.2224e-02,  8.2002e-02,  2.4831e-02],\n",
              "                        [ 9.8545e-02, -9.1170e-02, -3.5797e-02],\n",
              "                        [ 7.4688e-02, -1.0359e-01,  3.7210e-02]]],\n",
              "              \n",
              "              \n",
              "                      [[[ 4.5273e-02, -9.9903e-03, -3.1856e-02],\n",
              "                        [-4.5271e-02,  3.5299e-02, -4.7409e-03],\n",
              "                        [ 2.5813e-02,  6.7228e-02,  4.0133e-02]],\n",
              "              \n",
              "                       [[-7.9970e-03, -8.1313e-02, -2.9383e-03],\n",
              "                        [-1.0043e-01,  1.0367e-01, -2.7549e-02],\n",
              "                        [-7.2643e-02,  1.4233e-02,  5.4055e-02]],\n",
              "              \n",
              "                       [[-7.6930e-02, -4.2818e-02,  9.0253e-02],\n",
              "                        [-1.5482e-02,  4.0786e-02, -4.3463e-02],\n",
              "                        [ 8.8044e-02, -3.7783e-02, -9.1373e-02]],\n",
              "              \n",
              "                       [[ 5.9507e-02, -6.9619e-02,  1.0475e-01],\n",
              "                        [-3.6679e-02, -2.9057e-02,  3.3673e-02],\n",
              "                        [ 9.8231e-02, -1.0208e-02, -3.4442e-02]],\n",
              "              \n",
              "                       [[-5.7850e-02, -6.4691e-02, -6.7843e-02],\n",
              "                        [-2.6316e-02, -1.0393e-01, -1.0199e-02],\n",
              "                        [ 8.8444e-02, -2.1321e-02,  5.4324e-02]],\n",
              "              \n",
              "                       [[ 3.7242e-03,  9.5915e-02,  5.3948e-02],\n",
              "                        [ 4.6326e-02, -7.4042e-02, -6.9025e-02],\n",
              "                        [-2.7354e-02,  2.7158e-02,  1.8296e-02]],\n",
              "              \n",
              "                       [[-1.0123e-02,  3.2114e-02, -7.0970e-02],\n",
              "                        [ 7.0186e-02,  8.0582e-02, -5.2753e-02],\n",
              "                        [-2.4451e-02,  8.4556e-02, -5.3016e-02]],\n",
              "              \n",
              "                       [[ 5.9533e-02,  7.2466e-03,  2.2972e-02],\n",
              "                        [-3.1558e-02,  3.4029e-02,  9.0412e-02],\n",
              "                        [ 6.1973e-03,  7.6405e-02,  2.9929e-02]],\n",
              "              \n",
              "                       [[ 5.7475e-02, -1.0496e-01, -1.1475e-02],\n",
              "                        [-2.5935e-02, -9.6630e-03,  5.0357e-02],\n",
              "                        [-2.3082e-02,  6.3009e-02,  7.6569e-02]],\n",
              "              \n",
              "                       [[ 2.5270e-02,  8.5595e-02,  5.8096e-02],\n",
              "                        [ 4.5433e-03,  6.0180e-02, -1.4738e-02],\n",
              "                        [-5.4480e-02, -7.0037e-02, -4.2541e-02]]],\n",
              "              \n",
              "              \n",
              "                      [[[ 3.2974e-02,  3.8201e-02, -6.6829e-02],\n",
              "                        [ 7.8874e-02,  8.3232e-02,  4.4756e-02],\n",
              "                        [ 1.8693e-02, -8.7256e-03, -1.5488e-02]],\n",
              "              \n",
              "                       [[ 4.2701e-02, -7.6861e-02,  1.0121e-02],\n",
              "                        [-1.4820e-02, -6.8723e-02, -9.1008e-02],\n",
              "                        [ 2.9777e-02, -5.0700e-02, -1.4319e-02]],\n",
              "              \n",
              "                       [[-1.1847e-02,  2.9896e-04, -7.9986e-02],\n",
              "                        [ 1.2384e-04, -1.5564e-02, -4.8417e-02],\n",
              "                        [ 7.4310e-02,  2.5205e-02, -3.0309e-02]],\n",
              "              \n",
              "                       [[-2.3637e-02, -9.5837e-02,  2.2884e-02],\n",
              "                        [ 4.5864e-02, -6.8446e-05,  9.9726e-02],\n",
              "                        [-6.5001e-02, -3.5295e-02,  8.4377e-02]],\n",
              "              \n",
              "                       [[-6.0124e-02, -1.0105e-01, -7.9540e-02],\n",
              "                        [-3.7657e-02,  5.7022e-02, -8.6808e-02],\n",
              "                        [-8.0040e-02, -2.3986e-02,  2.6365e-02]],\n",
              "              \n",
              "                       [[-6.1984e-03,  5.7134e-02,  3.6549e-02],\n",
              "                        [-7.4686e-02, -4.2616e-02,  7.2094e-02],\n",
              "                        [-2.1493e-02, -7.9998e-02, -6.1785e-04]],\n",
              "              \n",
              "                       [[-9.0703e-02, -3.1963e-02, -5.8067e-03],\n",
              "                        [-2.4330e-03,  5.2267e-02,  2.2137e-02],\n",
              "                        [ 6.4327e-02, -6.1624e-02,  3.2081e-02]],\n",
              "              \n",
              "                       [[-1.0505e-01,  1.9646e-02, -9.2343e-02],\n",
              "                        [-4.0338e-02, -5.7161e-02, -1.7502e-02],\n",
              "                        [-6.7677e-02, -2.1084e-02, -1.7546e-02]],\n",
              "              \n",
              "                       [[ 1.0052e-01,  2.2500e-02, -9.3024e-02],\n",
              "                        [-7.7047e-02, -9.9131e-02,  5.7318e-02],\n",
              "                        [ 3.0157e-02,  8.2734e-02, -7.1659e-02]],\n",
              "              \n",
              "                       [[-7.2774e-02,  4.6503e-02,  6.3795e-02],\n",
              "                        [-8.4343e-02, -9.0110e-02,  7.1218e-02],\n",
              "                        [-8.5236e-02, -1.0510e-02, -8.7247e-02]]],\n",
              "              \n",
              "              \n",
              "                      [[[ 3.0603e-02,  4.9942e-02, -2.6569e-02],\n",
              "                        [-1.0384e-01, -7.3372e-02, -7.9491e-02],\n",
              "                        [ 6.8720e-02,  8.7622e-02,  7.3626e-02]],\n",
              "              \n",
              "                       [[-5.5274e-03, -7.7091e-02,  9.6737e-02],\n",
              "                        [ 9.2634e-02,  4.1030e-02,  5.0490e-02],\n",
              "                        [-8.5415e-02,  7.2804e-02, -6.5613e-02]],\n",
              "              \n",
              "                       [[-1.9976e-04, -8.6450e-02,  7.1499e-02],\n",
              "                        [-5.7321e-02, -1.0384e-01,  8.0468e-02],\n",
              "                        [ 6.9393e-02, -6.5374e-02,  7.6199e-02]],\n",
              "              \n",
              "                       [[-1.9160e-02, -6.2833e-02,  7.0299e-02],\n",
              "                        [ 5.4485e-02,  6.1277e-02,  4.2987e-02],\n",
              "                        [ 9.4118e-02,  2.4943e-02,  3.1195e-02]],\n",
              "              \n",
              "                       [[-7.0464e-02,  7.7084e-02,  8.3297e-02],\n",
              "                        [ 9.3192e-02,  7.9788e-02,  1.6697e-02],\n",
              "                        [ 4.1215e-02, -8.6351e-02,  8.7292e-03]],\n",
              "              \n",
              "                       [[ 8.1626e-02,  1.0133e-01, -7.0191e-02],\n",
              "                        [ 1.0204e-01,  2.3275e-02, -4.5784e-02],\n",
              "                        [-2.7022e-02, -1.0088e-01,  5.6017e-02]],\n",
              "              \n",
              "                       [[-5.2203e-02, -5.8207e-02, -8.4421e-02],\n",
              "                        [ 6.0568e-02,  3.3439e-02, -1.9509e-02],\n",
              "                        [-3.3698e-02,  7.4147e-02, -2.4439e-02]],\n",
              "              \n",
              "                       [[-8.0228e-02,  3.3880e-02, -4.3283e-02],\n",
              "                        [ 4.3322e-02, -4.1797e-02, -2.4883e-02],\n",
              "                        [-9.5539e-02, -7.7888e-02, -6.6410e-02]],\n",
              "              \n",
              "                       [[-8.9636e-02, -8.5743e-02,  1.0478e-01],\n",
              "                        [ 8.8590e-02, -1.0382e-01, -1.0367e-01],\n",
              "                        [ 6.6015e-02, -3.7967e-02,  3.2903e-02]],\n",
              "              \n",
              "                       [[ 9.2223e-04, -5.6670e-02, -9.6474e-02],\n",
              "                        [ 7.5258e-02, -3.8345e-02, -9.5335e-02],\n",
              "                        [-8.4667e-02, -4.6710e-02, -5.4656e-02]]],\n",
              "              \n",
              "              \n",
              "                      [[[ 9.5251e-02, -2.7383e-02, -5.0478e-02],\n",
              "                        [ 2.6818e-02, -2.7105e-02, -1.5309e-02],\n",
              "                        [-6.2599e-02, -7.6947e-02, -1.6636e-02]],\n",
              "              \n",
              "                       [[-6.9307e-02,  1.8648e-02, -3.5744e-02],\n",
              "                        [-1.1202e-02,  7.0987e-02, -9.2620e-02],\n",
              "                        [-5.7494e-02, -3.6487e-02, -3.0246e-02]],\n",
              "              \n",
              "                       [[ 6.6754e-02,  5.6668e-02,  3.0183e-02],\n",
              "                        [ 9.0905e-02,  1.7974e-02,  5.0601e-02],\n",
              "                        [-1.0215e-01, -6.9868e-02, -4.2526e-02]],\n",
              "              \n",
              "                       [[-3.6062e-02,  7.4762e-02, -7.7721e-02],\n",
              "                        [-2.2330e-02,  9.9230e-02,  1.0030e-01],\n",
              "                        [ 3.5672e-02, -1.1088e-02,  8.7918e-02]],\n",
              "              \n",
              "                       [[ 9.9472e-02, -9.4442e-02,  8.5059e-02],\n",
              "                        [ 6.8419e-02,  8.8527e-02,  9.9633e-02],\n",
              "                        [-5.7917e-02, -2.1231e-02,  8.0728e-02]],\n",
              "              \n",
              "                       [[ 4.9581e-02, -6.1694e-02, -1.1952e-02],\n",
              "                        [ 9.5611e-02,  1.3372e-02, -6.8590e-02],\n",
              "                        [ 8.5728e-02, -3.2766e-02,  3.2022e-02]],\n",
              "              \n",
              "                       [[ 9.9830e-02, -1.3917e-02,  1.8654e-03],\n",
              "                        [ 4.7436e-02, -8.6542e-02,  3.5728e-02],\n",
              "                        [ 1.4834e-02, -3.8521e-02, -3.2002e-04]],\n",
              "              \n",
              "                       [[-7.3381e-02, -2.2582e-02,  2.0866e-02],\n",
              "                        [ 7.9258e-02, -4.1588e-02,  8.9071e-02],\n",
              "                        [ 3.6210e-02, -1.3439e-02, -2.0754e-02]],\n",
              "              \n",
              "                       [[-1.6324e-02, -1.4392e-02, -9.1392e-02],\n",
              "                        [-3.5113e-02,  7.7036e-02,  7.9891e-02],\n",
              "                        [-5.1005e-02,  9.2837e-02,  2.5258e-02]],\n",
              "              \n",
              "                       [[-9.6841e-02, -1.1879e-02, -4.4795e-03],\n",
              "                        [-7.8815e-02, -8.2788e-02, -3.1509e-02],\n",
              "                        [-8.4088e-02, -3.2751e-02,  6.3403e-02]]]], device='cuda:0')),\n",
              "             ('conv_block_2.2.bias',\n",
              "              tensor([ 0.0046, -0.0254,  0.0816, -0.0967, -0.0587, -0.0639, -0.0345,  0.0821,\n",
              "                       0.0400,  0.0904], device='cuda:0')),\n",
              "             ('classifier.1.weight',\n",
              "              tensor([[-0.0321, -0.0054, -0.0443,  ..., -0.0446,  0.0010, -0.0405],\n",
              "                      [-0.0050,  0.0111,  0.0227,  ..., -0.0256,  0.0419,  0.0410],\n",
              "                      [-0.0375,  0.0265,  0.0441,  ...,  0.0226,  0.0406, -0.0187],\n",
              "                      ...,\n",
              "                      [ 0.0272,  0.0220,  0.0110,  ..., -0.0002,  0.0294,  0.0426],\n",
              "                      [-0.0203, -0.0098,  0.0017,  ...,  0.0229, -0.0286,  0.0021],\n",
              "                      [-0.0010,  0.0163, -0.0071,  ...,  0.0032,  0.0329, -0.0279]],\n",
              "                     device='cuda:0')),\n",
              "             ('classifier.1.bias',\n",
              "              tensor([ 0.0063, -0.0226, -0.0433, -0.0011,  0.0100,  0.0141,  0.0182,  0.0189,\n",
              "                      -0.0078, -0.0197], device='cuda:0'))])"
            ]
          },
          "metadata": {},
          "execution_count": 17
        }
      ]
    },
    {
      "cell_type": "code",
      "source": [
        "dummy_x = torch.rand(size=(1, 28, 28)).unsqueeze(dim=0).to(device)\n",
        "print(dummy_x.shape)\n",
        "model(dummy_x)"
      ],
      "metadata": {
        "id": "74_9qNGrz1Q8",
        "outputId": "4539007b-6292-4187-ede3-367acafc9be7",
        "colab": {
          "base_uri": "https://localhost:8080/"
        }
      },
      "execution_count": 19,
      "outputs": [
        {
          "output_type": "stream",
          "name": "stdout",
          "text": [
            "torch.Size([1, 1, 28, 28])\n"
          ]
        },
        {
          "output_type": "execute_result",
          "data": {
            "text/plain": [
              "tensor([[ 0.0763, -0.0599,  0.0292,  0.0108, -0.0166,  0.0509,  0.0356,  0.0531,\n",
              "          0.0132, -0.0444]], device='cuda:0', grad_fn=<AddmmBackward0>)"
            ]
          },
          "metadata": {},
          "execution_count": 19
        }
      ]
    },
    {
      "cell_type": "code",
      "source": [
        "dummy_x_2 = torch.rand(size=([1, 10, 7, 7]))\n",
        "dummy_x_2.shape"
      ],
      "metadata": {
        "id": "HByQOYVg0CZD",
        "outputId": "b61043c8-ef61-4546-b43f-0c4de102eb24",
        "colab": {
          "base_uri": "https://localhost:8080/"
        }
      },
      "execution_count": 20,
      "outputs": [
        {
          "output_type": "execute_result",
          "data": {
            "text/plain": [
              "torch.Size([1, 10, 7, 7])"
            ]
          },
          "metadata": {},
          "execution_count": 20
        }
      ]
    },
    {
      "cell_type": "code",
      "source": [
        "flatten_layer = nn.Flatten()\n",
        "flatten_layer(dummy_x_2).shape"
      ],
      "metadata": {
        "id": "8Tr30kzF0Dhr",
        "outputId": "b88846b5-8324-405a-999e-6d630f1a6e9c",
        "colab": {
          "base_uri": "https://localhost:8080/"
        }
      },
      "execution_count": 21,
      "outputs": [
        {
          "output_type": "execute_result",
          "data": {
            "text/plain": [
              "torch.Size([1, 490])"
            ]
          },
          "metadata": {},
          "execution_count": 21
        }
      ]
    },
    {
      "cell_type": "markdown",
      "source": [
        "## 9. Train the model you built in exercise 8. for 5 epochs on CPU and GPU and see how long it takes on each."
      ],
      "metadata": {
        "id": "sf_3zUr7xlhy"
      }
    },
    {
      "cell_type": "code",
      "source": [
        "%%time\n",
        "from tqdm.auto import tqdm\n",
        "\n",
        "# Train on CPU\n",
        "model_cpu = MNIST_model(input_shape=1, hidden_units=10, output_shape=10).to(\"cpu\")\n",
        "\n",
        "# Create a loss function and optimizer\n",
        "loss_fn = nn.CrossEntropyLoss()\n",
        "optimizer = torch.optim.SGD(model_cpu.parameters(), lr=0.1)\n",
        "\n",
        "### Training loop\n",
        "epochs = 5\n",
        "for epoch in tqdm(range(epochs)):\n",
        "  train_loss = 0\n",
        "  for batch, (X,y) in enumerate(train_dataloader):\n",
        "    model_cpu.train()\n",
        "    X, y = X.to('cpu'), y.to('cpu')\n",
        "\n",
        "    # Forward pass\n",
        "    y_pred = model_cpu(X)\n",
        "    # Loss calculation\n",
        "    loss = loss_fn(y_pred, y)\n",
        "    train_loss += loss\n",
        "    # Optimizer zero grad\n",
        "    optimizer.zero_grad()\n",
        "    # Loss backward\n",
        "    loss.backward()\n",
        "    # Step the optimizer\n",
        "    optimizer.step()\n",
        "\n",
        "  # Adjust train loss for # batches\n",
        "  train_loss /= len(train_dataloader)\n",
        "\n",
        "  ### Testing Loop\n",
        "  test_loss_total = 0\n",
        "  model_cpu.eval()\n",
        "  with torch.inference_mode():\n",
        "    for batch, (X_test, y_test) in enumerate(test_dataloader):\n",
        "      X_test, y_test = X_test.to(\"cpu\"), y_test.to(\"cpu\")\n",
        "      test_pred = model_cpu(X_test)\n",
        "      test_loss = loss_fn(test_pred, y_test)\n",
        "\n",
        "      test_loss_total += test_loss\n",
        "\n",
        "    test_loss_total /= len(test_dataloader)\n",
        "\n",
        "  print(f\"Epoch: {epoch} | Train Loss: {train_loss:.3f} | Test Loss: {test_loss_total:.3f}\")"
      ],
      "metadata": {
        "id": "jSo6vVWFbNLD",
        "outputId": "3db08d29-7cc5-4b95-98ad-83e788349410",
        "colab": {
          "base_uri": "https://localhost:8080/",
          "height": 171,
          "referenced_widgets": [
            "5e4f700bd04946c5b9ca72eb20760dc6",
            "bc7dbc259ed741ff969e060a8e7f70b0",
            "e433d25ba663477d990aa29c65deed71",
            "62ee2c7a9086428886008e6fdc9b5037",
            "78bfffbb49fe4bcabb739b208e803fe5",
            "c07eb37e67f74b3a9d6e37997a9ee3b5",
            "548736d5ff2646b08267c4df2fca30d8",
            "3688e4e052bc4e9b86f6ff0465ad2410",
            "a27e3b9d42be4f0fa1b5158cb53c7db2",
            "4c5649f1e8184ce08b9d31c7da0169e1",
            "7c096919d1ed4f979fc45323b44c0878"
          ]
        }
      },
      "execution_count": 23,
      "outputs": [
        {
          "output_type": "display_data",
          "data": {
            "text/plain": [
              "  0%|          | 0/5 [00:00<?, ?it/s]"
            ],
            "application/vnd.jupyter.widget-view+json": {
              "version_major": 2,
              "version_minor": 0,
              "model_id": "5e4f700bd04946c5b9ca72eb20760dc6"
            }
          },
          "metadata": {}
        },
        {
          "output_type": "stream",
          "name": "stdout",
          "text": [
            "Epoch: 0 | Train Loss: 0.300 | Test Loss: 0.075\n",
            "Epoch: 1 | Train Loss: 0.074 | Test Loss: 0.056\n",
            "Epoch: 2 | Train Loss: 0.057 | Test Loss: 0.045\n",
            "Epoch: 3 | Train Loss: 0.049 | Test Loss: 0.041\n",
            "Epoch: 4 | Train Loss: 0.042 | Test Loss: 0.047\n",
            "CPU times: user 3min 14s, sys: 501 ms, total: 3min 14s\n",
            "Wall time: 3min 15s\n"
          ]
        }
      ]
    },
    {
      "cell_type": "markdown",
      "source": [
        "## 10. Make predictions using your trained model and visualize at least 5 of them comparing the prediciton to the target label."
      ],
      "metadata": {
        "id": "w1CsHhPpxp1w"
      }
    },
    {
      "cell_type": "code",
      "source": [
        "print(test_data[0][0].shape)\n",
        "print(test_data[0][0].squeeze().shape)"
      ],
      "metadata": {
        "id": "nSwzYKew2PjX",
        "outputId": "168336eb-aa8f-4069-90b7-9c2a169726fa",
        "colab": {
          "base_uri": "https://localhost:8080/"
        }
      },
      "execution_count": 25,
      "outputs": [
        {
          "output_type": "stream",
          "name": "stdout",
          "text": [
            "torch.Size([1, 28, 28])\n",
            "torch.Size([28, 28])\n"
          ]
        }
      ]
    },
    {
      "cell_type": "code",
      "source": [
        "plt.imshow(test_data[0][0].squeeze(), cmap=\"gray\")"
      ],
      "metadata": {
        "id": "_YGgZvSobNxu",
        "outputId": "d27e9cd7-147a-4c7a-d4de-e51b729c1157",
        "colab": {
          "base_uri": "https://localhost:8080/",
          "height": 447
        }
      },
      "execution_count": 24,
      "outputs": [
        {
          "output_type": "execute_result",
          "data": {
            "text/plain": [
              "<matplotlib.image.AxesImage at 0x7d6fb1e23750>"
            ]
          },
          "metadata": {},
          "execution_count": 24
        },
        {
          "output_type": "display_data",
          "data": {
            "text/plain": [
              "<Figure size 640x480 with 1 Axes>"
            ],
            "image/png": "[encoded data removed]"
          },
          "metadata": {}
        }
      ]
    },
    {
      "cell_type": "code",
      "source": [
        "# Logits -> Prediction probabilities -> Prediction labels\n",
        "model_pred_logits = model_cpu(test_data[0][0].unsqueeze(dim=0).to('cpu')) # make sure image is right shape + on right device\n",
        "model_pred_probs = torch.softmax(model_pred_logits, dim=1)\n",
        "model_pred_label = torch.argmax(model_pred_probs, dim=1)\n",
        "model_pred_label"
      ],
      "metadata": {
        "id": "4u88eJFa2V6_",
        "outputId": "16bb2e12-e70b-43f9-b31d-6372bf6c82f9",
        "colab": {
          "base_uri": "https://localhost:8080/"
        }
      },
      "execution_count": 27,
      "outputs": [
        {
          "output_type": "execute_result",
          "data": {
            "text/plain": [
              "tensor([7])"
            ]
          },
          "metadata": {},
          "execution_count": 27
        }
      ]
    },
    {
      "cell_type": "code",
      "source": [
        "device = 'cpu'\n",
        "\n",
        "num_to_plot = 5\n",
        "for i in range(num_to_plot):\n",
        "  # Get image and labels from the test data\n",
        "  img = test_data[i][0]\n",
        "  label = test_data[i][1]\n",
        "\n",
        "  # Make prediction on image\n",
        "  model_pred_logits = model_cpu(img.unsqueeze(dim=0).to(device))\n",
        "  model_pred_probs = torch.softmax(model_pred_logits, dim=1)\n",
        "  model_pred_label = torch.argmax(model_pred_probs, dim=1)\n",
        "\n",
        "  # Plot the image and prediction\n",
        "  plt.figure()\n",
        "  plt.imshow(img.squeeze(), cmap=\"gray\")\n",
        "  plt.title(f\"Truth: {label} | Pred: {model_pred_label.cpu().item()}\")\n",
        "  plt.axis(False);"
      ],
      "metadata": {
        "id": "oMd851FL2kfH",
        "outputId": "1bf9bcd7-ddac-4f3a-ae0e-f1349186fca8",
        "colab": {
          "base_uri": "https://localhost:8080/",
          "height": 1000
        }
      },
      "execution_count": 30,
      "outputs": [
        {
          "output_type": "display_data",
          "data": {
            "text/plain": [
              "<Figure size 640x480 with 1 Axes>"
            ],
            "image/png": "[encoded data removed]"
          },
          "metadata": {}
        },
        {
          "output_type": "display_data",
          "data": {
            "text/plain": [
              "<Figure size 640x480 with 1 Axes>"
            ],
            "image/png": "[encoded data removed]"
          },
          "metadata": {}
        },
        {
          "output_type": "display_data",
          "data": {
            "text/plain": [
              "<Figure size 640x480 with 1 Axes>"
            ],
            "image/png": "[encoded data removed]"
          },
          "metadata": {}
        },
        {
          "output_type": "display_data",
          "data": {
            "text/plain": [
              "<Figure size 640x480 with 1 Axes>"
            ],
            "image/png": "[encoded data removed]"
          },
          "metadata": {}
        },
        {
          "output_type": "display_data",
          "data": {
            "text/plain": [
              "<Figure size 640x480 with 1 Axes>"
            ],
            "image/png": "[encoded data removed]"
          },
          "metadata": {}
        }
      ]
    },
    {
      "cell_type": "markdown",
      "source": [
        "## 11. Plot a confusion matrix comparing your model's predictions to the truth labels."
      ],
      "metadata": {
        "id": "qQwzqlBWxrpG"
      }
    },
    {
      "cell_type": "code",
      "source": [
        "# See if torchmetrics exists, if not, install it\n",
        "try:\n",
        "    import torchmetrics, mlxtend\n",
        "    print(f\"mlxtend version: {mlxtend.__version__}\")\n",
        "    assert int(mlxtend.__version__.split(\".\")[1]) >= 19, \"mlxtend verison should be 0.19.0 or higher\"\n",
        "except:\n",
        "    !pip install -q torchmetrics -U mlxtend # <- Note: If you're using Google Colab, this may require restarting the runtime\n",
        "    import torchmetrics, mlxtend\n",
        "    print(f\"mlxtend version: {mlxtend.__version__}\")"
      ],
      "metadata": {
        "id": "vSrXiT_AbQ6e",
        "outputId": "22e697bd-50bd-48ff-9679-11d4015461ef",
        "colab": {
          "base_uri": "https://localhost:8080/"
        }
      },
      "execution_count": 31,
      "outputs": [
        {
          "output_type": "stream",
          "name": "stdout",
          "text": [
            "\u001b[2K   \u001b[90m━━━━━━━━━━━━━━━━━━━━━━━━━━━━━━━━━━━━━━━━\u001b[0m \u001b[32m961.5/961.5 kB\u001b[0m \u001b[31m51.3 MB/s\u001b[0m eta \u001b[36m0:00:00\u001b[0m\n",
            "\u001b[2K   \u001b[90m━━━━━━━━━━━━━━━━━━━━━━━━━━━━━━━━━━━━━━━━\u001b[0m \u001b[32m363.4/363.4 MB\u001b[0m \u001b[31m1.4 MB/s\u001b[0m eta \u001b[36m0:00:00\u001b[0m\n",
            "\u001b[2K   \u001b[90m━━━━━━━━━━━━━━━━━━━━━━━━━━━━━━━━━━━━━━━━\u001b[0m \u001b[32m13.8/13.8 MB\u001b[0m \u001b[31m106.0 MB/s\u001b[0m eta \u001b[36m0:00:00\u001b[0m\n",
            "\u001b[2K   \u001b[90m━━━━━━━━━━━━━━━━━━━━━━━━━━━━━━━━━━━━━━━━\u001b[0m \u001b[32m24.6/24.6 MB\u001b[0m \u001b[31m84.6 MB/s\u001b[0m eta \u001b[36m0:00:00\u001b[0m\n",
            "\u001b[2K   \u001b[90m━━━━━━━━━━━━━━━━━━━━━━━━━━━━━━━━━━━━━━━━\u001b[0m \u001b[32m883.7/883.7 kB\u001b[0m \u001b[31m40.7 MB/s\u001b[0m eta \u001b[36m0:00:00\u001b[0m\n",
            "\u001b[2K   \u001b[90m━━━━━━━━━━━━━━━━━━━━━━━━━━━━━━━━━━━━━━━\u001b[0m \u001b[32m664.8/664.8 MB\u001b[0m \u001b[31m805.0 kB/s\u001b[0m eta \u001b[36m0:00:00\u001b[0m\n",
            "\u001b[2K   \u001b[90m━━━━━━━━━━━━━━━━━━━━━━━━━━━━━━━━━━━━━━━━\u001b[0m \u001b[32m211.5/211.5 MB\u001b[0m \u001b[31m6.6 MB/s\u001b[0m eta \u001b[36m0:00:00\u001b[0m\n",
            "\u001b[2K   \u001b[90m━━━━━━━━━━━━━━━━━━━━━━━━━━━━━━━━━━━━━━━━\u001b[0m \u001b[32m56.3/56.3 MB\u001b[0m \u001b[31m14.0 MB/s\u001b[0m eta \u001b[36m0:00:00\u001b[0m\n",
            "\u001b[2K   \u001b[90m━━━━━━━━━━━━━━━━━━━━━━━━━━━━━━━━━━━━━━━━\u001b[0m \u001b[32m127.9/127.9 MB\u001b[0m \u001b[31m8.4 MB/s\u001b[0m eta \u001b[36m0:00:00\u001b[0m\n",
            "\u001b[2K   \u001b[90m━━━━━━━━━━━━━━━━━━━━━━━━━━━━━━━━━━━━━━━━\u001b[0m \u001b[32m207.5/207.5 MB\u001b[0m \u001b[31m6.6 MB/s\u001b[0m eta \u001b[36m0:00:00\u001b[0m\n",
            "\u001b[2K   \u001b[90m━━━━━━━━━━━━━━━━━━━━━━━━━━━━━━━━━━━━━━━━\u001b[0m \u001b[32m21.1/21.1 MB\u001b[0m \u001b[31m91.6 MB/s\u001b[0m eta \u001b[36m0:00:00\u001b[0m\n",
            "\u001b[?25hmlxtend version: 0.23.4\n"
          ]
        }
      ]
    },
    {
      "cell_type": "code",
      "source": [
        "# Import mlxtend upgraded version\n",
        "import mlxtend\n",
        "print(mlxtend.__version__)\n",
        "assert int(mlxtend.__version__.split(\".\")[1]) >= 19 # should be version 0.19.0 or higher"
      ],
      "metadata": {
        "id": "iN2GH3T83MpP",
        "outputId": "777714e8-9255-4f42-e252-5f88d2277bea",
        "colab": {
          "base_uri": "https://localhost:8080/"
        }
      },
      "execution_count": 32,
      "outputs": [
        {
          "output_type": "stream",
          "name": "stdout",
          "text": [
            "0.23.4\n"
          ]
        }
      ]
    },
    {
      "cell_type": "code",
      "source": [
        "# Make predictions across all test data\n",
        "from tqdm.auto import tqdm\n",
        "model_cpu.eval()\n",
        "y_preds = []\n",
        "with torch.inference_mode():\n",
        "  for batch, (X, y) in tqdm(enumerate(test_dataloader)):\n",
        "    # Make sure data on right device\n",
        "    X, y = X.to(device), y.to(device)\n",
        "    # Forward pass\n",
        "    y_pred_logits = model_cpu(X)\n",
        "    # Logits -> Pred probs -> Pred label\n",
        "    y_pred_labels = torch.argmax(torch.softmax(y_pred_logits, dim=1), dim=1)\n",
        "    # Append the labels to the preds list\n",
        "    y_preds.append(y_pred_labels)\n",
        "  y_preds=torch.cat(y_preds).cpu()\n",
        "len(y_preds)"
      ],
      "metadata": {
        "id": "f0hkwnv03RFq",
        "outputId": "192b4d80-fac2-4a5d-bdf5-94a4a1ce19e2",
        "colab": {
          "base_uri": "https://localhost:8080/",
          "height": 66,
          "referenced_widgets": [
            "0ee03a7b0c3e4add870dc3eefafa36b4",
            "78af188656bd4da88e7ebf720f969d8a",
            "9b04ee4e2e754619b1ccea2bef56ef91",
            "c291ecaa66fe438f82a83569248afcbe",
            "5e1f0eb564ae467b99c5118968acfe2c",
            "f1c089377480421cb9c10d8b7e5ef3b6",
            "b9b7c232a4cb4928a86655fe456d9d7c",
            "8d76f0a6a1044cf883abafd4bc10ca75",
            "9ddef0e79665438db44a9670ba4a47b0",
            "105b7d296cb94471b10a2ef48259006b",
            "440516c8549c4ef7a809d6f478b74257"
          ]
        }
      },
      "execution_count": 34,
      "outputs": [
        {
          "output_type": "display_data",
          "data": {
            "text/plain": [
              "0it [00:00, ?it/s]"
            ],
            "application/vnd.jupyter.widget-view+json": {
              "version_major": 2,
              "version_minor": 0,
              "model_id": "0ee03a7b0c3e4add870dc3eefafa36b4"
            }
          },
          "metadata": {}
        },
        {
          "output_type": "execute_result",
          "data": {
            "text/plain": [
              "10000"
            ]
          },
          "metadata": {},
          "execution_count": 34
        }
      ]
    },
    {
      "cell_type": "code",
      "source": [
        "test_data.targets[:10], y_preds[:10]"
      ],
      "metadata": {
        "id": "jteE7tnv3VAA",
        "outputId": "e726406a-d00a-4cce-91be-e98b16278945",
        "colab": {
          "base_uri": "https://localhost:8080/"
        }
      },
      "execution_count": 35,
      "outputs": [
        {
          "output_type": "execute_result",
          "data": {
            "text/plain": [
              "(tensor([7, 2, 1, 0, 4, 1, 4, 9, 5, 9]),\n",
              " tensor([7, 2, 1, 0, 4, 1, 4, 9, 5, 9]))"
            ]
          },
          "metadata": {},
          "execution_count": 35
        }
      ]
    },
    {
      "cell_type": "code",
      "source": [
        "from torchmetrics import ConfusionMatrix\n",
        "from mlxtend.plotting import plot_confusion_matrix\n",
        "\n",
        "# Setup confusion matrix\n",
        "confmat = ConfusionMatrix(task=\"multiclass\", num_classes=len(class_names))\n",
        "confmat_tensor = confmat(preds=y_preds,\n",
        "                         target=test_data.targets)\n",
        "\n",
        "# Plot the confusion matrix\n",
        "fix, ax = plot_confusion_matrix(\n",
        "    conf_mat=confmat_tensor.numpy(),\n",
        "    class_names=class_names,\n",
        "    figsize=(10, 7)\n",
        ")"
      ],
      "metadata": {
        "id": "FHn8R5nV3WqU",
        "outputId": "911688ae-cd17-4017-817d-2022f5506926",
        "colab": {
          "base_uri": "https://localhost:8080/",
          "height": 660
        }
      },
      "execution_count": 36,
      "outputs": [
        {
          "output_type": "display_data",
          "data": {
            "text/plain": [
              "<Figure size 1000x700 with 1 Axes>"
            ],
            "image/png": "[encoded data removed]"
          },
          "metadata": {}
        }
      ]
    },
    {
      "cell_type": "markdown",
      "source": [
        "## 12. Create a random tensor of shape `[1, 3, 64, 64]` and pass it through a `nn.Conv2d()` layer with various hyperparameter settings (these can be any settings you choose), what do you notice if the `kernel_size` parameter goes up and down?"
      ],
      "metadata": {
        "id": "lj6bDhoWxt2y"
      }
    },
    {
      "cell_type": "code",
      "source": [
        "random_tensor = torch.rand([1, 3, 64, 64])\n",
        "random_tensor.shape"
      ],
      "metadata": {
        "id": "leCTsqtSbR5P",
        "outputId": "21411d6c-6157-47ba-b3b9-439c4c818bfd",
        "colab": {
          "base_uri": "https://localhost:8080/"
        }
      },
      "execution_count": 37,
      "outputs": [
        {
          "output_type": "execute_result",
          "data": {
            "text/plain": [
              "torch.Size([1, 3, 64, 64])"
            ]
          },
          "metadata": {},
          "execution_count": 37
        }
      ]
    },
    {
      "cell_type": "code",
      "source": [
        "conv_layer = nn.Conv2d(in_channels=3,\n",
        "                       out_channels=64,\n",
        "                       kernel_size=2,\n",
        "                       stride=1,\n",
        "                       padding=1)\n",
        "\n",
        "print(f\"Random tensor original shape: {random_tensor.shape}\")\n",
        "random_tensor_through_conv_layer = conv_layer(random_tensor)\n",
        "print(f\"Random tensor through conv layer shape: {random_tensor_through_conv_layer.shape}\")"
      ],
      "metadata": {
        "id": "UiccL_q93bfw",
        "outputId": "afda4c5f-d66d-4efb-c9e9-7b6aa6c287cd",
        "colab": {
          "base_uri": "https://localhost:8080/"
        }
      },
      "execution_count": 43,
      "outputs": [
        {
          "output_type": "stream",
          "name": "stdout",
          "text": [
            "Random tensor original shape: torch.Size([1, 3, 64, 64])\n",
            "Random tensor through conv layer shape: torch.Size([1, 64, 65, 65])\n"
          ]
        }
      ]
    },
    {
      "cell_type": "markdown",
      "source": [
        "## 13. Use a model similar to the trained `model_2` from notebook 03 to make predictions on the test [`torchvision.datasets.FashionMNIST`](https://pytorch.org/vision/main/generated/torchvision.datasets.FashionMNIST.html) dataset.\n",
        "* Then plot some predictions where the model was wrong alongside what the label of the image should've been.\n",
        "* After visualing these predictions do you think it's more of a modelling error or a data error?\n",
        "* As in, could the model do better or are the labels of the data too close to each other (e.g. a \"Shirt\" label is too close to \"T-shirt/top\")?"
      ],
      "metadata": {
        "id": "VHS20cNTxwSi"
      }
    },
    {
      "cell_type": "code",
      "source": [
        "# Download FashionMNIST train & test\n",
        "from torchvision import datasets\n",
        "from torchvision import transforms\n",
        "\n",
        "fashion_mnist_train = datasets.FashionMNIST(root=\".\",\n",
        "                                            download=True,\n",
        "                                            train=True,\n",
        "                                            transform=transforms.ToTensor())\n",
        "\n",
        "fashion_mnist_test = datasets.FashionMNIST(root=\".\",\n",
        "                                           train=False,\n",
        "                                           download=True,\n",
        "                                           transform=transforms.ToTensor())\n",
        "\n",
        "len(fashion_mnist_train), len(fashion_mnist_test)"
      ],
      "metadata": {
        "id": "78a8LjtdbSZj",
        "outputId": "b8b63de9-0fa6-4e52-923c-c90aa8ae64d3",
        "colab": {
          "base_uri": "https://localhost:8080/"
        }
      },
      "execution_count": 44,
      "outputs": [
        {
          "output_type": "stream",
          "name": "stderr",
          "text": [
            "100%|██████████| 26.4M/26.4M [00:02<00:00, 11.0MB/s]\n",
            "100%|██████████| 29.5k/29.5k [00:00<00:00, 172kB/s]\n",
            "100%|██████████| 4.42M/4.42M [00:01<00:00, 3.27MB/s]\n",
            "100%|██████████| 5.15k/5.15k [00:00<00:00, 10.3MB/s]\n"
          ]
        },
        {
          "output_type": "execute_result",
          "data": {
            "text/plain": [
              "(60000, 10000)"
            ]
          },
          "metadata": {},
          "execution_count": 44
        }
      ]
    },
    {
      "cell_type": "code",
      "source": [
        "# Get the class names of the Fashion MNIST dataset\n",
        "fashion_mnist_class_names = fashion_mnist_train.classes\n",
        "fashion_mnist_class_names"
      ],
      "metadata": {
        "id": "ieD_2auc4YsQ",
        "outputId": "1cc6a075-785a-4c7b-faf1-b7bc687d5f80",
        "colab": {
          "base_uri": "https://localhost:8080/"
        }
      },
      "execution_count": 45,
      "outputs": [
        {
          "output_type": "execute_result",
          "data": {
            "text/plain": [
              "['T-shirt/top',\n",
              " 'Trouser',\n",
              " 'Pullover',\n",
              " 'Dress',\n",
              " 'Coat',\n",
              " 'Sandal',\n",
              " 'Shirt',\n",
              " 'Sneaker',\n",
              " 'Bag',\n",
              " 'Ankle boot']"
            ]
          },
          "metadata": {},
          "execution_count": 45
        }
      ]
    },
    {
      "cell_type": "code",
      "source": [
        "# Datasets --> Dataloader step\n",
        "from torch.utils.data import DataLoader\n",
        "\n",
        "fashion_mnist_train_dataloader = DataLoader(fashion_mnist_train,\n",
        "                                            batch_size=32,\n",
        "                                            shuffle=True)\n",
        "\n",
        "fashion_mnist_test_dataloader = DataLoader(fashion_mnist_test,\n",
        "                                           batch_size=32,\n",
        "                                           shuffle=False)\n",
        "\n",
        "len(fashion_mnist_train_dataloader), len(fashion_mnist_test_dataloader)"
      ],
      "metadata": {
        "id": "bzVAcpGx4a6D",
        "outputId": "691df0db-5d8f-4ee1-e672-30e0e7068e35",
        "colab": {
          "base_uri": "https://localhost:8080/"
        }
      },
      "execution_count": 46,
      "outputs": [
        {
          "output_type": "execute_result",
          "data": {
            "text/plain": [
              "(1875, 313)"
            ]
          },
          "metadata": {},
          "execution_count": 46
        }
      ]
    },
    {
      "cell_type": "code",
      "source": [
        "# model_2 is the same architecture as MNIST_model\n",
        "model_2 = MNIST_model(input_shape=1,\n",
        "                      hidden_units=10,\n",
        "                      output_shape=10).to(device)\n",
        "model_2"
      ],
      "metadata": {
        "id": "hMNfRhlr4fLb",
        "outputId": "bc686263-cde8-46d0-e132-fd3a52f76e5a",
        "colab": {
          "base_uri": "https://localhost:8080/"
        }
      },
      "execution_count": 47,
      "outputs": [
        {
          "output_type": "execute_result",
          "data": {
            "text/plain": [
              "MNIST_model(\n",
              "  (conv_block_1): Sequential(\n",
              "    (0): Conv2d(1, 10, kernel_size=(3, 3), stride=(1, 1), padding=(1, 1))\n",
              "    (1): ReLU()\n",
              "    (2): Conv2d(10, 10, kernel_size=(3, 3), stride=(1, 1), padding=(1, 1))\n",
              "    (3): ReLU()\n",
              "    (4): MaxPool2d(kernel_size=2, stride=2, padding=0, dilation=1, ceil_mode=False)\n",
              "  )\n",
              "  (conv_block_2): Sequential(\n",
              "    (0): Conv2d(10, 10, kernel_size=(3, 3), stride=(1, 1), padding=(1, 1))\n",
              "    (1): ReLU()\n",
              "    (2): Conv2d(10, 10, kernel_size=(3, 3), stride=(1, 1), padding=(1, 1))\n",
              "    (3): ReLU()\n",
              "    (4): MaxPool2d(kernel_size=2, stride=2, padding=0, dilation=1, ceil_mode=False)\n",
              "  )\n",
              "  (classifier): Sequential(\n",
              "    (0): Flatten(start_dim=1, end_dim=-1)\n",
              "    (1): Linear(in_features=490, out_features=10, bias=True)\n",
              "  )\n",
              ")"
            ]
          },
          "metadata": {},
          "execution_count": 47
        }
      ]
    },
    {
      "cell_type": "code",
      "source": [
        "# Setup loss and optimizer\n",
        "from torch import nn\n",
        "loss_fn = nn.CrossEntropyLoss()\n",
        "optimizer = torch.optim.SGD(model_2.parameters(), lr=0.01)"
      ],
      "metadata": {
        "id": "j2SGUct94hXc"
      },
      "execution_count": 48,
      "outputs": []
    },
    {
      "cell_type": "code",
      "source": [
        "# Setup metrics\n",
        "from tqdm.auto import tqdm\n",
        "from torchmetrics import Accuracy\n",
        "\n",
        "acc_fn = Accuracy(task = 'multiclass', num_classes=len(fashion_mnist_class_names)).to(device)\n",
        "\n",
        "# Setup training/testing loop\n",
        "epochs = 5\n",
        "for epoch in tqdm(range(epochs)):\n",
        "  train_loss, test_loss_total = 0, 0\n",
        "  train_acc, test_acc = 0, 0\n",
        "\n",
        "  ### Training\n",
        "  model_2.train()\n",
        "  for batch, (X_train, y_train) in enumerate(fashion_mnist_train_dataloader):\n",
        "    X_train, y_train = X_train.to(device), y_train.to(device)\n",
        "\n",
        "    # Forward pass and loss\n",
        "    y_pred = model_2(X_train)\n",
        "    loss = loss_fn(y_pred, y_train)\n",
        "    train_loss += loss\n",
        "    train_acc += acc_fn(y_pred, y_train)\n",
        "\n",
        "    # Backprop and gradient descent\n",
        "    optimizer.zero_grad()\n",
        "    loss.backward()\n",
        "    optimizer.step()\n",
        "\n",
        "  # Adjust the loss/acc (find the loss/acc per epoch)\n",
        "  train_loss /= len(fashion_mnist_train_dataloader)\n",
        "  train_acc /= len(fashion_mnist_train_dataloader)\n",
        "\n",
        "  ### Testing\n",
        "  model_2.eval()\n",
        "  with torch.inference_mode():\n",
        "    for batch, (X_test, y_test) in enumerate(fashion_mnist_test_dataloader):\n",
        "      X_test, y_test = X_test.to(device), y_test.to(device)\n",
        "\n",
        "      # Forward pass and loss\n",
        "      y_pred_test = model_2(X_test)\n",
        "      test_loss = loss_fn(y_pred_test, y_test)\n",
        "      test_loss_total += test_loss\n",
        "\n",
        "      test_acc += acc_fn(y_pred_test, y_test)\n",
        "\n",
        "    # Adjust the loss/acc (find the loss/acc per epoch)\n",
        "    test_loss /= len(fashion_mnist_test_dataloader)\n",
        "    test_acc /= len(fashion_mnist_test_dataloader)\n",
        "\n",
        "  # Print out what's happening\n",
        "  print(f\"Epoch: {epoch} | Train loss: {train_loss:.3f} | Train acc: {train_acc:.2f} | Test loss: {test_loss_total:.3f} | Test acc: {test_acc:.2f}\")"
      ],
      "metadata": {
        "id": "12dmHTH64jY9",
        "outputId": "d75717df-740b-44be-f30c-80ab10afc8b8",
        "colab": {
          "base_uri": "https://localhost:8080/",
          "height": 136,
          "referenced_widgets": [
            "5753d9f6816e4f0b86e460805fab1f09",
            "566d6a58915f4ef7a10825106958c7e7",
            "7a7ae0134b424530ae425305e7024482",
            "2d1c8601e8824570a9320bbe07f8ae15",
            "21c0de0e041547618e66bc8397aca270",
            "4b7eaadafb164e2da7ac7be15af5e18b",
            "1eea9520ea92481d9e672ec432f55a23",
            "1509cb7f49c14720a8ed878c1b3a6a9a",
            "757eb625bbfc42ed9293ccec47603bfd",
            "88909237f671491dadb1acd1b8542dd0",
            "cc8b9e44b8ef4ec392580031d564cb62"
          ]
        }
      },
      "execution_count": 49,
      "outputs": [
        {
          "output_type": "display_data",
          "data": {
            "text/plain": [
              "  0%|          | 0/5 [00:00<?, ?it/s]"
            ],
            "application/vnd.jupyter.widget-view+json": {
              "version_major": 2,
              "version_minor": 0,
              "model_id": "5753d9f6816e4f0b86e460805fab1f09"
            }
          },
          "metadata": {}
        },
        {
          "output_type": "stream",
          "name": "stdout",
          "text": [
            "Epoch: 0 | Train loss: 0.907 | Train acc: 0.68 | Test loss: 179.606 | Test acc: 0.78\n",
            "Epoch: 1 | Train loss: 0.486 | Train acc: 0.82 | Test loss: 141.684 | Test acc: 0.84\n",
            "Epoch: 2 | Train loss: 0.417 | Train acc: 0.85 | Test loss: 132.639 | Test acc: 0.85\n",
            "Epoch: 3 | Train loss: 0.381 | Train acc: 0.86 | Test loss: 119.806 | Test acc: 0.86\n",
            "Epoch: 4 | Train loss: 0.356 | Train acc: 0.87 | Test loss: 118.144 | Test acc: 0.87\n"
          ]
        }
      ]
    },
    {
      "cell_type": "code",
      "source": [
        "# Make predictions with trained model_2\n",
        "test_preds = []\n",
        "model_2.eval()\n",
        "with torch.inference_mode():\n",
        "  for X_test, y_test in tqdm(fashion_mnist_test_dataloader):\n",
        "    y_logits = model_2(X_test.to(device))\n",
        "    y_pred_probs = torch.softmax(y_logits, dim=1)\n",
        "    y_pred_labels = torch.argmax(y_pred_probs, dim=1)\n",
        "    test_preds.append(y_pred_labels)\n",
        "test_preds = torch.cat(test_preds).cpu() # matplotlib likes CPU\n",
        "test_preds[:10], len(test_preds)"
      ],
      "metadata": {
        "id": "HkvSUM7s4k1f",
        "outputId": "1b95167e-3c95-4fd8-9b06-64b282593e72",
        "colab": {
          "base_uri": "https://localhost:8080/",
          "height": 66,
          "referenced_widgets": [
            "cae6cd4c80fa4a0c9f3c56b2d91440e3",
            "1043a09f08ae41f39d3416e08af094ab",
            "0465829e231f48a5b61a4b53afbf795a",
            "0d81b43fa9ba45b2adfcbcd7a6d3286c",
            "3db52f089a2742859293e3a65799d7ec",
            "ddc531ed954246d69a8acf9acdc61c0b",
            "dfe7af55eaf9448bb6031ee5f8a56f7f",
            "c492770abc154f7cb2d19640d47b605c",
            "1fec9dc24c5c40d384794334c6181221",
            "6ddadbbd35fc48bcb79f676206dd0497",
            "c251b63606bc4c78bd0138c9034acc59"
          ]
        }
      },
      "execution_count": 50,
      "outputs": [
        {
          "output_type": "display_data",
          "data": {
            "text/plain": [
              "  0%|          | 0/313 [00:00<?, ?it/s]"
            ],
            "application/vnd.jupyter.widget-view+json": {
              "version_major": 2,
              "version_minor": 0,
              "model_id": "cae6cd4c80fa4a0c9f3c56b2d91440e3"
            }
          },
          "metadata": {}
        },
        {
          "output_type": "execute_result",
          "data": {
            "text/plain": [
              "(tensor([9, 2, 1, 1, 6, 1, 4, 6, 5, 7]), 10000)"
            ]
          },
          "metadata": {},
          "execution_count": 50
        }
      ]
    },
    {
      "cell_type": "code",
      "source": [
        "# Get wrong prediction indexes\n",
        "import numpy as np\n",
        "wrong_pred_indexes = np.where(test_preds != fashion_mnist_test.targets)[0]\n",
        "len(wrong_pred_indexes)"
      ],
      "metadata": {
        "id": "mNZPsmOA4mhD",
        "outputId": "73169246-f942-4dcb-c602-8a182ff4bb50",
        "colab": {
          "base_uri": "https://localhost:8080/"
        }
      },
      "execution_count": 51,
      "outputs": [
        {
          "output_type": "execute_result",
          "data": {
            "text/plain": [
              "1341"
            ]
          },
          "metadata": {},
          "execution_count": 51
        }
      ]
    },
    {
      "cell_type": "code",
      "source": [
        "# Select random 9 wrong predictions and plot them\n",
        "import random\n",
        "random_selection = random.sample(list(wrong_pred_indexes), k=9)\n",
        "\n",
        "plt.figure(figsize=(10, 10))\n",
        "for i, idx in enumerate(random_selection):\n",
        "  # Get true and pred labels\n",
        "  true_label = fashion_mnist_class_names[fashion_mnist_test[idx][1]]\n",
        "  pred_label = fashion_mnist_class_names[test_preds[idx]]\n",
        "\n",
        "  # Plot the wrong prediction with its original label\n",
        "  plt.subplot(3, 3, i+1)\n",
        "  plt.imshow(fashion_mnist_test[idx][0].squeeze(), cmap=\"gray\")\n",
        "  plt.title(f\"True: {true_label} | Pred: {pred_label}\", c=\"r\")\n",
        "  plt.axis(False);"
      ],
      "metadata": {
        "id": "M39MtcEz4n3L",
        "outputId": "656ff215-314d-428c-8c4f-7e96b4ceba9a",
        "colab": {
          "base_uri": "https://localhost:8080/",
          "height": 829
        }
      },
      "execution_count": 52,
      "outputs": [
        {
          "output_type": "display_data",
          "data": {
            "text/plain": [
              "<Figure size 1000x1000 with 9 Axes>"
            ],
            "image/png": "[encoded data removed]"
          },
          "metadata": {}
        }
      ]
    }
  ]
}